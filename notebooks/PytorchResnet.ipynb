{
 "cells": [
  {
   "cell_type": "code",
   "execution_count": 96,
   "metadata": {},
   "outputs": [],
   "source": [
    "import torch\n",
    "import torch.nn as nn\n",
    "import torch.optim as optim\n",
    "from torch.optim import lr_scheduler\n",
    "import numpy as np\n",
    "import torchvision\n",
    "from torchvision import datasets, models, transforms\n",
    "import matplotlib.pyplot as plt\n",
    "import time\n",
    "import os\n",
    "import pandas as pd\n",
    "from sklearn.model_selection import train_test_split\n",
    "import shutil\n",
    "import time\n",
    "import copy"
   ]
  },
  {
   "cell_type": "markdown",
   "metadata": {},
   "source": [
    "### Creating image datasets an data loaders for train and test"
   ]
  },
  {
   "cell_type": "code",
   "execution_count": 152,
   "metadata": {},
   "outputs": [],
   "source": [
    "data_path = '/Users/nischal/code/fontastic/data/dst'"
   ]
  },
  {
   "cell_type": "code",
   "execution_count": 153,
   "metadata": {},
   "outputs": [],
   "source": [
    "data_transforms = {\n",
    "    'train': transforms.Compose([\n",
    "        transforms.RandomResizedCrop(224),\n",
    "        transforms.ToTensor(), \n",
    "        transforms.Normalize([0.485, 0.456, 0.406], [0.229, 0.224, 0.225])\n",
    "    ]), \n",
    "    'test' : transforms.Compose([\n",
    "        transforms.Resize(256),\n",
    "        transforms.CenterCrop(224),\n",
    "        transforms.ToTensor(),\n",
    "        transforms.Normalize([0.485, 0.456, 0.406], [0.229, 0.224, 0.225])\n",
    "    ])\n",
    "}"
   ]
  },
  {
   "cell_type": "code",
   "execution_count": 154,
   "metadata": {},
   "outputs": [],
   "source": [
    "def generate_training_validation_data(data_path):\n",
    "    font_class = []\n",
    "    print(\"Data path is {}\".format(data_path))\n",
    "    for font_dir in os.listdir(data_path):\n",
    "        if font_dir != 'training':\n",
    "            for font_files in os.listdir(os.path.join(data_path, font_dir)):\n",
    "                file_class = {}\n",
    "                file_class['filepath'] = os.path.join(data_path, font_dir, font_files)\n",
    "                file_class['class'] = font_dir\n",
    "                font_class.append(file_class)\n",
    "    \n",
    "    font_class_df = pd.DataFrame(font_class)\n",
    "    X_train, X_test, y_train, y_test = train_test_split(font_class_df['filepath'], \n",
    "                                                        font_class_df['class'],\n",
    "                                                       test_size=0.2,\n",
    "                                                       stratify=font_class_df['class'])\n",
    "    \n",
    "    return X_train, X_test, y_train, y_test\n",
    "        "
   ]
  },
  {
   "cell_type": "code",
   "execution_count": 162,
   "metadata": {},
   "outputs": [],
   "source": [
    "train_dir = '/Users/nischal/code/fontastic/data/dst/train'\n",
    "test_dir = '/Users/nischal/code/fontastic/data/dst/test'\n",
    "\n",
    "if not os.path.exists(train_dir):\n",
    "    os.makedirs(train_dir)\n",
    "\n",
    "if not os.path.exists(test_dir):\n",
    "    os.makedirs(test_dir)\n"
   ]
  },
  {
   "cell_type": "code",
   "execution_count": 163,
   "metadata": {},
   "outputs": [
    {
     "name": "stdout",
     "output_type": "stream",
     "text": [
      "Data path is /Users/nischal/code/fontastic/data/dst\n"
     ]
    }
   ],
   "source": [
    "X_train, X_test, y_train, y_test = generate_training_validation_data(data_path)"
   ]
  },
  {
   "cell_type": "code",
   "execution_count": 164,
   "metadata": {},
   "outputs": [],
   "source": [
    "def copy_images_to_path(file_path, file_class, destination_dir):\n",
    "    font_folder = os.path.join(destination_dir, file_class)\n",
    "    if os.path.exists(font_folder) == False:\n",
    "        os.makedirs(font_folder)\n",
    "    \n",
    "    print(\"File being copied from {}:{}\".format(file_path, font_folder))\n",
    "    shutil.copy(file_path, font_folder)\n",
    "    #shutil.copyfile(file_path, font_folder)\n",
    "    "
   ]
  },
  {
   "cell_type": "code",
   "execution_count": 166,
   "metadata": {},
   "outputs": [
    {
     "name": "stdout",
     "output_type": "stream",
     "text": [
      "File being copied from /Users/nischal/code/fontastic/data/dst/Fahkwang/Fahkwang-Medium_1.jpg:/Users/nischal/code/fontastic/data/dst/train/Fahkwang\n",
      "File being copied from /Users/nischal/code/fontastic/data/dst/Major_Mono_Display/MajorMonoDisplay-Regular_0.jpg:/Users/nischal/code/fontastic/data/dst/train/Major_Mono_Display\n",
      "File being copied from /Users/nischal/code/fontastic/data/dst/Montserrat/Montserrat-ExtraBoldItalic_1.jpg:/Users/nischal/code/fontastic/data/dst/train/Montserrat\n",
      "File being copied from /Users/nischal/code/fontastic/data/dst/Lato/Lato-BoldItalic_0.jpg:/Users/nischal/code/fontastic/data/dst/train/Lato\n",
      "File being copied from /Users/nischal/code/fontastic/data/dst/Lora/Lora-Regular_0.jpg:/Users/nischal/code/fontastic/data/dst/train/Lora\n",
      "File being copied from /Users/nischal/code/fontastic/data/dst/roboto/Roboto-Bold_2.jpg:/Users/nischal/code/fontastic/data/dst/train/roboto\n",
      "File being copied from /Users/nischal/code/fontastic/data/dst/roboto/Roboto-Condensed_1.jpg:/Users/nischal/code/fontastic/data/dst/train/roboto\n",
      "File being copied from /Users/nischal/code/fontastic/data/dst/Montserrat/Montserrat-ExtraLight_3.jpg:/Users/nischal/code/fontastic/data/dst/train/Montserrat\n",
      "File being copied from /Users/nischal/code/fontastic/data/dst/Fahkwang/Fahkwang-ExtraLight_3.jpg:/Users/nischal/code/fontastic/data/dst/train/Fahkwang\n",
      "File being copied from /Users/nischal/code/fontastic/data/dst/Lato/Lato-Black_2.jpg:/Users/nischal/code/fontastic/data/dst/train/Lato\n",
      "File being copied from /Users/nischal/code/fontastic/data/dst/Nunito/Nunito-Italic_1.jpg:/Users/nischal/code/fontastic/data/dst/train/Nunito\n",
      "File being copied from /Users/nischal/code/fontastic/data/dst/Nunito/Nunito-ExtraBoldItalic_2.jpg:/Users/nischal/code/fontastic/data/dst/train/Nunito\n",
      "File being copied from /Users/nischal/code/fontastic/data/dst/Fahkwang/Fahkwang-Bold_0.jpg:/Users/nischal/code/fontastic/data/dst/train/Fahkwang\n",
      "File being copied from /Users/nischal/code/fontastic/data/dst/Montserrat/Montserrat-ThinItalic_0.jpg:/Users/nischal/code/fontastic/data/dst/train/Montserrat\n",
      "File being copied from /Users/nischal/code/fontastic/data/dst/Fahkwang/Fahkwang-BoldItalic_0.jpg:/Users/nischal/code/fontastic/data/dst/train/Fahkwang\n",
      "File being copied from /Users/nischal/code/fontastic/data/dst/Montserrat/Montserrat-Medium_2.jpg:/Users/nischal/code/fontastic/data/dst/train/Montserrat\n",
      "File being copied from /Users/nischal/code/fontastic/data/dst/Nunito/Nunito-Black_3.jpg:/Users/nischal/code/fontastic/data/dst/train/Nunito\n",
      "File being copied from /Users/nischal/code/fontastic/data/dst/Montserrat/Montserrat-Light_0.jpg:/Users/nischal/code/fontastic/data/dst/train/Montserrat\n",
      "File being copied from /Users/nischal/code/fontastic/data/dst/roboto/Roboto-MediumItalic_3.jpg:/Users/nischal/code/fontastic/data/dst/train/roboto\n",
      "File being copied from /Users/nischal/code/fontastic/data/dst/Fahkwang/Fahkwang-LightItalic_2.jpg:/Users/nischal/code/fontastic/data/dst/train/Fahkwang\n",
      "File being copied from /Users/nischal/code/fontastic/data/dst/Montserrat/Montserrat-Black_3.jpg:/Users/nischal/code/fontastic/data/dst/train/Montserrat\n",
      "File being copied from /Users/nischal/code/fontastic/data/dst/open-sans/OpenSans-ExtraBoldItalic_3.jpg:/Users/nischal/code/fontastic/data/dst/train/open-sans\n",
      "File being copied from /Users/nischal/code/fontastic/data/dst/open-sans/OpenSans-Italic_2.jpg:/Users/nischal/code/fontastic/data/dst/train/open-sans\n",
      "File being copied from /Users/nischal/code/fontastic/data/dst/Montserrat/Montserrat-MediumItalic_0.jpg:/Users/nischal/code/fontastic/data/dst/train/Montserrat\n",
      "File being copied from /Users/nischal/code/fontastic/data/dst/roboto/Roboto-Medium_0.jpg:/Users/nischal/code/fontastic/data/dst/train/roboto\n",
      "File being copied from /Users/nischal/code/fontastic/data/dst/Montserrat/Montserrat-SemiBold_3.jpg:/Users/nischal/code/fontastic/data/dst/train/Montserrat\n",
      "File being copied from /Users/nischal/code/fontastic/data/dst/Montserrat/Montserrat-Regular_3.jpg:/Users/nischal/code/fontastic/data/dst/train/Montserrat\n",
      "File being copied from /Users/nischal/code/fontastic/data/dst/open-sans/OpenSans-ExtraBoldItalic_0.jpg:/Users/nischal/code/fontastic/data/dst/train/open-sans\n",
      "File being copied from /Users/nischal/code/fontastic/data/dst/open-sans/OpenSans-Regular_0.jpg:/Users/nischal/code/fontastic/data/dst/train/open-sans\n",
      "File being copied from /Users/nischal/code/fontastic/data/dst/Fahkwang/Fahkwang-MediumItalic_2.jpg:/Users/nischal/code/fontastic/data/dst/train/Fahkwang\n",
      "File being copied from /Users/nischal/code/fontastic/data/dst/Lato/Lato-Regular_2.jpg:/Users/nischal/code/fontastic/data/dst/train/Lato\n",
      "File being copied from /Users/nischal/code/fontastic/data/dst/Fahkwang/Fahkwang-SemiBoldItalic_2.jpg:/Users/nischal/code/fontastic/data/dst/train/Fahkwang\n",
      "File being copied from /Users/nischal/code/fontastic/data/dst/Lato/Lato-Light_2.jpg:/Users/nischal/code/fontastic/data/dst/train/Lato\n",
      "File being copied from /Users/nischal/code/fontastic/data/dst/Nunito/Nunito-BoldItalic_2.jpg:/Users/nischal/code/fontastic/data/dst/train/Nunito\n",
      "File being copied from /Users/nischal/code/fontastic/data/dst/Montserrat/Montserrat-Bold_1.jpg:/Users/nischal/code/fontastic/data/dst/train/Montserrat\n",
      "File being copied from /Users/nischal/code/fontastic/data/dst/roboto/Roboto-Light_1.jpg:/Users/nischal/code/fontastic/data/dst/train/roboto\n",
      "File being copied from /Users/nischal/code/fontastic/data/dst/Lato/Lato-Bold_0.jpg:/Users/nischal/code/fontastic/data/dst/train/Lato\n",
      "File being copied from /Users/nischal/code/fontastic/data/dst/Montserrat/Montserrat-Italic_0.jpg:/Users/nischal/code/fontastic/data/dst/train/Montserrat\n",
      "File being copied from /Users/nischal/code/fontastic/data/dst/Fahkwang/Fahkwang-LightItalic_1.jpg:/Users/nischal/code/fontastic/data/dst/train/Fahkwang\n",
      "File being copied from /Users/nischal/code/fontastic/data/dst/roboto/Roboto-BoldCondensed_1.jpg:/Users/nischal/code/fontastic/data/dst/train/roboto\n",
      "File being copied from /Users/nischal/code/fontastic/data/dst/roboto/Roboto-BoldCondensed_0.jpg:/Users/nischal/code/fontastic/data/dst/train/roboto\n",
      "File being copied from /Users/nischal/code/fontastic/data/dst/Lato/Lato-Light_1.jpg:/Users/nischal/code/fontastic/data/dst/train/Lato\n",
      "File being copied from /Users/nischal/code/fontastic/data/dst/Montserrat/Montserrat-SemiBold_0.jpg:/Users/nischal/code/fontastic/data/dst/train/Montserrat\n",
      "File being copied from /Users/nischal/code/fontastic/data/dst/open-sans/OpenSans-Regular_1.jpg:/Users/nischal/code/fontastic/data/dst/train/open-sans\n",
      "File being copied from /Users/nischal/code/fontastic/data/dst/Fahkwang/Fahkwang-ExtraLight_0.jpg:/Users/nischal/code/fontastic/data/dst/train/Fahkwang\n",
      "File being copied from /Users/nischal/code/fontastic/data/dst/Lora/Lora-Bold_3.jpg:/Users/nischal/code/fontastic/data/dst/train/Lora\n",
      "File being copied from /Users/nischal/code/fontastic/data/dst/Merriweather/Merriweather-BoldItalic_1.jpg:/Users/nischal/code/fontastic/data/dst/train/Merriweather\n",
      "File being copied from /Users/nischal/code/fontastic/data/dst/Lato/Lato-BoldItalic_2.jpg:/Users/nischal/code/fontastic/data/dst/train/Lato\n",
      "File being copied from /Users/nischal/code/fontastic/data/dst/open-sans/OpenSans-SemiBoldItalic_1.jpg:/Users/nischal/code/fontastic/data/dst/train/open-sans\n",
      "File being copied from /Users/nischal/code/fontastic/data/dst/open-sans/OpenSans-Bold_0.jpg:/Users/nischal/code/fontastic/data/dst/train/open-sans\n",
      "File being copied from /Users/nischal/code/fontastic/data/dst/Montserrat/Montserrat-BoldItalic_1.jpg:/Users/nischal/code/fontastic/data/dst/train/Montserrat\n",
      "File being copied from /Users/nischal/code/fontastic/data/dst/Lora/Lora-BoldItalic_3.jpg:/Users/nischal/code/fontastic/data/dst/train/Lora\n",
      "File being copied from /Users/nischal/code/fontastic/data/dst/Lato/Lato-Italic_1.jpg:/Users/nischal/code/fontastic/data/dst/train/Lato\n",
      "File being copied from /Users/nischal/code/fontastic/data/dst/roboto/Roboto-Black_2.jpg:/Users/nischal/code/fontastic/data/dst/train/roboto\n",
      "File being copied from /Users/nischal/code/fontastic/data/dst/roboto/Roboto-Italic_1.jpg:/Users/nischal/code/fontastic/data/dst/train/roboto\n",
      "File being copied from /Users/nischal/code/fontastic/data/dst/Lato/Lato-Italic_3.jpg:/Users/nischal/code/fontastic/data/dst/train/Lato\n"
     ]
    },
    {
     "name": "stdout",
     "output_type": "stream",
     "text": [
      "File being copied from /Users/nischal/code/fontastic/data/dst/Nunito/Nunito-Light_3.jpg:/Users/nischal/code/fontastic/data/dst/train/Nunito\n",
      "File being copied from /Users/nischal/code/fontastic/data/dst/Montserrat/Montserrat-Thin_3.jpg:/Users/nischal/code/fontastic/data/dst/train/Montserrat\n",
      "File being copied from /Users/nischal/code/fontastic/data/dst/Fahkwang/Fahkwang-ExtraLight_1.jpg:/Users/nischal/code/fontastic/data/dst/train/Fahkwang\n",
      "File being copied from /Users/nischal/code/fontastic/data/dst/open-sans/OpenSans-Light_0.jpg:/Users/nischal/code/fontastic/data/dst/train/open-sans\n",
      "File being copied from /Users/nischal/code/fontastic/data/dst/Merriweather/Merriweather-Italic_0.jpg:/Users/nischal/code/fontastic/data/dst/train/Merriweather\n",
      "File being copied from /Users/nischal/code/fontastic/data/dst/Fahkwang/Fahkwang-Bold_2.jpg:/Users/nischal/code/fontastic/data/dst/train/Fahkwang\n",
      "File being copied from /Users/nischal/code/fontastic/data/dst/Lobster/Lobster-Regular_1.jpg:/Users/nischal/code/fontastic/data/dst/train/Lobster\n",
      "File being copied from /Users/nischal/code/fontastic/data/dst/Lato/Lato-Hairline_1.jpg:/Users/nischal/code/fontastic/data/dst/train/Lato\n",
      "File being copied from /Users/nischal/code/fontastic/data/dst/Lora/Lora-Regular_1.jpg:/Users/nischal/code/fontastic/data/dst/train/Lora\n",
      "File being copied from /Users/nischal/code/fontastic/data/dst/Merriweather/Merriweather-BlackItalic_1.jpg:/Users/nischal/code/fontastic/data/dst/train/Merriweather\n",
      "File being copied from /Users/nischal/code/fontastic/data/dst/Nunito/Nunito-SemiBoldItalic_1.jpg:/Users/nischal/code/fontastic/data/dst/train/Nunito\n",
      "File being copied from /Users/nischal/code/fontastic/data/dst/Lato/Lato-Regular_1.jpg:/Users/nischal/code/fontastic/data/dst/train/Lato\n",
      "File being copied from /Users/nischal/code/fontastic/data/dst/Merriweather/Merriweather-LightItalic_0.jpg:/Users/nischal/code/fontastic/data/dst/train/Merriweather\n",
      "File being copied from /Users/nischal/code/fontastic/data/dst/Lato/Lato-LightItalic_3.jpg:/Users/nischal/code/fontastic/data/dst/train/Lato\n",
      "File being copied from /Users/nischal/code/fontastic/data/dst/Lobster/Lobster-Regular_0.jpg:/Users/nischal/code/fontastic/data/dst/train/Lobster\n",
      "File being copied from /Users/nischal/code/fontastic/data/dst/Major_Mono_Display/MajorMonoDisplay-Regular_2.jpg:/Users/nischal/code/fontastic/data/dst/train/Major_Mono_Display\n",
      "File being copied from /Users/nischal/code/fontastic/data/dst/roboto/Roboto-ThinItalic_0.jpg:/Users/nischal/code/fontastic/data/dst/train/roboto\n",
      "File being copied from /Users/nischal/code/fontastic/data/dst/Nunito/Nunito-Regular_1.jpg:/Users/nischal/code/fontastic/data/dst/train/Nunito\n",
      "File being copied from /Users/nischal/code/fontastic/data/dst/roboto/Roboto-ThinItalic_1.jpg:/Users/nischal/code/fontastic/data/dst/train/roboto\n",
      "File being copied from /Users/nischal/code/fontastic/data/dst/Fahkwang/Fahkwang-Light_1.jpg:/Users/nischal/code/fontastic/data/dst/train/Fahkwang\n",
      "File being copied from /Users/nischal/code/fontastic/data/dst/Merriweather/Merriweather-Black_3.jpg:/Users/nischal/code/fontastic/data/dst/train/Merriweather\n",
      "File being copied from /Users/nischal/code/fontastic/data/dst/Lora/Lora-BoldItalic_1.jpg:/Users/nischal/code/fontastic/data/dst/train/Lora\n",
      "File being copied from /Users/nischal/code/fontastic/data/dst/Montserrat/Montserrat-BlackItalic_0.jpg:/Users/nischal/code/fontastic/data/dst/train/Montserrat\n",
      "File being copied from /Users/nischal/code/fontastic/data/dst/Nunito/Nunito-Italic_0.jpg:/Users/nischal/code/fontastic/data/dst/train/Nunito\n",
      "File being copied from /Users/nischal/code/fontastic/data/dst/Lato/Lato-HairlineItalic_0.jpg:/Users/nischal/code/fontastic/data/dst/train/Lato\n",
      "File being copied from /Users/nischal/code/fontastic/data/dst/Lato/Lato-Hairline_0.jpg:/Users/nischal/code/fontastic/data/dst/train/Lato\n",
      "File being copied from /Users/nischal/code/fontastic/data/dst/Lora/Lora-Italic_3.jpg:/Users/nischal/code/fontastic/data/dst/train/Lora\n",
      "File being copied from /Users/nischal/code/fontastic/data/dst/Merriweather/Merriweather-Light_3.jpg:/Users/nischal/code/fontastic/data/dst/train/Merriweather\n",
      "File being copied from /Users/nischal/code/fontastic/data/dst/Montserrat/Montserrat-Thin_2.jpg:/Users/nischal/code/fontastic/data/dst/train/Montserrat\n",
      "File being copied from /Users/nischal/code/fontastic/data/dst/Montserrat/Montserrat-Medium_3.jpg:/Users/nischal/code/fontastic/data/dst/train/Montserrat\n",
      "File being copied from /Users/nischal/code/fontastic/data/dst/Fahkwang/Fahkwang-Italic_3.jpg:/Users/nischal/code/fontastic/data/dst/train/Fahkwang\n",
      "File being copied from /Users/nischal/code/fontastic/data/dst/Nunito/Nunito-BoldItalic_3.jpg:/Users/nischal/code/fontastic/data/dst/train/Nunito\n",
      "File being copied from /Users/nischal/code/fontastic/data/dst/Montserrat/Montserrat-SemiBoldItalic_1.jpg:/Users/nischal/code/fontastic/data/dst/train/Montserrat\n",
      "File being copied from /Users/nischal/code/fontastic/data/dst/roboto/Roboto-ThinItalic_2.jpg:/Users/nischal/code/fontastic/data/dst/train/roboto\n",
      "File being copied from /Users/nischal/code/fontastic/data/dst/roboto/Roboto-Medium_1.jpg:/Users/nischal/code/fontastic/data/dst/train/roboto\n",
      "File being copied from /Users/nischal/code/fontastic/data/dst/Fahkwang/Fahkwang-SemiBoldItalic_1.jpg:/Users/nischal/code/fontastic/data/dst/train/Fahkwang\n",
      "File being copied from /Users/nischal/code/fontastic/data/dst/Nunito/Nunito-BlackItalic_0.jpg:/Users/nischal/code/fontastic/data/dst/train/Nunito\n",
      "File being copied from /Users/nischal/code/fontastic/data/dst/Montserrat/Montserrat-ExtraBoldItalic_2.jpg:/Users/nischal/code/fontastic/data/dst/train/Montserrat\n",
      "File being copied from /Users/nischal/code/fontastic/data/dst/roboto/Roboto-LightItalic_2.jpg:/Users/nischal/code/fontastic/data/dst/train/roboto\n",
      "File being copied from /Users/nischal/code/fontastic/data/dst/Nunito/Nunito-ExtraBold_1.jpg:/Users/nischal/code/fontastic/data/dst/train/Nunito\n",
      "File being copied from /Users/nischal/code/fontastic/data/dst/Lora/Lora-BoldItalic_2.jpg:/Users/nischal/code/fontastic/data/dst/train/Lora\n",
      "File being copied from /Users/nischal/code/fontastic/data/dst/Lato/Lato-LightItalic_0.jpg:/Users/nischal/code/fontastic/data/dst/train/Lato\n",
      "File being copied from /Users/nischal/code/fontastic/data/dst/open-sans/OpenSans-Light_1.jpg:/Users/nischal/code/fontastic/data/dst/train/open-sans\n",
      "File being copied from /Users/nischal/code/fontastic/data/dst/Lato/Lato-BlackItalic_1.jpg:/Users/nischal/code/fontastic/data/dst/train/Lato\n",
      "File being copied from /Users/nischal/code/fontastic/data/dst/Merriweather/Merriweather-Bold_2.jpg:/Users/nischal/code/fontastic/data/dst/train/Merriweather\n",
      "File being copied from /Users/nischal/code/fontastic/data/dst/Montserrat/Montserrat-ExtraLightItalic_0.jpg:/Users/nischal/code/fontastic/data/dst/train/Montserrat\n",
      "File being copied from /Users/nischal/code/fontastic/data/dst/Nunito/Nunito-SemiBold_0.jpg:/Users/nischal/code/fontastic/data/dst/train/Nunito\n",
      "File being copied from /Users/nischal/code/fontastic/data/dst/Nunito/Nunito-ExtraLightItalic_0.jpg:/Users/nischal/code/fontastic/data/dst/train/Nunito\n",
      "File being copied from /Users/nischal/code/fontastic/data/dst/roboto/Roboto-BoldItalic_2.jpg:/Users/nischal/code/fontastic/data/dst/train/roboto\n",
      "File being copied from /Users/nischal/code/fontastic/data/dst/open-sans/OpenSans-SemiBoldItalic_3.jpg:/Users/nischal/code/fontastic/data/dst/train/open-sans\n",
      "File being copied from /Users/nischal/code/fontastic/data/dst/roboto/Roboto-Light_0.jpg:/Users/nischal/code/fontastic/data/dst/train/roboto\n",
      "File being copied from /Users/nischal/code/fontastic/data/dst/Montserrat/Montserrat-SemiBold_1.jpg:/Users/nischal/code/fontastic/data/dst/train/Montserrat\n",
      "File being copied from /Users/nischal/code/fontastic/data/dst/Montserrat/Montserrat-Regular_0.jpg:/Users/nischal/code/fontastic/data/dst/train/Montserrat\n",
      "File being copied from /Users/nischal/code/fontastic/data/dst/Montserrat/Montserrat-Italic_2.jpg:/Users/nischal/code/fontastic/data/dst/train/Montserrat\n",
      "File being copied from /Users/nischal/code/fontastic/data/dst/Nunito/Nunito-ExtraBold_0.jpg:/Users/nischal/code/fontastic/data/dst/train/Nunito\n",
      "File being copied from /Users/nischal/code/fontastic/data/dst/Montserrat/Montserrat-Light_1.jpg:/Users/nischal/code/fontastic/data/dst/train/Montserrat\n",
      "File being copied from /Users/nischal/code/fontastic/data/dst/roboto/Roboto-CondensedItalic_3.jpg:/Users/nischal/code/fontastic/data/dst/train/roboto\n"
     ]
    },
    {
     "name": "stdout",
     "output_type": "stream",
     "text": [
      "File being copied from /Users/nischal/code/fontastic/data/dst/Montserrat/Montserrat-ThinItalic_3.jpg:/Users/nischal/code/fontastic/data/dst/train/Montserrat\n",
      "File being copied from /Users/nischal/code/fontastic/data/dst/roboto/Roboto-BoldItalic_1.jpg:/Users/nischal/code/fontastic/data/dst/train/roboto\n",
      "File being copied from /Users/nischal/code/fontastic/data/dst/Major_Mono_Display/MajorMonoDisplay-Regular_3.jpg:/Users/nischal/code/fontastic/data/dst/train/Major_Mono_Display\n",
      "File being copied from /Users/nischal/code/fontastic/data/dst/open-sans/OpenSans-BoldItalic_1.jpg:/Users/nischal/code/fontastic/data/dst/train/open-sans\n",
      "File being copied from /Users/nischal/code/fontastic/data/dst/Nunito/Nunito-LightItalic_3.jpg:/Users/nischal/code/fontastic/data/dst/train/Nunito\n",
      "File being copied from /Users/nischal/code/fontastic/data/dst/Merriweather/Merriweather-LightItalic_3.jpg:/Users/nischal/code/fontastic/data/dst/train/Merriweather\n",
      "File being copied from /Users/nischal/code/fontastic/data/dst/roboto/Roboto-BoldCondensedItalic_1.jpg:/Users/nischal/code/fontastic/data/dst/train/roboto\n",
      "File being copied from /Users/nischal/code/fontastic/data/dst/Merriweather/Merriweather-Italic_3.jpg:/Users/nischal/code/fontastic/data/dst/train/Merriweather\n",
      "File being copied from /Users/nischal/code/fontastic/data/dst/open-sans/OpenSans-Bold_1.jpg:/Users/nischal/code/fontastic/data/dst/train/open-sans\n",
      "File being copied from /Users/nischal/code/fontastic/data/dst/roboto/Roboto-Regular_3.jpg:/Users/nischal/code/fontastic/data/dst/train/roboto\n",
      "File being copied from /Users/nischal/code/fontastic/data/dst/Merriweather/Merriweather-Black_0.jpg:/Users/nischal/code/fontastic/data/dst/train/Merriweather\n",
      "File being copied from /Users/nischal/code/fontastic/data/dst/Montserrat/Montserrat-LightItalic_1.jpg:/Users/nischal/code/fontastic/data/dst/train/Montserrat\n",
      "File being copied from /Users/nischal/code/fontastic/data/dst/Lobster/Lobster-Regular_2.jpg:/Users/nischal/code/fontastic/data/dst/train/Lobster\n",
      "File being copied from /Users/nischal/code/fontastic/data/dst/roboto/Roboto-Italic_0.jpg:/Users/nischal/code/fontastic/data/dst/train/roboto\n",
      "File being copied from /Users/nischal/code/fontastic/data/dst/Merriweather/Merriweather-Regular_3.jpg:/Users/nischal/code/fontastic/data/dst/train/Merriweather\n",
      "File being copied from /Users/nischal/code/fontastic/data/dst/Lato/Lato-Bold_1.jpg:/Users/nischal/code/fontastic/data/dst/train/Lato\n",
      "File being copied from /Users/nischal/code/fontastic/data/dst/open-sans/OpenSans-SemiBoldItalic_2.jpg:/Users/nischal/code/fontastic/data/dst/train/open-sans\n",
      "File being copied from /Users/nischal/code/fontastic/data/dst/Montserrat/Montserrat-Medium_0.jpg:/Users/nischal/code/fontastic/data/dst/train/Montserrat\n",
      "File being copied from /Users/nischal/code/fontastic/data/dst/Lato/Lato-Black_3.jpg:/Users/nischal/code/fontastic/data/dst/train/Lato\n",
      "File being copied from /Users/nischal/code/fontastic/data/dst/Montserrat/Montserrat-SemiBoldItalic_3.jpg:/Users/nischal/code/fontastic/data/dst/train/Montserrat\n",
      "File being copied from /Users/nischal/code/fontastic/data/dst/Montserrat/Montserrat-ExtraBold_1.jpg:/Users/nischal/code/fontastic/data/dst/train/Montserrat\n",
      "File being copied from /Users/nischal/code/fontastic/data/dst/Montserrat/Montserrat-Bold_3.jpg:/Users/nischal/code/fontastic/data/dst/train/Montserrat\n",
      "File being copied from /Users/nischal/code/fontastic/data/dst/roboto/Roboto-Bold_1.jpg:/Users/nischal/code/fontastic/data/dst/train/roboto\n",
      "File being copied from /Users/nischal/code/fontastic/data/dst/Lora/Lora-Italic_0.jpg:/Users/nischal/code/fontastic/data/dst/train/Lora\n",
      "File being copied from /Users/nischal/code/fontastic/data/dst/Montserrat/Montserrat-SemiBold_2.jpg:/Users/nischal/code/fontastic/data/dst/train/Montserrat\n",
      "File being copied from /Users/nischal/code/fontastic/data/dst/roboto/Roboto-BoldItalic_3.jpg:/Users/nischal/code/fontastic/data/dst/train/roboto\n",
      "File being copied from /Users/nischal/code/fontastic/data/dst/Fahkwang/Fahkwang-SemiBold_2.jpg:/Users/nischal/code/fontastic/data/dst/train/Fahkwang\n",
      "File being copied from /Users/nischal/code/fontastic/data/dst/Fahkwang/Fahkwang-Regular_1.jpg:/Users/nischal/code/fontastic/data/dst/train/Fahkwang\n",
      "File being copied from /Users/nischal/code/fontastic/data/dst/Fahkwang/Fahkwang-MediumItalic_3.jpg:/Users/nischal/code/fontastic/data/dst/train/Fahkwang\n",
      "File being copied from /Users/nischal/code/fontastic/data/dst/open-sans/OpenSans-ExtraBold_1.jpg:/Users/nischal/code/fontastic/data/dst/train/open-sans\n",
      "File being copied from /Users/nischal/code/fontastic/data/dst/roboto/Roboto-Condensed_3.jpg:/Users/nischal/code/fontastic/data/dst/train/roboto\n",
      "File being copied from /Users/nischal/code/fontastic/data/dst/Lora/Lora-Regular_3.jpg:/Users/nischal/code/fontastic/data/dst/train/Lora\n",
      "File being copied from /Users/nischal/code/fontastic/data/dst/Nunito/Nunito-ExtraLight_1.jpg:/Users/nischal/code/fontastic/data/dst/train/Nunito\n",
      "File being copied from /Users/nischal/code/fontastic/data/dst/Montserrat/Montserrat-ThinItalic_1.jpg:/Users/nischal/code/fontastic/data/dst/train/Montserrat\n",
      "File being copied from /Users/nischal/code/fontastic/data/dst/Nunito/Nunito-ExtraBoldItalic_0.jpg:/Users/nischal/code/fontastic/data/dst/train/Nunito\n",
      "File being copied from /Users/nischal/code/fontastic/data/dst/Fahkwang/Fahkwang-Medium_3.jpg:/Users/nischal/code/fontastic/data/dst/train/Fahkwang\n",
      "File being copied from /Users/nischal/code/fontastic/data/dst/Lora/Lora-Italic_2.jpg:/Users/nischal/code/fontastic/data/dst/train/Lora\n",
      "File being copied from /Users/nischal/code/fontastic/data/dst/open-sans/OpenSans-Italic_1.jpg:/Users/nischal/code/fontastic/data/dst/train/open-sans\n",
      "File being copied from /Users/nischal/code/fontastic/data/dst/Fahkwang/Fahkwang-MediumItalic_1.jpg:/Users/nischal/code/fontastic/data/dst/train/Fahkwang\n",
      "File being copied from /Users/nischal/code/fontastic/data/dst/Fahkwang/Fahkwang-Light_0.jpg:/Users/nischal/code/fontastic/data/dst/train/Fahkwang\n",
      "File being copied from /Users/nischal/code/fontastic/data/dst/Nunito/Nunito-Regular_2.jpg:/Users/nischal/code/fontastic/data/dst/train/Nunito\n",
      "File being copied from /Users/nischal/code/fontastic/data/dst/Montserrat/Montserrat-ExtraBold_2.jpg:/Users/nischal/code/fontastic/data/dst/train/Montserrat\n",
      "File being copied from /Users/nischal/code/fontastic/data/dst/Fahkwang/Fahkwang-Light_3.jpg:/Users/nischal/code/fontastic/data/dst/train/Fahkwang\n",
      "File being copied from /Users/nischal/code/fontastic/data/dst/Nunito/Nunito-LightItalic_2.jpg:/Users/nischal/code/fontastic/data/dst/train/Nunito\n",
      "File being copied from /Users/nischal/code/fontastic/data/dst/Fahkwang/Fahkwang-ExtraLightItalic_1.jpg:/Users/nischal/code/fontastic/data/dst/train/Fahkwang\n",
      "File being copied from /Users/nischal/code/fontastic/data/dst/Montserrat/Montserrat-SemiBoldItalic_0.jpg:/Users/nischal/code/fontastic/data/dst/train/Montserrat\n",
      "File being copied from /Users/nischal/code/fontastic/data/dst/open-sans/OpenSans-Bold_2.jpg:/Users/nischal/code/fontastic/data/dst/train/open-sans\n",
      "File being copied from /Users/nischal/code/fontastic/data/dst/Fahkwang/Fahkwang-Regular_3.jpg:/Users/nischal/code/fontastic/data/dst/train/Fahkwang\n",
      "File being copied from /Users/nischal/code/fontastic/data/dst/Nunito/Nunito-Light_2.jpg:/Users/nischal/code/fontastic/data/dst/train/Nunito\n",
      "File being copied from /Users/nischal/code/fontastic/data/dst/open-sans/OpenSans-ExtraBoldItalic_2.jpg:/Users/nischal/code/fontastic/data/dst/train/open-sans\n",
      "File being copied from /Users/nischal/code/fontastic/data/dst/Nunito/Nunito-SemiBold_2.jpg:/Users/nischal/code/fontastic/data/dst/train/Nunito\n",
      "File being copied from /Users/nischal/code/fontastic/data/dst/roboto/Roboto-Regular_2.jpg:/Users/nischal/code/fontastic/data/dst/train/roboto\n",
      "File being copied from /Users/nischal/code/fontastic/data/dst/Lato/Lato-BoldItalic_3.jpg:/Users/nischal/code/fontastic/data/dst/train/Lato\n",
      "File being copied from /Users/nischal/code/fontastic/data/dst/Merriweather/Merriweather-BlackItalic_2.jpg:/Users/nischal/code/fontastic/data/dst/train/Merriweather\n",
      "File being copied from /Users/nischal/code/fontastic/data/dst/Lora/Lora-Regular_2.jpg:/Users/nischal/code/fontastic/data/dst/train/Lora\n",
      "File being copied from /Users/nischal/code/fontastic/data/dst/Montserrat/Montserrat-MediumItalic_2.jpg:/Users/nischal/code/fontastic/data/dst/train/Montserrat\n",
      "File being copied from /Users/nischal/code/fontastic/data/dst/roboto/Roboto-BlackItalic_0.jpg:/Users/nischal/code/fontastic/data/dst/train/roboto\n",
      "File being copied from /Users/nischal/code/fontastic/data/dst/Lato/Lato-Regular_3.jpg:/Users/nischal/code/fontastic/data/dst/train/Lato\n",
      "File being copied from /Users/nischal/code/fontastic/data/dst/roboto/Roboto-MediumItalic_1.jpg:/Users/nischal/code/fontastic/data/dst/train/roboto\n"
     ]
    },
    {
     "name": "stdout",
     "output_type": "stream",
     "text": [
      "File being copied from /Users/nischal/code/fontastic/data/dst/Nunito/Nunito-ExtraLightItalic_2.jpg:/Users/nischal/code/fontastic/data/dst/train/Nunito\n",
      "File being copied from /Users/nischal/code/fontastic/data/dst/roboto/Roboto-Light_3.jpg:/Users/nischal/code/fontastic/data/dst/train/roboto\n",
      "File being copied from /Users/nischal/code/fontastic/data/dst/Montserrat/Montserrat-ExtraBoldItalic_3.jpg:/Users/nischal/code/fontastic/data/dst/train/Montserrat\n",
      "File being copied from /Users/nischal/code/fontastic/data/dst/Merriweather/Merriweather-Italic_2.jpg:/Users/nischal/code/fontastic/data/dst/train/Merriweather\n",
      "File being copied from /Users/nischal/code/fontastic/data/dst/Fahkwang/Fahkwang-ExtraLightItalic_0.jpg:/Users/nischal/code/fontastic/data/dst/train/Fahkwang\n",
      "File being copied from /Users/nischal/code/fontastic/data/dst/Montserrat/Montserrat-ExtraLightItalic_3.jpg:/Users/nischal/code/fontastic/data/dst/train/Montserrat\n",
      "File being copied from /Users/nischal/code/fontastic/data/dst/Montserrat/Montserrat-BlackItalic_2.jpg:/Users/nischal/code/fontastic/data/dst/train/Montserrat\n",
      "File being copied from /Users/nischal/code/fontastic/data/dst/open-sans/OpenSans-BoldItalic_2.jpg:/Users/nischal/code/fontastic/data/dst/train/open-sans\n",
      "File being copied from /Users/nischal/code/fontastic/data/dst/roboto/Roboto-BoldCondensed_3.jpg:/Users/nischal/code/fontastic/data/dst/train/roboto\n",
      "File being copied from /Users/nischal/code/fontastic/data/dst/Montserrat/Montserrat-ThinItalic_2.jpg:/Users/nischal/code/fontastic/data/dst/train/Montserrat\n",
      "File being copied from /Users/nischal/code/fontastic/data/dst/Montserrat/Montserrat-BoldItalic_3.jpg:/Users/nischal/code/fontastic/data/dst/train/Montserrat\n",
      "File being copied from /Users/nischal/code/fontastic/data/dst/Nunito/Nunito-LightItalic_1.jpg:/Users/nischal/code/fontastic/data/dst/train/Nunito\n",
      "File being copied from /Users/nischal/code/fontastic/data/dst/Lato/Lato-LightItalic_2.jpg:/Users/nischal/code/fontastic/data/dst/train/Lato\n",
      "File being copied from /Users/nischal/code/fontastic/data/dst/open-sans/OpenSans-SemiBold_1.jpg:/Users/nischal/code/fontastic/data/dst/train/open-sans\n",
      "File being copied from /Users/nischal/code/fontastic/data/dst/Montserrat/Montserrat-ExtraLight_1.jpg:/Users/nischal/code/fontastic/data/dst/train/Montserrat\n",
      "File being copied from /Users/nischal/code/fontastic/data/dst/Merriweather/Merriweather-Light_2.jpg:/Users/nischal/code/fontastic/data/dst/train/Merriweather\n",
      "File being copied from /Users/nischal/code/fontastic/data/dst/Lato/Lato-HairlineItalic_2.jpg:/Users/nischal/code/fontastic/data/dst/train/Lato\n",
      "File being copied from /Users/nischal/code/fontastic/data/dst/Merriweather/Merriweather-Black_2.jpg:/Users/nischal/code/fontastic/data/dst/train/Merriweather\n",
      "File being copied from /Users/nischal/code/fontastic/data/dst/Lato/Lato-Bold_3.jpg:/Users/nischal/code/fontastic/data/dst/train/Lato\n",
      "File being copied from /Users/nischal/code/fontastic/data/dst/Montserrat/Montserrat-Medium_1.jpg:/Users/nischal/code/fontastic/data/dst/train/Montserrat\n",
      "File being copied from /Users/nischal/code/fontastic/data/dst/Merriweather/Merriweather-Regular_2.jpg:/Users/nischal/code/fontastic/data/dst/train/Merriweather\n",
      "File being copied from /Users/nischal/code/fontastic/data/dst/Nunito/Nunito-ExtraLightItalic_1.jpg:/Users/nischal/code/fontastic/data/dst/train/Nunito\n",
      "File being copied from /Users/nischal/code/fontastic/data/dst/Montserrat/Montserrat-ExtraLightItalic_2.jpg:/Users/nischal/code/fontastic/data/dst/train/Montserrat\n",
      "File being copied from /Users/nischal/code/fontastic/data/dst/open-sans/OpenSans-ExtraBold_2.jpg:/Users/nischal/code/fontastic/data/dst/train/open-sans\n",
      "File being copied from /Users/nischal/code/fontastic/data/dst/Fahkwang/Fahkwang-LightItalic_3.jpg:/Users/nischal/code/fontastic/data/dst/train/Fahkwang\n",
      "File being copied from /Users/nischal/code/fontastic/data/dst/roboto/Roboto-Thin_3.jpg:/Users/nischal/code/fontastic/data/dst/train/roboto\n",
      "File being copied from /Users/nischal/code/fontastic/data/dst/Nunito/Nunito-Black_1.jpg:/Users/nischal/code/fontastic/data/dst/train/Nunito\n",
      "File being copied from /Users/nischal/code/fontastic/data/dst/open-sans/OpenSans-SemiBold_3.jpg:/Users/nischal/code/fontastic/data/dst/train/open-sans\n",
      "File being copied from /Users/nischal/code/fontastic/data/dst/Lato/Lato-BlackItalic_3.jpg:/Users/nischal/code/fontastic/data/dst/train/Lato\n",
      "File being copied from /Users/nischal/code/fontastic/data/dst/open-sans/OpenSans-BoldItalic_3.jpg:/Users/nischal/code/fontastic/data/dst/train/open-sans\n",
      "File being copied from /Users/nischal/code/fontastic/data/dst/open-sans/OpenSans-LightItalic_0.jpg:/Users/nischal/code/fontastic/data/dst/train/open-sans\n",
      "File being copied from /Users/nischal/code/fontastic/data/dst/Lato/Lato-Black_1.jpg:/Users/nischal/code/fontastic/data/dst/train/Lato\n",
      "File being copied from /Users/nischal/code/fontastic/data/dst/Fahkwang/Fahkwang-SemiBold_0.jpg:/Users/nischal/code/fontastic/data/dst/train/Fahkwang\n",
      "File being copied from /Users/nischal/code/fontastic/data/dst/Nunito/Nunito-ExtraLight_0.jpg:/Users/nischal/code/fontastic/data/dst/train/Nunito\n",
      "File being copied from /Users/nischal/code/fontastic/data/dst/roboto/Roboto-BoldCondensed_2.jpg:/Users/nischal/code/fontastic/data/dst/train/roboto\n",
      "File being copied from /Users/nischal/code/fontastic/data/dst/Montserrat/Montserrat-BoldItalic_2.jpg:/Users/nischal/code/fontastic/data/dst/train/Montserrat\n",
      "File being copied from /Users/nischal/code/fontastic/data/dst/roboto/Roboto-Italic_3.jpg:/Users/nischal/code/fontastic/data/dst/train/roboto\n",
      "File being copied from /Users/nischal/code/fontastic/data/dst/Nunito/Nunito-BlackItalic_2.jpg:/Users/nischal/code/fontastic/data/dst/train/Nunito\n",
      "File being copied from /Users/nischal/code/fontastic/data/dst/Fahkwang/Fahkwang-SemiBold_1.jpg:/Users/nischal/code/fontastic/data/dst/train/Fahkwang\n",
      "File being copied from /Users/nischal/code/fontastic/data/dst/Montserrat/Montserrat-LightItalic_2.jpg:/Users/nischal/code/fontastic/data/dst/train/Montserrat\n",
      "File being copied from /Users/nischal/code/fontastic/data/dst/Montserrat/Montserrat-BoldItalic_0.jpg:/Users/nischal/code/fontastic/data/dst/train/Montserrat\n",
      "File being copied from /Users/nischal/code/fontastic/data/dst/open-sans/OpenSans-SemiBold_0.jpg:/Users/nischal/code/fontastic/data/dst/train/open-sans\n",
      "File being copied from /Users/nischal/code/fontastic/data/dst/open-sans/OpenSans-BoldItalic_0.jpg:/Users/nischal/code/fontastic/data/dst/train/open-sans\n",
      "File being copied from /Users/nischal/code/fontastic/data/dst/open-sans/OpenSans-Light_3.jpg:/Users/nischal/code/fontastic/data/dst/train/open-sans\n",
      "File being copied from /Users/nischal/code/fontastic/data/dst/Fahkwang/Fahkwang-MediumItalic_0.jpg:/Users/nischal/code/fontastic/data/dst/train/Fahkwang\n",
      "File being copied from /Users/nischal/code/fontastic/data/dst/Nunito/Nunito-ExtraLightItalic_3.jpg:/Users/nischal/code/fontastic/data/dst/train/Nunito\n",
      "File being copied from /Users/nischal/code/fontastic/data/dst/Montserrat/Montserrat-Regular_2.jpg:/Users/nischal/code/fontastic/data/dst/train/Montserrat\n",
      "File being copied from /Users/nischal/code/fontastic/data/dst/Montserrat/Montserrat-ExtraLightItalic_1.jpg:/Users/nischal/code/fontastic/data/dst/train/Montserrat\n",
      "File being copied from /Users/nischal/code/fontastic/data/dst/open-sans/OpenSans-Regular_3.jpg:/Users/nischal/code/fontastic/data/dst/train/open-sans\n",
      "File being copied from /Users/nischal/code/fontastic/data/dst/Montserrat/Montserrat-Light_2.jpg:/Users/nischal/code/fontastic/data/dst/train/Montserrat\n",
      "File being copied from /Users/nischal/code/fontastic/data/dst/Merriweather/Merriweather-Bold_1.jpg:/Users/nischal/code/fontastic/data/dst/train/Merriweather\n",
      "File being copied from /Users/nischal/code/fontastic/data/dst/Montserrat/Montserrat-Bold_2.jpg:/Users/nischal/code/fontastic/data/dst/train/Montserrat\n",
      "File being copied from /Users/nischal/code/fontastic/data/dst/roboto/Roboto-Bold_3.jpg:/Users/nischal/code/fontastic/data/dst/train/roboto\n",
      "File being copied from /Users/nischal/code/fontastic/data/dst/Nunito/Nunito-SemiBoldItalic_0.jpg:/Users/nischal/code/fontastic/data/dst/train/Nunito\n",
      "File being copied from /Users/nischal/code/fontastic/data/dst/open-sans/OpenSans-SemiBoldItalic_0.jpg:/Users/nischal/code/fontastic/data/dst/train/open-sans\n",
      "File being copied from /Users/nischal/code/fontastic/data/dst/roboto/Roboto-Medium_3.jpg:/Users/nischal/code/fontastic/data/dst/train/roboto\n",
      "File being copied from /Users/nischal/code/fontastic/data/dst/open-sans/OpenSans-LightItalic_2.jpg:/Users/nischal/code/fontastic/data/dst/train/open-sans\n"
     ]
    },
    {
     "name": "stdout",
     "output_type": "stream",
     "text": [
      "File being copied from /Users/nischal/code/fontastic/data/dst/Nunito/Nunito-Light_0.jpg:/Users/nischal/code/fontastic/data/dst/train/Nunito\n",
      "File being copied from /Users/nischal/code/fontastic/data/dst/roboto/Roboto-CondensedItalic_0.jpg:/Users/nischal/code/fontastic/data/dst/train/roboto\n",
      "File being copied from /Users/nischal/code/fontastic/data/dst/roboto/Roboto-LightItalic_1.jpg:/Users/nischal/code/fontastic/data/dst/train/roboto\n",
      "File being copied from /Users/nischal/code/fontastic/data/dst/Montserrat/Montserrat-BlackItalic_1.jpg:/Users/nischal/code/fontastic/data/dst/train/Montserrat\n",
      "File being copied from /Users/nischal/code/fontastic/data/dst/Montserrat/Montserrat-Thin_1.jpg:/Users/nischal/code/fontastic/data/dst/train/Montserrat\n",
      "File being copied from /Users/nischal/code/fontastic/data/dst/roboto/Roboto-Black_1.jpg:/Users/nischal/code/fontastic/data/dst/train/roboto\n",
      "File being copied from /Users/nischal/code/fontastic/data/dst/Lato/Lato-Regular_0.jpg:/Users/nischal/code/fontastic/data/dst/train/Lato\n",
      "File being copied from /Users/nischal/code/fontastic/data/dst/Fahkwang/Fahkwang-ExtraLight_2.jpg:/Users/nischal/code/fontastic/data/dst/train/Fahkwang\n",
      "File being copied from /Users/nischal/code/fontastic/data/dst/Lato/Lato-Italic_2.jpg:/Users/nischal/code/fontastic/data/dst/train/Lato\n",
      "File being copied from /Users/nischal/code/fontastic/data/dst/Montserrat/Montserrat-MediumItalic_3.jpg:/Users/nischal/code/fontastic/data/dst/train/Montserrat\n",
      "File being copied from /Users/nischal/code/fontastic/data/dst/open-sans/OpenSans-ExtraBold_3.jpg:/Users/nischal/code/fontastic/data/dst/train/open-sans\n",
      "File being copied from /Users/nischal/code/fontastic/data/dst/Fahkwang/Fahkwang-Regular_2.jpg:/Users/nischal/code/fontastic/data/dst/train/Fahkwang\n",
      "File being copied from /Users/nischal/code/fontastic/data/dst/Merriweather/Merriweather-Light_0.jpg:/Users/nischal/code/fontastic/data/dst/train/Merriweather\n",
      "File being copied from /Users/nischal/code/fontastic/data/dst/Nunito/Nunito-Light_1.jpg:/Users/nischal/code/fontastic/data/dst/train/Nunito\n",
      "File being copied from /Users/nischal/code/fontastic/data/dst/Lora/Lora-Bold_2.jpg:/Users/nischal/code/fontastic/data/dst/train/Lora\n",
      "File being copied from /Users/nischal/code/fontastic/data/dst/roboto/Roboto-BlackItalic_1.jpg:/Users/nischal/code/fontastic/data/dst/train/roboto\n",
      "File being copied from /Users/nischal/code/fontastic/data/dst/roboto/Roboto-MediumItalic_2.jpg:/Users/nischal/code/fontastic/data/dst/train/roboto\n",
      "File being copied from /Users/nischal/code/fontastic/data/dst/Nunito/Nunito-Bold_0.jpg:/Users/nischal/code/fontastic/data/dst/train/Nunito\n",
      "File being copied from /Users/nischal/code/fontastic/data/dst/Fahkwang/Fahkwang-SemiBold_3.jpg:/Users/nischal/code/fontastic/data/dst/train/Fahkwang\n",
      "File being copied from /Users/nischal/code/fontastic/data/dst/Merriweather/Merriweather-BoldItalic_2.jpg:/Users/nischal/code/fontastic/data/dst/train/Merriweather\n",
      "File being copied from /Users/nischal/code/fontastic/data/dst/Merriweather/Merriweather-Italic_1.jpg:/Users/nischal/code/fontastic/data/dst/train/Merriweather\n",
      "File being copied from /Users/nischal/code/fontastic/data/dst/Nunito/Nunito-SemiBold_3.jpg:/Users/nischal/code/fontastic/data/dst/train/Nunito\n",
      "File being copied from /Users/nischal/code/fontastic/data/dst/roboto/Roboto-CondensedItalic_2.jpg:/Users/nischal/code/fontastic/data/dst/train/roboto\n",
      "File being copied from /Users/nischal/code/fontastic/data/dst/Nunito/Nunito-LightItalic_0.jpg:/Users/nischal/code/fontastic/data/dst/train/Nunito\n",
      "File being copied from /Users/nischal/code/fontastic/data/dst/Lato/Lato-Black_0.jpg:/Users/nischal/code/fontastic/data/dst/train/Lato\n",
      "File being copied from /Users/nischal/code/fontastic/data/dst/Nunito/Nunito-BlackItalic_1.jpg:/Users/nischal/code/fontastic/data/dst/train/Nunito\n",
      "File being copied from /Users/nischal/code/fontastic/data/dst/Fahkwang/Fahkwang-Medium_2.jpg:/Users/nischal/code/fontastic/data/dst/train/Fahkwang\n",
      "File being copied from /Users/nischal/code/fontastic/data/dst/Fahkwang/Fahkwang-ExtraLightItalic_2.jpg:/Users/nischal/code/fontastic/data/dst/train/Fahkwang\n",
      "File being copied from /Users/nischal/code/fontastic/data/dst/Montserrat/Montserrat-ExtraBoldItalic_0.jpg:/Users/nischal/code/fontastic/data/dst/train/Montserrat\n",
      "File being copied from /Users/nischal/code/fontastic/data/dst/Lato/Lato-LightItalic_1.jpg:/Users/nischal/code/fontastic/data/dst/train/Lato\n",
      "File being copied from /Users/nischal/code/fontastic/data/dst/Merriweather/Merriweather-LightItalic_1.jpg:/Users/nischal/code/fontastic/data/dst/train/Merriweather\n",
      "File being copied from /Users/nischal/code/fontastic/data/dst/Lora/Lora-Italic_1.jpg:/Users/nischal/code/fontastic/data/dst/train/Lora\n",
      "File being copied from /Users/nischal/code/fontastic/data/dst/Nunito/Nunito-Bold_1.jpg:/Users/nischal/code/fontastic/data/dst/train/Nunito\n",
      "File being copied from /Users/nischal/code/fontastic/data/dst/Nunito/Nunito-Italic_3.jpg:/Users/nischal/code/fontastic/data/dst/train/Nunito\n",
      "File being copied from /Users/nischal/code/fontastic/data/dst/Fahkwang/Fahkwang-Bold_1.jpg:/Users/nischal/code/fontastic/data/dst/train/Fahkwang\n",
      "File being copied from /Users/nischal/code/fontastic/data/dst/roboto/Roboto-Condensed_0.jpg:/Users/nischal/code/fontastic/data/dst/train/roboto\n",
      "File being copied from /Users/nischal/code/fontastic/data/dst/roboto/Roboto-BlackItalic_2.jpg:/Users/nischal/code/fontastic/data/dst/train/roboto\n",
      "File being copied from /Users/nischal/code/fontastic/data/dst/Fahkwang/Fahkwang-SemiBoldItalic_0.jpg:/Users/nischal/code/fontastic/data/dst/train/Fahkwang\n",
      "File being copied from /Users/nischal/code/fontastic/data/dst/Montserrat/Montserrat-MediumItalic_1.jpg:/Users/nischal/code/fontastic/data/dst/train/Montserrat\n",
      "File being copied from /Users/nischal/code/fontastic/data/dst/Merriweather/Merriweather-BoldItalic_3.jpg:/Users/nischal/code/fontastic/data/dst/train/Merriweather\n",
      "File being copied from /Users/nischal/code/fontastic/data/dst/roboto/Roboto-Medium_2.jpg:/Users/nischal/code/fontastic/data/dst/train/roboto\n",
      "File being copied from /Users/nischal/code/fontastic/data/dst/Lato/Lato-BoldItalic_1.jpg:/Users/nischal/code/fontastic/data/dst/train/Lato\n",
      "File being copied from /Users/nischal/code/fontastic/data/dst/roboto/Roboto-Italic_2.jpg:/Users/nischal/code/fontastic/data/dst/train/roboto\n",
      "File being copied from /Users/nischal/code/fontastic/data/dst/open-sans/OpenSans-SemiBold_2.jpg:/Users/nischal/code/fontastic/data/dst/train/open-sans\n",
      "File being copied from /Users/nischal/code/fontastic/data/dst/roboto/Roboto-Thin_1.jpg:/Users/nischal/code/fontastic/data/dst/train/roboto\n",
      "File being copied from /Users/nischal/code/fontastic/data/dst/Nunito/Nunito-Black_2.jpg:/Users/nischal/code/fontastic/data/dst/train/Nunito\n",
      "File being copied from /Users/nischal/code/fontastic/data/dst/Nunito/Nunito-SemiBoldItalic_2.jpg:/Users/nischal/code/fontastic/data/dst/train/Nunito\n",
      "File being copied from /Users/nischal/code/fontastic/data/dst/roboto/Roboto-BoldCondensedItalic_0.jpg:/Users/nischal/code/fontastic/data/dst/train/roboto\n",
      "File being copied from /Users/nischal/code/fontastic/data/dst/Nunito/Nunito-ExtraBold_2.jpg:/Users/nischal/code/fontastic/data/dst/train/Nunito\n",
      "File being copied from /Users/nischal/code/fontastic/data/dst/Merriweather/Merriweather-Light_1.jpg:/Users/nischal/code/fontastic/data/dst/train/Merriweather\n",
      "File being copied from /Users/nischal/code/fontastic/data/dst/roboto/Roboto-BlackItalic_3.jpg:/Users/nischal/code/fontastic/data/dst/train/roboto\n",
      "File being copied from /Users/nischal/code/fontastic/data/dst/Merriweather/Merriweather-BoldItalic_0.jpg:/Users/nischal/code/fontastic/data/dst/train/Merriweather\n",
      "File being copied from /Users/nischal/code/fontastic/data/dst/Nunito/Nunito-Black_0.jpg:/Users/nischal/code/fontastic/data/dst/train/Nunito\n",
      "File being copied from /Users/nischal/code/fontastic/data/dst/Nunito/Nunito-SemiBold_1.jpg:/Users/nischal/code/fontastic/data/dst/train/Nunito\n",
      "File being copied from /Users/nischal/code/fontastic/data/dst/Montserrat/Montserrat-Black_1.jpg:/Users/nischal/code/fontastic/data/dst/train/Montserrat\n",
      "File being copied from /Users/nischal/code/fontastic/data/dst/roboto/Roboto-MediumItalic_0.jpg:/Users/nischal/code/fontastic/data/dst/train/roboto\n"
     ]
    },
    {
     "name": "stdout",
     "output_type": "stream",
     "text": [
      "File being copied from /Users/nischal/code/fontastic/data/dst/roboto/Roboto-BoldCondensedItalic_2.jpg:/Users/nischal/code/fontastic/data/dst/train/roboto\n",
      "File being copied from /Users/nischal/code/fontastic/data/dst/roboto/Roboto-Black_3.jpg:/Users/nischal/code/fontastic/data/dst/train/roboto\n",
      "File being copied from /Users/nischal/code/fontastic/data/dst/Fahkwang/Fahkwang-Bold_3.jpg:/Users/nischal/code/fontastic/data/dst/train/Fahkwang\n",
      "File being copied from /Users/nischal/code/fontastic/data/dst/Nunito/Nunito-BlackItalic_3.jpg:/Users/nischal/code/fontastic/data/dst/train/Nunito\n",
      "File being copied from /Users/nischal/code/fontastic/data/dst/Fahkwang/Fahkwang-ExtraLightItalic_3.jpg:/Users/nischal/code/fontastic/data/dst/train/Fahkwang\n",
      "File being copied from /Users/nischal/code/fontastic/data/dst/Nunito/Nunito-Bold_2.jpg:/Users/nischal/code/fontastic/data/dst/train/Nunito\n",
      "File being copied from /Users/nischal/code/fontastic/data/dst/Lato/Lato-Hairline_3.jpg:/Users/nischal/code/fontastic/data/dst/train/Lato\n",
      "File being copied from /Users/nischal/code/fontastic/data/dst/open-sans/OpenSans-ExtraBold_0.jpg:/Users/nischal/code/fontastic/data/dst/train/open-sans\n",
      "File being copied from /Users/nischal/code/fontastic/data/dst/Lato/Lato-HairlineItalic_3.jpg:/Users/nischal/code/fontastic/data/dst/train/Lato\n",
      "File being copied from /Users/nischal/code/fontastic/data/dst/Fahkwang/Fahkwang-Regular_0.jpg:/Users/nischal/code/fontastic/data/dst/train/Fahkwang\n",
      "File being copied from /Users/nischal/code/fontastic/data/dst/Merriweather/Merriweather-Bold_3.jpg:/Users/nischal/code/fontastic/data/dst/train/Merriweather\n",
      "File being copied from /Users/nischal/code/fontastic/data/dst/roboto/Roboto-Bold_0.jpg:/Users/nischal/code/fontastic/data/dst/train/roboto\n",
      "File being copied from /Users/nischal/code/fontastic/data/dst/Nunito/Nunito-ExtraLight_3.jpg:/Users/nischal/code/fontastic/data/dst/train/Nunito\n",
      "File being copied from /Users/nischal/code/fontastic/data/dst/Montserrat/Montserrat-ExtraLight_2.jpg:/Users/nischal/code/fontastic/data/dst/train/Montserrat\n",
      "File being copied from /Users/nischal/code/fontastic/data/dst/Merriweather/Merriweather-Black_1.jpg:/Users/nischal/code/fontastic/data/dst/train/Merriweather\n"
     ]
    }
   ],
   "source": [
    "for file_path, font_class in zip(X_train, y_train):\n",
    "    copy_images_to_path(file_path, font_class, train_dir)"
   ]
  },
  {
   "cell_type": "code",
   "execution_count": 167,
   "metadata": {},
   "outputs": [
    {
     "name": "stdout",
     "output_type": "stream",
     "text": [
      "File being copied from /Users/nischal/code/fontastic/data/dst/Fahkwang/Fahkwang-SemiBoldItalic_3.jpg:/Users/nischal/code/fontastic/data/dst/test/Fahkwang\n",
      "File being copied from /Users/nischal/code/fontastic/data/dst/Nunito/Nunito-Bold_3.jpg:/Users/nischal/code/fontastic/data/dst/test/Nunito\n",
      "File being copied from /Users/nischal/code/fontastic/data/dst/Merriweather/Merriweather-LightItalic_2.jpg:/Users/nischal/code/fontastic/data/dst/test/Merriweather\n",
      "File being copied from /Users/nischal/code/fontastic/data/dst/Nunito/Nunito-BoldItalic_1.jpg:/Users/nischal/code/fontastic/data/dst/test/Nunito\n",
      "File being copied from /Users/nischal/code/fontastic/data/dst/roboto/Roboto-BoldItalic_0.jpg:/Users/nischal/code/fontastic/data/dst/test/roboto\n",
      "File being copied from /Users/nischal/code/fontastic/data/dst/Merriweather/Merriweather-Regular_0.jpg:/Users/nischal/code/fontastic/data/dst/test/Merriweather\n",
      "File being copied from /Users/nischal/code/fontastic/data/dst/Montserrat/Montserrat-LightItalic_3.jpg:/Users/nischal/code/fontastic/data/dst/test/Montserrat\n",
      "File being copied from /Users/nischal/code/fontastic/data/dst/Montserrat/Montserrat-BlackItalic_3.jpg:/Users/nischal/code/fontastic/data/dst/test/Montserrat\n",
      "File being copied from /Users/nischal/code/fontastic/data/dst/Fahkwang/Fahkwang-BoldItalic_2.jpg:/Users/nischal/code/fontastic/data/dst/test/Fahkwang\n",
      "File being copied from /Users/nischal/code/fontastic/data/dst/Fahkwang/Fahkwang-Light_2.jpg:/Users/nischal/code/fontastic/data/dst/test/Fahkwang\n",
      "File being copied from /Users/nischal/code/fontastic/data/dst/roboto/Roboto-LightItalic_0.jpg:/Users/nischal/code/fontastic/data/dst/test/roboto\n",
      "File being copied from /Users/nischal/code/fontastic/data/dst/Montserrat/Montserrat-LightItalic_0.jpg:/Users/nischal/code/fontastic/data/dst/test/Montserrat\n",
      "File being copied from /Users/nischal/code/fontastic/data/dst/open-sans/OpenSans-Regular_2.jpg:/Users/nischal/code/fontastic/data/dst/test/open-sans\n",
      "File being copied from /Users/nischal/code/fontastic/data/dst/Montserrat/Montserrat-Bold_0.jpg:/Users/nischal/code/fontastic/data/dst/test/Montserrat\n",
      "File being copied from /Users/nischal/code/fontastic/data/dst/Major_Mono_Display/MajorMonoDisplay-Regular_1.jpg:/Users/nischal/code/fontastic/data/dst/test/Major_Mono_Display\n",
      "File being copied from /Users/nischal/code/fontastic/data/dst/Merriweather/Merriweather-BlackItalic_3.jpg:/Users/nischal/code/fontastic/data/dst/test/Merriweather\n",
      "File being copied from /Users/nischal/code/fontastic/data/dst/roboto/Roboto-ThinItalic_3.jpg:/Users/nischal/code/fontastic/data/dst/test/roboto\n",
      "File being copied from /Users/nischal/code/fontastic/data/dst/roboto/Roboto-BoldCondensedItalic_3.jpg:/Users/nischal/code/fontastic/data/dst/test/roboto\n",
      "File being copied from /Users/nischal/code/fontastic/data/dst/roboto/Roboto-Light_2.jpg:/Users/nischal/code/fontastic/data/dst/test/roboto\n",
      "File being copied from /Users/nischal/code/fontastic/data/dst/open-sans/OpenSans-Italic_0.jpg:/Users/nischal/code/fontastic/data/dst/test/open-sans\n",
      "File being copied from /Users/nischal/code/fontastic/data/dst/Fahkwang/Fahkwang-Italic_1.jpg:/Users/nischal/code/fontastic/data/dst/test/Fahkwang\n",
      "File being copied from /Users/nischal/code/fontastic/data/dst/roboto/Roboto-CondensedItalic_1.jpg:/Users/nischal/code/fontastic/data/dst/test/roboto\n",
      "File being copied from /Users/nischal/code/fontastic/data/dst/roboto/Roboto-Thin_0.jpg:/Users/nischal/code/fontastic/data/dst/test/roboto\n",
      "File being copied from /Users/nischal/code/fontastic/data/dst/Montserrat/Montserrat-ExtraBold_0.jpg:/Users/nischal/code/fontastic/data/dst/test/Montserrat\n",
      "File being copied from /Users/nischal/code/fontastic/data/dst/Lato/Lato-Light_3.jpg:/Users/nischal/code/fontastic/data/dst/test/Lato\n",
      "File being copied from /Users/nischal/code/fontastic/data/dst/open-sans/OpenSans-Light_2.jpg:/Users/nischal/code/fontastic/data/dst/test/open-sans\n",
      "File being copied from /Users/nischal/code/fontastic/data/dst/open-sans/OpenSans-ExtraBoldItalic_1.jpg:/Users/nischal/code/fontastic/data/dst/test/open-sans\n",
      "File being copied from /Users/nischal/code/fontastic/data/dst/roboto/Roboto-Black_0.jpg:/Users/nischal/code/fontastic/data/dst/test/roboto\n",
      "File being copied from /Users/nischal/code/fontastic/data/dst/Lato/Lato-Bold_2.jpg:/Users/nischal/code/fontastic/data/dst/test/Lato\n",
      "File being copied from /Users/nischal/code/fontastic/data/dst/Montserrat/Montserrat-ExtraLight_0.jpg:/Users/nischal/code/fontastic/data/dst/test/Montserrat\n",
      "File being copied from /Users/nischal/code/fontastic/data/dst/Lato/Lato-BlackItalic_0.jpg:/Users/nischal/code/fontastic/data/dst/test/Lato\n",
      "File being copied from /Users/nischal/code/fontastic/data/dst/Fahkwang/Fahkwang-BoldItalic_3.jpg:/Users/nischal/code/fontastic/data/dst/test/Fahkwang\n",
      "File being copied from /Users/nischal/code/fontastic/data/dst/Nunito/Nunito-Italic_2.jpg:/Users/nischal/code/fontastic/data/dst/test/Nunito\n",
      "File being copied from /Users/nischal/code/fontastic/data/dst/Lobster/Lobster-Regular_3.jpg:/Users/nischal/code/fontastic/data/dst/test/Lobster\n",
      "File being copied from /Users/nischal/code/fontastic/data/dst/Lato/Lato-Italic_0.jpg:/Users/nischal/code/fontastic/data/dst/test/Lato\n",
      "File being copied from /Users/nischal/code/fontastic/data/dst/Nunito/Nunito-ExtraBold_3.jpg:/Users/nischal/code/fontastic/data/dst/test/Nunito\n",
      "File being copied from /Users/nischal/code/fontastic/data/dst/Montserrat/Montserrat-Thin_0.jpg:/Users/nischal/code/fontastic/data/dst/test/Montserrat\n",
      "File being copied from /Users/nischal/code/fontastic/data/dst/Montserrat/Montserrat-Black_0.jpg:/Users/nischal/code/fontastic/data/dst/test/Montserrat\n",
      "File being copied from /Users/nischal/code/fontastic/data/dst/roboto/Roboto-Condensed_2.jpg:/Users/nischal/code/fontastic/data/dst/test/roboto\n",
      "File being copied from /Users/nischal/code/fontastic/data/dst/roboto/Roboto-Regular_1.jpg:/Users/nischal/code/fontastic/data/dst/test/roboto\n",
      "File being copied from /Users/nischal/code/fontastic/data/dst/open-sans/OpenSans-LightItalic_1.jpg:/Users/nischal/code/fontastic/data/dst/test/open-sans\n",
      "File being copied from /Users/nischal/code/fontastic/data/dst/roboto/Roboto-Thin_2.jpg:/Users/nischal/code/fontastic/data/dst/test/roboto\n",
      "File being copied from /Users/nischal/code/fontastic/data/dst/Montserrat/Montserrat-Light_3.jpg:/Users/nischal/code/fontastic/data/dst/test/Montserrat\n",
      "File being copied from /Users/nischal/code/fontastic/data/dst/Merriweather/Merriweather-Bold_0.jpg:/Users/nischal/code/fontastic/data/dst/test/Merriweather\n",
      "File being copied from /Users/nischal/code/fontastic/data/dst/Nunito/Nunito-ExtraLight_2.jpg:/Users/nischal/code/fontastic/data/dst/test/Nunito\n",
      "File being copied from /Users/nischal/code/fontastic/data/dst/Nunito/Nunito-ExtraBoldItalic_1.jpg:/Users/nischal/code/fontastic/data/dst/test/Nunito\n",
      "File being copied from /Users/nischal/code/fontastic/data/dst/Nunito/Nunito-SemiBoldItalic_3.jpg:/Users/nischal/code/fontastic/data/dst/test/Nunito\n",
      "File being copied from /Users/nischal/code/fontastic/data/dst/Lora/Lora-Bold_0.jpg:/Users/nischal/code/fontastic/data/dst/test/Lora\n",
      "File being copied from /Users/nischal/code/fontastic/data/dst/Lora/Lora-BoldItalic_0.jpg:/Users/nischal/code/fontastic/data/dst/test/Lora\n",
      "File being copied from /Users/nischal/code/fontastic/data/dst/Montserrat/Montserrat-ExtraBold_3.jpg:/Users/nischal/code/fontastic/data/dst/test/Montserrat\n",
      "File being copied from /Users/nischal/code/fontastic/data/dst/Montserrat/Montserrat-Italic_1.jpg:/Users/nischal/code/fontastic/data/dst/test/Montserrat\n",
      "File being copied from /Users/nischal/code/fontastic/data/dst/Montserrat/Montserrat-Italic_3.jpg:/Users/nischal/code/fontastic/data/dst/test/Montserrat\n",
      "File being copied from /Users/nischal/code/fontastic/data/dst/Lato/Lato-Light_0.jpg:/Users/nischal/code/fontastic/data/dst/test/Lato\n",
      "File being copied from /Users/nischal/code/fontastic/data/dst/Fahkwang/Fahkwang-Medium_0.jpg:/Users/nischal/code/fontastic/data/dst/test/Fahkwang\n",
      "File being copied from /Users/nischal/code/fontastic/data/dst/Fahkwang/Fahkwang-LightItalic_0.jpg:/Users/nischal/code/fontastic/data/dst/test/Fahkwang\n",
      "File being copied from /Users/nischal/code/fontastic/data/dst/roboto/Roboto-Regular_0.jpg:/Users/nischal/code/fontastic/data/dst/test/roboto\n",
      "File being copied from /Users/nischal/code/fontastic/data/dst/open-sans/OpenSans-LightItalic_3.jpg:/Users/nischal/code/fontastic/data/dst/test/open-sans\n",
      "File being copied from /Users/nischal/code/fontastic/data/dst/Fahkwang/Fahkwang-Italic_2.jpg:/Users/nischal/code/fontastic/data/dst/test/Fahkwang\n",
      "File being copied from /Users/nischal/code/fontastic/data/dst/Nunito/Nunito-ExtraBoldItalic_3.jpg:/Users/nischal/code/fontastic/data/dst/test/Nunito\n",
      "File being copied from /Users/nischal/code/fontastic/data/dst/open-sans/OpenSans-Italic_3.jpg:/Users/nischal/code/fontastic/data/dst/test/open-sans\n",
      "File being copied from /Users/nischal/code/fontastic/data/dst/Lora/Lora-Bold_1.jpg:/Users/nischal/code/fontastic/data/dst/test/Lora\n",
      "File being copied from /Users/nischal/code/fontastic/data/dst/Lato/Lato-Hairline_2.jpg:/Users/nischal/code/fontastic/data/dst/test/Lato\n",
      "File being copied from /Users/nischal/code/fontastic/data/dst/Montserrat/Montserrat-Regular_1.jpg:/Users/nischal/code/fontastic/data/dst/test/Montserrat\n",
      "File being copied from /Users/nischal/code/fontastic/data/dst/Montserrat/Montserrat-SemiBoldItalic_2.jpg:/Users/nischal/code/fontastic/data/dst/test/Montserrat\n",
      "File being copied from /Users/nischal/code/fontastic/data/dst/Merriweather/Merriweather-BlackItalic_0.jpg:/Users/nischal/code/fontastic/data/dst/test/Merriweather\n",
      "File being copied from /Users/nischal/code/fontastic/data/dst/Nunito/Nunito-Regular_0.jpg:/Users/nischal/code/fontastic/data/dst/test/Nunito\n",
      "File being copied from /Users/nischal/code/fontastic/data/dst/Montserrat/Montserrat-Black_2.jpg:/Users/nischal/code/fontastic/data/dst/test/Montserrat\n",
      "File being copied from /Users/nischal/code/fontastic/data/dst/Nunito/Nunito-BoldItalic_0.jpg:/Users/nischal/code/fontastic/data/dst/test/Nunito\n",
      "File being copied from /Users/nischal/code/fontastic/data/dst/Merriweather/Merriweather-Regular_1.jpg:/Users/nischal/code/fontastic/data/dst/test/Merriweather\n",
      "File being copied from /Users/nischal/code/fontastic/data/dst/roboto/Roboto-LightItalic_3.jpg:/Users/nischal/code/fontastic/data/dst/test/roboto\n",
      "File being copied from /Users/nischal/code/fontastic/data/dst/Lato/Lato-HairlineItalic_1.jpg:/Users/nischal/code/fontastic/data/dst/test/Lato\n",
      "File being copied from /Users/nischal/code/fontastic/data/dst/open-sans/OpenSans-Bold_3.jpg:/Users/nischal/code/fontastic/data/dst/test/open-sans\n",
      "File being copied from /Users/nischal/code/fontastic/data/dst/Fahkwang/Fahkwang-Italic_0.jpg:/Users/nischal/code/fontastic/data/dst/test/Fahkwang\n"
     ]
    },
    {
     "name": "stdout",
     "output_type": "stream",
     "text": [
      "File being copied from /Users/nischal/code/fontastic/data/dst/Lato/Lato-BlackItalic_2.jpg:/Users/nischal/code/fontastic/data/dst/test/Lato\n",
      "File being copied from /Users/nischal/code/fontastic/data/dst/Fahkwang/Fahkwang-BoldItalic_1.jpg:/Users/nischal/code/fontastic/data/dst/test/Fahkwang\n",
      "File being copied from /Users/nischal/code/fontastic/data/dst/Nunito/Nunito-Regular_3.jpg:/Users/nischal/code/fontastic/data/dst/test/Nunito\n"
     ]
    }
   ],
   "source": [
    "for file_path, font_class in zip(X_test, y_test):\n",
    "    copy_images_to_path(file_path, font_class, test_dir)"
   ]
  },
  {
   "cell_type": "code",
   "execution_count": 168,
   "metadata": {},
   "outputs": [],
   "source": [
    "image_datasets = {x: datasets.ImageFolder(os.path.join(data_path, x), data_transforms[x]) for x in ['train', 'test']}"
   ]
  },
  {
   "cell_type": "code",
   "execution_count": 169,
   "metadata": {},
   "outputs": [
    {
     "data": {
      "text/plain": [
       "Dataset ImageFolder\n",
       "    Number of datapoints: 300\n",
       "    Root Location: /Users/nischal/code/fontastic/data/dst/train\n",
       "    Transforms (if any): Compose(\n",
       "                             RandomResizedCrop(size=(224, 224), scale=(0.08, 1.0), ratio=(0.75, 1.3333), interpolation=PIL.Image.BILINEAR)\n",
       "                             ToTensor()\n",
       "                             Normalize(mean=[0.485, 0.456, 0.406], std=[0.229, 0.224, 0.225])\n",
       "                         )\n",
       "    Target Transforms (if any): None"
      ]
     },
     "execution_count": 169,
     "metadata": {},
     "output_type": "execute_result"
    }
   ],
   "source": [
    "image_datasets['train']"
   ]
  },
  {
   "cell_type": "code",
   "execution_count": 170,
   "metadata": {},
   "outputs": [
    {
     "data": {
      "text/plain": [
       "Dataset ImageFolder\n",
       "    Number of datapoints: 76\n",
       "    Root Location: /Users/nischal/code/fontastic/data/dst/test\n",
       "    Transforms (if any): Compose(\n",
       "                             Resize(size=256, interpolation=PIL.Image.BILINEAR)\n",
       "                             CenterCrop(size=(224, 224))\n",
       "                             ToTensor()\n",
       "                             Normalize(mean=[0.485, 0.456, 0.406], std=[0.229, 0.224, 0.225])\n",
       "                         )\n",
       "    Target Transforms (if any): None"
      ]
     },
     "execution_count": 170,
     "metadata": {},
     "output_type": "execute_result"
    }
   ],
   "source": [
    "image_datasets['test']"
   ]
  },
  {
   "cell_type": "code",
   "execution_count": 171,
   "metadata": {},
   "outputs": [],
   "source": [
    "dataloaders = {x: torch.utils.data.DataLoader(image_datasets[x], \n",
    "                                             batch_size=4, \n",
    "                                             shuffle=True, \n",
    "                                             num_workers=4) \n",
    "               for x in ['train', 'test']}"
   ]
  },
  {
   "cell_type": "code",
   "execution_count": 172,
   "metadata": {},
   "outputs": [
    {
     "data": {
      "text/plain": [
       "{'train': <torch.utils.data.dataloader.DataLoader at 0x117472518>,\n",
       " 'test': <torch.utils.data.dataloader.DataLoader at 0x1174725f8>}"
      ]
     },
     "execution_count": 172,
     "metadata": {},
     "output_type": "execute_result"
    }
   ],
   "source": [
    "dataloaders"
   ]
  },
  {
   "cell_type": "code",
   "execution_count": 173,
   "metadata": {},
   "outputs": [],
   "source": [
    "class_names = image_datasets['train'].classes"
   ]
  },
  {
   "cell_type": "code",
   "execution_count": 174,
   "metadata": {},
   "outputs": [
    {
     "data": {
      "text/plain": [
       "['Fahkwang',\n",
       " 'Lato',\n",
       " 'Lobster',\n",
       " 'Lora',\n",
       " 'Major_Mono_Display',\n",
       " 'Merriweather',\n",
       " 'Montserrat',\n",
       " 'Nunito',\n",
       " 'open-sans',\n",
       " 'roboto']"
      ]
     },
     "execution_count": 174,
     "metadata": {},
     "output_type": "execute_result"
    }
   ],
   "source": [
    "class_names"
   ]
  },
  {
   "cell_type": "code",
   "execution_count": 175,
   "metadata": {},
   "outputs": [],
   "source": [
    "device = torch.device(\"cuda:0\" if torch.cuda.is_available() else \"cpu\")"
   ]
  },
  {
   "cell_type": "code",
   "execution_count": 176,
   "metadata": {},
   "outputs": [],
   "source": [
    "dataset_sizes = {x: len(image_datasets[x]) for x in ['train', 'test']}\n"
   ]
  },
  {
   "cell_type": "markdown",
   "metadata": {},
   "source": [
    "### Visualizing images"
   ]
  },
  {
   "cell_type": "code",
   "execution_count": 177,
   "metadata": {},
   "outputs": [],
   "source": [
    "def imshow(inp, title=None):\n",
    "    inp = inp.numpy().transpose((1, 2, 0))\n",
    "    mean = np.array([0.485, 0.456, 0.406])\n",
    "    std = np.array([0.229, 0.224, 0.225])\n",
    "    inp = std * inp + mean\n",
    "    inp = np.clip(inp, 0, 1)\n",
    "    plt.imshow(inp)\n",
    "    if title is not None:\n",
    "        plt.title(title)\n",
    "    plt.pause(0.001)\n",
    "    "
   ]
  },
  {
   "cell_type": "code",
   "execution_count": 178,
   "metadata": {},
   "outputs": [],
   "source": [
    "inputs, classes = next(iter(dataloaders['train']))\n",
    "out = torchvision.utils.make_grid(inputs)"
   ]
  },
  {
   "cell_type": "code",
   "execution_count": 179,
   "metadata": {},
   "outputs": [
    {
     "data": {
      "image/png": "[encoded data removed]",
      "text/plain": [
       "<Figure size 432x288 with 1 Axes>"
      ]
     },
     "metadata": {
      "needs_background": "light"
     },
     "output_type": "display_data"
    }
   ],
   "source": [
    "imshow(out, title=[class_names[x] for x in classes])"
   ]
  },
  {
   "cell_type": "markdown",
   "metadata": {},
   "source": [
    "### Training the model"
   ]
  },
  {
   "cell_type": "code",
   "execution_count": 226,
   "metadata": {},
   "outputs": [],
   "source": [
    "def train_model(model, criterion, optimizer, scheduler, num_epochs=20):\n",
    "    since = time.time()\n",
    "    best_acc = 0.0\n",
    "    best_model = copy.deepcopy(model.state_dict())\n",
    "    \n",
    "    for epoch in range(num_epochs):\n",
    "        print(\"Epoch {}/{}\".format(epoch, num_epochs - 1))\n",
    "        print('-' * 10)\n",
    "        \n",
    "        for phase in ['train', 'test']:\n",
    "            if phase == 'train':\n",
    "                scheduler.step()\n",
    "                model.train()\n",
    "            else:\n",
    "                model.eval()\n",
    "                \n",
    "            running_loss = 0.0\n",
    "            running_corrects = 0\n",
    "        \n",
    "            for inputs, labels in dataloaders[phase]:\n",
    "                inputs = inputs.to(device)\n",
    "                labels = labels.to(device)\n",
    "                \n",
    "                optimizer.zero_grad()\n",
    "                \n",
    "                \n",
    "                with torch.set_grad_enabled(phase == 'train'):\n",
    "                    outputs = model(inputs)\n",
    "                    _, preds = torch.max(outputs, 1)\n",
    "                    #print(outputs)\n",
    "                    #print(_)\n",
    "                    #print(preds)\n",
    "                    #print(labels)\n",
    "                    loss = criterion(outputs, labels)\n",
    "                    \n",
    "                    if phase == 'train':\n",
    "                        loss.backward()\n",
    "                        optimizer.step()\n",
    "                        \n",
    "                running_loss += loss.item() * inputs.size(0)\n",
    "                running_corrects += torch.sum(preds == labels.data)\n",
    "            \n",
    "            epoch_loss = running_loss / dataset_sizes[phase]\n",
    "            epoch_acc = running_corrects.double() / dataset_sizes[phase]\n",
    "            \n",
    "            print('{} Loss: {:.4f} Acc:{:.4f}'.format(\n",
    "                phase, epoch_loss, epoch_acc))\n",
    "            \n",
    "            \n",
    "            if phase == 'test' and epoch_acc > best_acc:\n",
    "                best_acc = epoch_acc\n",
    "                best_model = copy.deepcopy(model.state_dict())\n",
    "            \n",
    "        \n",
    "        print()\n",
    "    \n",
    "    time_elapsed = time.time() - since\n",
    "    print('Training complete in {:0f}m {:.0f}s'.format(\n",
    "    time_elapsed // 60, time_elapsed % 60))\n",
    "    print('Best val acc: {:4f}'.format(best_acc))\n",
    "    \n",
    "    model.load_state_dict(best_model)\n",
    "    return model\n",
    "                "
   ]
  },
  {
   "cell_type": "code",
   "execution_count": 203,
   "metadata": {},
   "outputs": [],
   "source": [
    "def visualize_model(model, num_images=6):\n",
    "    was_training = model.training\n",
    "    model.eval()\n",
    "    images_so_far = 0\n",
    "    fig = plt.figure()\n",
    "    \n",
    "    with torch.no_grad():\n",
    "        for i, (inputs, labels) in enumerate(dataloaders['test']):\n",
    "            inputs = inputs.to(device)\n",
    "            labels = labels.to(device)\n",
    "            \n",
    "            otuput = model(inputs)\n",
    "            _, preds = torch.max(outputs, 1)\n",
    "            \n",
    "            \n",
    "            for j in range(inputs.size()[0]):\n",
    "                images_so_far +=1\n",
    "                ax = plt.subplot(num_images//2, 2, images_so_far)\n",
    "                ax.axis('off')\n",
    "                ax.set_title('predicted: {}'.format(class_names[preds[j]]))\n",
    "                imshow(inputs.cpu().data[j])\n",
    "                \n",
    "                if images_so_far == num_images:\n",
    "                    model.train(mode=was_training)\n",
    "                    return\n",
    "        model.train(mode=was_training)"
   ]
  },
  {
   "cell_type": "code",
   "execution_count": 204,
   "metadata": {},
   "outputs": [],
   "source": [
    "import ssl\n"
   ]
  },
  {
   "cell_type": "code",
   "execution_count": 205,
   "metadata": {},
   "outputs": [],
   "source": [
    "ssl._create_default_https_context = ssl._create_unverified_context"
   ]
  },
  {
   "cell_type": "code",
   "execution_count": 224,
   "metadata": {},
   "outputs": [],
   "source": [
    "model_ft = models.resnet18(pretrained=True)\n",
    "num_frts = model_ft.fc.in_features\n",
    "model_ft.fc = nn.Linear(num_frts, len(class_names))\n",
    "\n",
    "model_ft = model_ft.to(device)\n",
    "criterion = nn.CrossEntropyLoss()\n",
    "\n",
    "optimizer_ft = optim.SGD(model_ft.parameters(), lr=0.001, momentum=0.9)\n",
    "exp_lr_scheduler = lr_scheduler.StepLR(optimizer_ft, step_size=7, gamma=0.1)"
   ]
  },
  {
   "cell_type": "code",
   "execution_count": 227,
   "metadata": {},
   "outputs": [
    {
     "name": "stdout",
     "output_type": "stream",
     "text": [
      "Epoch 0/19\n",
      "----------\n",
      "train Loss: 2.3822 Acc:0.1967\n",
      "test Loss: 2.5569 Acc:0.2368\n",
      "\n",
      "Epoch 1/19\n",
      "----------\n"
     ]
    },
    {
     "name": "stderr",
     "output_type": "stream",
     "text": [
      "Traceback (most recent call last):\n",
      "Traceback (most recent call last):\n",
      "  File \"/Library/Frameworks/Python.framework/Versions/3.6/lib/python3.6/multiprocessing/queues.py\", line 240, in _feed\n",
      "    send_bytes(obj)\n",
      "  File \"/Library/Frameworks/Python.framework/Versions/3.6/lib/python3.6/multiprocessing/connection.py\", line 200, in send_bytes\n",
      "    self._send_bytes(m[offset:offset + size])\n",
      "  File \"/Library/Frameworks/Python.framework/Versions/3.6/lib/python3.6/multiprocessing/queues.py\", line 240, in _feed\n",
      "    send_bytes(obj)\n",
      "  File \"/Library/Frameworks/Python.framework/Versions/3.6/lib/python3.6/multiprocessing/connection.py\", line 200, in send_bytes\n",
      "    self._send_bytes(m[offset:offset + size])\n",
      "  File \"/Library/Frameworks/Python.framework/Versions/3.6/lib/python3.6/multiprocessing/connection.py\", line 404, in _send_bytes\n",
      "    self._send(header + buf)\n",
      "  File \"/Library/Frameworks/Python.framework/Versions/3.6/lib/python3.6/multiprocessing/connection.py\", line 368, in _send\n",
      "    n = write(self._handle, buf)\n",
      "  File \"/Library/Frameworks/Python.framework/Versions/3.6/lib/python3.6/multiprocessing/connection.py\", line 404, in _send_bytes\n",
      "    self._send(header + buf)\n",
      "  File \"/Library/Frameworks/Python.framework/Versions/3.6/lib/python3.6/multiprocessing/connection.py\", line 368, in _send\n",
      "    n = write(self._handle, buf)\n",
      "Traceback (most recent call last):\n",
      "  File \"/Library/Frameworks/Python.framework/Versions/3.6/lib/python3.6/multiprocessing/queues.py\", line 240, in _feed\n",
      "    send_bytes(obj)\n",
      "  File \"/Library/Frameworks/Python.framework/Versions/3.6/lib/python3.6/multiprocessing/connection.py\", line 200, in send_bytes\n",
      "    self._send_bytes(m[offset:offset + size])\n",
      "  File \"/Library/Frameworks/Python.framework/Versions/3.6/lib/python3.6/multiprocessing/connection.py\", line 404, in _send_bytes\n",
      "    self._send(header + buf)\n",
      "  File \"/Library/Frameworks/Python.framework/Versions/3.6/lib/python3.6/multiprocessing/connection.py\", line 368, in _send\n",
      "    n = write(self._handle, buf)\n",
      "BrokenPipeError: [Errno 32] Broken pipe\n",
      "BrokenPipeError: [Errno 32] Broken pipe\n",
      "BrokenPipeError: [Errno 32] Broken pipe\n",
      "Traceback (most recent call last):\n",
      "  File \"/Library/Frameworks/Python.framework/Versions/3.6/lib/python3.6/multiprocessing/queues.py\", line 240, in _feed\n",
      "    send_bytes(obj)\n",
      "  File \"/Library/Frameworks/Python.framework/Versions/3.6/lib/python3.6/multiprocessing/connection.py\", line 200, in send_bytes\n",
      "    self._send_bytes(m[offset:offset + size])\n",
      "  File \"/Library/Frameworks/Python.framework/Versions/3.6/lib/python3.6/multiprocessing/connection.py\", line 404, in _send_bytes\n",
      "    self._send(header + buf)\n",
      "  File \"/Library/Frameworks/Python.framework/Versions/3.6/lib/python3.6/multiprocessing/connection.py\", line 368, in _send\n",
      "    n = write(self._handle, buf)\n",
      "BrokenPipeError: [Errno 32] Broken pipe\n"
     ]
    },
    {
     "ename": "KeyboardInterrupt",
     "evalue": "",
     "output_type": "error",
     "traceback": [
      "\u001b[0;31m---------------------------------------------------------------------------\u001b[0m",
      "\u001b[0;31mKeyboardInterrupt\u001b[0m                         Traceback (most recent call last)",
      "\u001b[0;32m<ipython-input-227-619565884f95>\u001b[0m in \u001b[0;36m<module>\u001b[0;34m\u001b[0m\n\u001b[0;32m----> 1\u001b[0;31m \u001b[0mmodel_ft\u001b[0m \u001b[0;34m=\u001b[0m \u001b[0mtrain_model\u001b[0m\u001b[0;34m(\u001b[0m\u001b[0mmodel_ft\u001b[0m\u001b[0;34m,\u001b[0m \u001b[0mcriterion\u001b[0m\u001b[0;34m,\u001b[0m \u001b[0moptimizer_ft\u001b[0m\u001b[0;34m,\u001b[0m \u001b[0mexp_lr_scheduler\u001b[0m\u001b[0;34m)\u001b[0m\u001b[0;34m\u001b[0m\u001b[0m\n\u001b[0m",
      "\u001b[0;32m<ipython-input-226-af6114e13634>\u001b[0m in \u001b[0;36mtrain_model\u001b[0;34m(model, criterion, optimizer, scheduler, num_epochs)\u001b[0m\n\u001b[1;32m     35\u001b[0m \u001b[0;34m\u001b[0m\u001b[0m\n\u001b[1;32m     36\u001b[0m                     \u001b[0;32mif\u001b[0m \u001b[0mphase\u001b[0m \u001b[0;34m==\u001b[0m \u001b[0;34m'train'\u001b[0m\u001b[0;34m:\u001b[0m\u001b[0;34m\u001b[0m\u001b[0m\n\u001b[0;32m---> 37\u001b[0;31m                         \u001b[0mloss\u001b[0m\u001b[0;34m.\u001b[0m\u001b[0mbackward\u001b[0m\u001b[0;34m(\u001b[0m\u001b[0;34m)\u001b[0m\u001b[0;34m\u001b[0m\u001b[0m\n\u001b[0m\u001b[1;32m     38\u001b[0m                         \u001b[0moptimizer\u001b[0m\u001b[0;34m.\u001b[0m\u001b[0mstep\u001b[0m\u001b[0;34m(\u001b[0m\u001b[0;34m)\u001b[0m\u001b[0;34m\u001b[0m\u001b[0m\n\u001b[1;32m     39\u001b[0m \u001b[0;34m\u001b[0m\u001b[0m\n",
      "\u001b[0;32m~/code/fontastic/venv/lib/python3.6/site-packages/torch/tensor.py\u001b[0m in \u001b[0;36mbackward\u001b[0;34m(self, gradient, retain_graph, create_graph)\u001b[0m\n\u001b[1;32m    100\u001b[0m                 \u001b[0mproducts\u001b[0m\u001b[0;34m.\u001b[0m \u001b[0mDefaults\u001b[0m \u001b[0mto\u001b[0m\u001b[0;31m \u001b[0m\u001b[0;31m`\u001b[0m\u001b[0;31m`\u001b[0m\u001b[0;32mFalse\u001b[0m\u001b[0;31m`\u001b[0m\u001b[0;31m`\u001b[0m\u001b[0;34m.\u001b[0m\u001b[0;34m\u001b[0m\u001b[0m\n\u001b[1;32m    101\u001b[0m         \"\"\"\n\u001b[0;32m--> 102\u001b[0;31m         \u001b[0mtorch\u001b[0m\u001b[0;34m.\u001b[0m\u001b[0mautograd\u001b[0m\u001b[0;34m.\u001b[0m\u001b[0mbackward\u001b[0m\u001b[0;34m(\u001b[0m\u001b[0mself\u001b[0m\u001b[0;34m,\u001b[0m \u001b[0mgradient\u001b[0m\u001b[0;34m,\u001b[0m \u001b[0mretain_graph\u001b[0m\u001b[0;34m,\u001b[0m \u001b[0mcreate_graph\u001b[0m\u001b[0;34m)\u001b[0m\u001b[0;34m\u001b[0m\u001b[0m\n\u001b[0m\u001b[1;32m    103\u001b[0m \u001b[0;34m\u001b[0m\u001b[0m\n\u001b[1;32m    104\u001b[0m     \u001b[0;32mdef\u001b[0m \u001b[0mregister_hook\u001b[0m\u001b[0;34m(\u001b[0m\u001b[0mself\u001b[0m\u001b[0;34m,\u001b[0m \u001b[0mhook\u001b[0m\u001b[0;34m)\u001b[0m\u001b[0;34m:\u001b[0m\u001b[0;34m\u001b[0m\u001b[0m\n",
      "\u001b[0;32m~/code/fontastic/venv/lib/python3.6/site-packages/torch/autograd/__init__.py\u001b[0m in \u001b[0;36mbackward\u001b[0;34m(tensors, grad_tensors, retain_graph, create_graph, grad_variables)\u001b[0m\n\u001b[1;32m     88\u001b[0m     Variable._execution_engine.run_backward(\n\u001b[1;32m     89\u001b[0m         \u001b[0mtensors\u001b[0m\u001b[0;34m,\u001b[0m \u001b[0mgrad_tensors\u001b[0m\u001b[0;34m,\u001b[0m \u001b[0mretain_graph\u001b[0m\u001b[0;34m,\u001b[0m \u001b[0mcreate_graph\u001b[0m\u001b[0;34m,\u001b[0m\u001b[0;34m\u001b[0m\u001b[0m\n\u001b[0;32m---> 90\u001b[0;31m         allow_unreachable=True)  # allow_unreachable flag\n\u001b[0m\u001b[1;32m     91\u001b[0m \u001b[0;34m\u001b[0m\u001b[0m\n\u001b[1;32m     92\u001b[0m \u001b[0;34m\u001b[0m\u001b[0m\n",
      "\u001b[0;31mKeyboardInterrupt\u001b[0m: "
     ]
    }
   ],
   "source": [
    "model_ft = train_model(model_ft, criterion, optimizer_ft, exp_lr_scheduler)"
   ]
  },
  {
   "cell_type": "code",
   "execution_count": null,
   "metadata": {},
   "outputs": [],
   "source": []
  }
 ],
 "metadata": {
  "kernelspec": {
   "display_name": "Python 3",
   "language": "python",
   "name": "python3"
  },
  "language_info": {
   "codemirror_mode": {
    "name": "ipython",
    "version": 3
   },
   "file_extension": ".py",
   "mimetype": "text/x-python",
   "name": "python",
   "nbconvert_exporter": "python",
   "pygments_lexer": "ipython3",
   "version": "3.6.5"
  }
 },
 "nbformat": 4,
 "nbformat_minor": 2
}
