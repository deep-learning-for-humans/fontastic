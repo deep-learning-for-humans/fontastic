{
 "cells": [
  {
   "cell_type": "markdown",
   "metadata": {},
   "source": [
    "# Font Classifier using FastAI"
   ]
  },
  {
   "cell_type": "code",
   "execution_count": 1,
   "metadata": {},
   "outputs": [],
   "source": [
    "import fastai\n",
    "from fastai.vision import *"
   ]
  },
  {
   "cell_type": "code",
   "execution_count": 2,
   "metadata": {},
   "outputs": [],
   "source": [
    "PATH = \"/home/paperspace/code/fontastic/data\"\n"
   ]
  },
  {
   "cell_type": "code",
   "execution_count": 3,
   "metadata": {},
   "outputs": [],
   "source": [
    "df_train = pd.read_csv('../train.csv')"
   ]
  },
  {
   "cell_type": "code",
   "execution_count": 4,
   "metadata": {},
   "outputs": [
    {
     "data": {
      "text/html": [
       "<div>\n",
       "<style scoped>\n",
       "    .dataframe tbody tr th:only-of-type {\n",
       "        vertical-align: middle;\n",
       "    }\n",
       "\n",
       "    .dataframe tbody tr th {\n",
       "        vertical-align: top;\n",
       "    }\n",
       "\n",
       "    .dataframe thead th {\n",
       "        text-align: right;\n",
       "    }\n",
       "</style>\n",
       "<table border=\"1\" class=\"dataframe\">\n",
       "  <thead>\n",
       "    <tr style=\"text-align: right;\">\n",
       "      <th></th>\n",
       "      <th>filename</th>\n",
       "      <th>class</th>\n",
       "    </tr>\n",
       "  </thead>\n",
       "  <tbody>\n",
       "    <tr>\n",
       "      <th>0</th>\n",
       "      <td>Fahkwang-BoldItalic_300_rand_crop_5.jpg</td>\n",
       "      <td>Fahkwang-BoldItalic</td>\n",
       "    </tr>\n",
       "    <tr>\n",
       "      <th>1</th>\n",
       "      <td>Lora-BoldItalic_150_rand_crop_0.jpg</td>\n",
       "      <td>Lora-BoldItalic</td>\n",
       "    </tr>\n",
       "    <tr>\n",
       "      <th>2</th>\n",
       "      <td>Fahkwang-Light_300_rand_crop_5.jpg</td>\n",
       "      <td>Fahkwang-Light</td>\n",
       "    </tr>\n",
       "    <tr>\n",
       "      <th>3</th>\n",
       "      <td>Fahkwang-Italic_80_rand_crop_7.jpg</td>\n",
       "      <td>Fahkwang-Italic</td>\n",
       "    </tr>\n",
       "    <tr>\n",
       "      <th>4</th>\n",
       "      <td>Lato-Light_50_rand_crop_1.jpg</td>\n",
       "      <td>Lato-Light</td>\n",
       "    </tr>\n",
       "  </tbody>\n",
       "</table>\n",
       "</div>"
      ],
      "text/plain": [
       "                                  filename                class\n",
       "0  Fahkwang-BoldItalic_300_rand_crop_5.jpg  Fahkwang-BoldItalic\n",
       "1      Lora-BoldItalic_150_rand_crop_0.jpg      Lora-BoldItalic\n",
       "2       Fahkwang-Light_300_rand_crop_5.jpg       Fahkwang-Light\n",
       "3       Fahkwang-Italic_80_rand_crop_7.jpg      Fahkwang-Italic\n",
       "4            Lato-Light_50_rand_crop_1.jpg           Lato-Light"
      ]
     },
     "execution_count": 4,
     "metadata": {},
     "output_type": "execute_result"
    }
   ],
   "source": [
    "df_train.head()"
   ]
  },
  {
   "cell_type": "code",
   "execution_count": 5,
   "metadata": {},
   "outputs": [],
   "source": [
    "df_train['path'] = df_train.filename.apply(lambda x: f\"{x.split('-')[0]}/{x}\")\n",
    "df_train['labels'] = df_train['class'].apply(lambda x: ','.join(x.split('-')))"
   ]
  },
  {
   "cell_type": "code",
   "execution_count": 6,
   "metadata": {},
   "outputs": [
    {
     "data": {
      "text/html": [
       "<div>\n",
       "<style scoped>\n",
       "    .dataframe tbody tr th:only-of-type {\n",
       "        vertical-align: middle;\n",
       "    }\n",
       "\n",
       "    .dataframe tbody tr th {\n",
       "        vertical-align: top;\n",
       "    }\n",
       "\n",
       "    .dataframe thead th {\n",
       "        text-align: right;\n",
       "    }\n",
       "</style>\n",
       "<table border=\"1\" class=\"dataframe\">\n",
       "  <thead>\n",
       "    <tr style=\"text-align: right;\">\n",
       "      <th></th>\n",
       "      <th>filename</th>\n",
       "      <th>class</th>\n",
       "      <th>path</th>\n",
       "      <th>labels</th>\n",
       "    </tr>\n",
       "  </thead>\n",
       "  <tbody>\n",
       "    <tr>\n",
       "      <th>0</th>\n",
       "      <td>Fahkwang-BoldItalic_300_rand_crop_5.jpg</td>\n",
       "      <td>Fahkwang-BoldItalic</td>\n",
       "      <td>Fahkwang/Fahkwang-BoldItalic_300_rand_crop_5.jpg</td>\n",
       "      <td>Fahkwang,BoldItalic</td>\n",
       "    </tr>\n",
       "    <tr>\n",
       "      <th>1</th>\n",
       "      <td>Lora-BoldItalic_150_rand_crop_0.jpg</td>\n",
       "      <td>Lora-BoldItalic</td>\n",
       "      <td>Lora/Lora-BoldItalic_150_rand_crop_0.jpg</td>\n",
       "      <td>Lora,BoldItalic</td>\n",
       "    </tr>\n",
       "    <tr>\n",
       "      <th>2</th>\n",
       "      <td>Fahkwang-Light_300_rand_crop_5.jpg</td>\n",
       "      <td>Fahkwang-Light</td>\n",
       "      <td>Fahkwang/Fahkwang-Light_300_rand_crop_5.jpg</td>\n",
       "      <td>Fahkwang,Light</td>\n",
       "    </tr>\n",
       "    <tr>\n",
       "      <th>3</th>\n",
       "      <td>Fahkwang-Italic_80_rand_crop_7.jpg</td>\n",
       "      <td>Fahkwang-Italic</td>\n",
       "      <td>Fahkwang/Fahkwang-Italic_80_rand_crop_7.jpg</td>\n",
       "      <td>Fahkwang,Italic</td>\n",
       "    </tr>\n",
       "    <tr>\n",
       "      <th>4</th>\n",
       "      <td>Lato-Light_50_rand_crop_1.jpg</td>\n",
       "      <td>Lato-Light</td>\n",
       "      <td>Lato/Lato-Light_50_rand_crop_1.jpg</td>\n",
       "      <td>Lato,Light</td>\n",
       "    </tr>\n",
       "  </tbody>\n",
       "</table>\n",
       "</div>"
      ],
      "text/plain": [
       "                                  filename                class  \\\n",
       "0  Fahkwang-BoldItalic_300_rand_crop_5.jpg  Fahkwang-BoldItalic   \n",
       "1      Lora-BoldItalic_150_rand_crop_0.jpg      Lora-BoldItalic   \n",
       "2       Fahkwang-Light_300_rand_crop_5.jpg       Fahkwang-Light   \n",
       "3       Fahkwang-Italic_80_rand_crop_7.jpg      Fahkwang-Italic   \n",
       "4            Lato-Light_50_rand_crop_1.jpg           Lato-Light   \n",
       "\n",
       "                                               path               labels  \n",
       "0  Fahkwang/Fahkwang-BoldItalic_300_rand_crop_5.jpg  Fahkwang,BoldItalic  \n",
       "1          Lora/Lora-BoldItalic_150_rand_crop_0.jpg      Lora,BoldItalic  \n",
       "2       Fahkwang/Fahkwang-Light_300_rand_crop_5.jpg       Fahkwang,Light  \n",
       "3       Fahkwang/Fahkwang-Italic_80_rand_crop_7.jpg      Fahkwang,Italic  \n",
       "4                Lato/Lato-Light_50_rand_crop_1.jpg           Lato,Light  "
      ]
     },
     "execution_count": 6,
     "metadata": {},
     "output_type": "execute_result"
    }
   ],
   "source": [
    "df_train.head()"
   ]
  },
  {
   "cell_type": "code",
   "execution_count": 7,
   "metadata": {},
   "outputs": [],
   "source": [
    "df_train = df_train[['path', 'labels']]\n",
    "df_train.columns = ['x', 'y']"
   ]
  },
  {
   "cell_type": "code",
   "execution_count": 8,
   "metadata": {},
   "outputs": [],
   "source": [
    "data = (ImageList.from_df(df_train, path=PATH, cols=['x'], folder='training')\n",
    "     .random_split_by_pct(valid_pct=0.1)\n",
    "     #How to split in train/valid? -> randomly with the default 20% in valid\n",
    "     .label_from_df(cols=['y'], label_delim=',')\n",
    "     .transform(get_transforms(do_flip=False), size=256)\n",
    "     .databunch(bs=32)\n",
    "     .normalize(imagenet_stats)\n",
    ")"
   ]
  },
  {
   "cell_type": "code",
   "execution_count": 9,
   "metadata": {},
   "outputs": [
    {
     "data": {
      "text/plain": [
       "array(['Fahkwang,BoldItalic', 'Lora,BoldItalic', 'Fahkwang,Light', 'Fahkwang,Italic', 'Lato,Light',\n",
       "       'Merriweather,Black', 'Fahkwang,Medium', 'Fahkwang,LightItalic', 'MajorMonoDisplay,Regular', 'Lato,BoldItalic',\n",
       "       'Lato,LightItalic', 'Fahkwang,Bold', 'Lato,BlackItalic', 'Lato,HairlineItalic', 'Lora,Italic',\n",
       "       'Fahkwang,MediumItalic', 'Fahkwang,SemiBold', 'Fahkwang,ExtraLight', 'Lato,Black', 'Merriweather,BlackItalic',\n",
       "       'Lato,Regular', 'Lato,Hairline', 'Lobster,Regular', 'Fahkwang,Regular', 'Fahkwang,SemiBoldItalic',\n",
       "       'Lora,Regular', 'Fahkwang,ExtraLightItalic', 'Lato,Italic', 'Lora,Bold', 'Merriweather,Bold', 'Lato,Bold',\n",
       "       'Merriweather,BoldItalic'], dtype=object)"
      ]
     },
     "execution_count": 9,
     "metadata": {},
     "output_type": "execute_result"
    }
   ],
   "source": [
    "df_train.y.unique()"
   ]
  },
  {
   "cell_type": "code",
   "execution_count": 10,
   "metadata": {},
   "outputs": [
    {
     "data": {
      "text/plain": [
       "['Black',\n",
       " 'BlackItalic',\n",
       " 'Bold',\n",
       " 'BoldItalic',\n",
       " 'ExtraLight',\n",
       " 'ExtraLightItalic',\n",
       " 'Fahkwang',\n",
       " 'Hairline',\n",
       " 'HairlineItalic',\n",
       " 'Italic',\n",
       " 'Lato',\n",
       " 'Light',\n",
       " 'LightItalic',\n",
       " 'Lobster',\n",
       " 'Lora',\n",
       " 'MajorMonoDisplay',\n",
       " 'Medium',\n",
       " 'MediumItalic',\n",
       " 'Merriweather',\n",
       " 'Regular',\n",
       " 'SemiBold',\n",
       " 'SemiBoldItalic']"
      ]
     },
     "execution_count": 10,
     "metadata": {},
     "output_type": "execute_result"
    }
   ],
   "source": [
    "data.classes"
   ]
  },
  {
   "cell_type": "code",
   "execution_count": 11,
   "metadata": {},
   "outputs": [
    {
     "data": {
      "text/plain": [
       "device(type='cuda')"
      ]
     },
     "execution_count": 11,
     "metadata": {},
     "output_type": "execute_result"
    }
   ],
   "source": [
    "data.device"
   ]
  },
  {
   "cell_type": "code",
   "execution_count": 12,
   "metadata": {},
   "outputs": [],
   "source": [
    "from torch.cuda import get_device_name"
   ]
  },
  {
   "cell_type": "code",
   "execution_count": 13,
   "metadata": {},
   "outputs": [
    {
     "data": {
      "text/plain": [
       "0"
      ]
     },
     "execution_count": 13,
     "metadata": {},
     "output_type": "execute_result"
    }
   ],
   "source": [
    "torch.cuda.current_device()"
   ]
  },
  {
   "cell_type": "code",
   "execution_count": 14,
   "metadata": {},
   "outputs": [],
   "source": [
    "ds = data.train_ds"
   ]
  },
  {
   "cell_type": "code",
   "execution_count": 15,
   "metadata": {},
   "outputs": [
    {
     "data": {
      "text/plain": [
       "900"
      ]
     },
     "execution_count": 15,
     "metadata": {},
     "output_type": "execute_result"
    }
   ],
   "source": [
    "len(ds.y)"
   ]
  },
  {
   "cell_type": "code",
   "execution_count": 16,
   "metadata": {},
   "outputs": [
    {
     "data": {
      "text/plain": [
       "99"
      ]
     },
     "execution_count": 16,
     "metadata": {},
     "output_type": "execute_result"
    }
   ],
   "source": [
    "len(data.valid_ds.y)"
   ]
  },
  {
   "cell_type": "code",
   "execution_count": 17,
   "metadata": {},
   "outputs": [
    {
     "data": {
      "image/jpeg": "[encoded data removed]",
      "image/png": "[encoded data removed]",
      "text/plain": [
       "Image (3, 256, 256)"
      ]
     },
     "execution_count": 17,
     "metadata": {},
     "output_type": "execute_result"
    }
   ],
   "source": [
    "img,label = ds[411]\n",
    "img"
   ]
  },
  {
   "cell_type": "code",
   "execution_count": 18,
   "metadata": {},
   "outputs": [
    {
     "data": {
      "image/png": "[encoded data removed]",
      "text/plain": [
       "<Figure size 144x144 with 1 Axes>"
      ]
     },
     "metadata": {
      "needs_background": "light"
     },
     "output_type": "display_data"
    }
   ],
   "source": [
    "img.show(figsize=(2,2), title=label)\n"
   ]
  },
  {
   "cell_type": "code",
   "execution_count": 19,
   "metadata": {},
   "outputs": [],
   "source": [
    "learn = create_cnn(data, models.resnet34, metrics=fbeta)"
   ]
  },
  {
   "cell_type": "code",
   "execution_count": 20,
   "metadata": {},
   "outputs": [],
   "source": [
    "learn.crit = nn.BCEWithLogitsLoss"
   ]
  },
  {
   "cell_type": "code",
   "execution_count": 21,
   "metadata": {},
   "outputs": [],
   "source": [
    "data.batch_size = 32"
   ]
  },
  {
   "cell_type": "code",
   "execution_count": 22,
   "metadata": {},
   "outputs": [
    {
     "data": {
      "text/html": [
       "<div>\n",
       "<style scoped>\n",
       "    .dataframe tbody tr th:only-of-type {\n",
       "        vertical-align: middle;\n",
       "    }\n",
       "\n",
       "    .dataframe tbody tr th {\n",
       "        vertical-align: top;\n",
       "    }\n",
       "\n",
       "    .dataframe thead th {\n",
       "        text-align: right;\n",
       "    }\n",
       "</style>\n",
       "<table border=\"1\" class=\"dataframe\">\n",
       "  <thead>\n",
       "    <tr style=\"text-align: right;\">\n",
       "      <th></th>\n",
       "      <th>x</th>\n",
       "      <th>y</th>\n",
       "    </tr>\n",
       "  </thead>\n",
       "  <tbody>\n",
       "    <tr>\n",
       "      <th>0</th>\n",
       "      <td>Fahkwang/Fahkwang-BoldItalic_300_rand_crop_5.jpg</td>\n",
       "      <td>Fahkwang,BoldItalic</td>\n",
       "    </tr>\n",
       "    <tr>\n",
       "      <th>1</th>\n",
       "      <td>Lora/Lora-BoldItalic_150_rand_crop_0.jpg</td>\n",
       "      <td>Lora,BoldItalic</td>\n",
       "    </tr>\n",
       "    <tr>\n",
       "      <th>2</th>\n",
       "      <td>Fahkwang/Fahkwang-Light_300_rand_crop_5.jpg</td>\n",
       "      <td>Fahkwang,Light</td>\n",
       "    </tr>\n",
       "    <tr>\n",
       "      <th>3</th>\n",
       "      <td>Fahkwang/Fahkwang-Italic_80_rand_crop_7.jpg</td>\n",
       "      <td>Fahkwang,Italic</td>\n",
       "    </tr>\n",
       "    <tr>\n",
       "      <th>4</th>\n",
       "      <td>Lato/Lato-Light_50_rand_crop_1.jpg</td>\n",
       "      <td>Lato,Light</td>\n",
       "    </tr>\n",
       "  </tbody>\n",
       "</table>\n",
       "</div>"
      ],
      "text/plain": [
       "                                                  x                    y\n",
       "0  Fahkwang/Fahkwang-BoldItalic_300_rand_crop_5.jpg  Fahkwang,BoldItalic\n",
       "1          Lora/Lora-BoldItalic_150_rand_crop_0.jpg      Lora,BoldItalic\n",
       "2       Fahkwang/Fahkwang-Light_300_rand_crop_5.jpg       Fahkwang,Light\n",
       "3       Fahkwang/Fahkwang-Italic_80_rand_crop_7.jpg      Fahkwang,Italic\n",
       "4                Lato/Lato-Light_50_rand_crop_1.jpg           Lato,Light"
      ]
     },
     "execution_count": 22,
     "metadata": {},
     "output_type": "execute_result"
    }
   ],
   "source": [
    "df_train.head()"
   ]
  },
  {
   "cell_type": "code",
   "execution_count": 23,
   "metadata": {},
   "outputs": [
    {
     "data": {
      "text/html": [
       "<div>\n",
       "<style scoped>\n",
       "    .dataframe tbody tr th:only-of-type {\n",
       "        vertical-align: middle;\n",
       "    }\n",
       "\n",
       "    .dataframe tbody tr th {\n",
       "        vertical-align: top;\n",
       "    }\n",
       "\n",
       "    .dataframe thead th {\n",
       "        text-align: right;\n",
       "    }\n",
       "</style>\n",
       "<table border=\"1\" class=\"dataframe\">\n",
       "  <thead>\n",
       "    <tr style=\"text-align: right;\">\n",
       "      <th></th>\n",
       "      <th>x</th>\n",
       "      <th>y</th>\n",
       "    </tr>\n",
       "  </thead>\n",
       "  <tbody>\n",
       "    <tr>\n",
       "      <th>667</th>\n",
       "      <td>MajorMonoDisplay/MajorMonoDisplay-Regular_80_r...</td>\n",
       "      <td>MajorMonoDisplay,Regular</td>\n",
       "    </tr>\n",
       "  </tbody>\n",
       "</table>\n",
       "</div>"
      ],
      "text/plain": [
       "                                                     x  \\\n",
       "667  MajorMonoDisplay/MajorMonoDisplay-Regular_80_r...   \n",
       "\n",
       "                            y  \n",
       "667  MajorMonoDisplay,Regular  "
      ]
     },
     "execution_count": 23,
     "metadata": {},
     "output_type": "execute_result"
    }
   ],
   "source": [
    "df_train.loc[df_train['x'] == 'MajorMonoDisplay/MajorMonoDisplay-Regular_80_rand_crop_9.jpg']"
   ]
  },
  {
   "cell_type": "code",
   "execution_count": 24,
   "metadata": {},
   "outputs": [
    {
     "data": {
      "text/html": [],
      "text/plain": [
       "<IPython.core.display.HTML object>"
      ]
     },
     "metadata": {},
     "output_type": "display_data"
    },
    {
     "name": "stdout",
     "output_type": "stream",
     "text": [
      "LR Finder is complete, type {learner_name}.recorder.plot() to see the graph.\n"
     ]
    }
   ],
   "source": [
    "learn.lr_find()"
   ]
  },
  {
   "cell_type": "code",
   "execution_count": 25,
   "metadata": {},
   "outputs": [
    {
     "data": {
      "image/png": "[encoded data removed]",
      "text/plain": [
       "<Figure size 432x288 with 1 Axes>"
      ]
     },
     "metadata": {
      "needs_background": "light"
     },
     "output_type": "display_data"
    }
   ],
   "source": [
    "learn.recorder.plot()"
   ]
  },
  {
   "cell_type": "code",
   "execution_count": 26,
   "metadata": {},
   "outputs": [],
   "source": [
    "lr = 1e-01"
   ]
  },
  {
   "cell_type": "code",
   "execution_count": 27,
   "metadata": {},
   "outputs": [
    {
     "data": {
      "text/plain": [
       "0.1"
      ]
     },
     "execution_count": 27,
     "metadata": {},
     "output_type": "execute_result"
    }
   ],
   "source": [
    "lr"
   ]
  },
  {
   "cell_type": "code",
   "execution_count": 28,
   "metadata": {},
   "outputs": [
    {
     "data": {
      "text/html": [
       "Total time: 01:28 <p><table border=\"1\" class=\"dataframe\">\n",
       "  <thead>\n",
       "    <tr style=\"text-align: left;\">\n",
       "      <th>epoch</th>\n",
       "      <th>train_loss</th>\n",
       "      <th>valid_loss</th>\n",
       "      <th>fbeta</th>\n",
       "      <th>time</th>\n",
       "    </tr>\n",
       "  </thead>\n",
       "  <tbody>\n",
       "    <tr>\n",
       "      <td>1</td>\n",
       "      <td>0.471756</td>\n",
       "      <td>0.540242</td>\n",
       "      <td>0.305138</td>\n",
       "      <td>00:09</td>\n",
       "    </tr>\n",
       "    <tr>\n",
       "      <td>2</td>\n",
       "      <td>0.330330</td>\n",
       "      <td>0.378484</td>\n",
       "      <td>0.420555</td>\n",
       "      <td>00:08</td>\n",
       "    </tr>\n",
       "    <tr>\n",
       "      <td>3</td>\n",
       "      <td>0.295141</td>\n",
       "      <td>0.472673</td>\n",
       "      <td>0.353773</td>\n",
       "      <td>00:08</td>\n",
       "    </tr>\n",
       "    <tr>\n",
       "      <td>4</td>\n",
       "      <td>0.317091</td>\n",
       "      <td>0.604686</td>\n",
       "      <td>0.236379</td>\n",
       "      <td>00:08</td>\n",
       "    </tr>\n",
       "    <tr>\n",
       "      <td>5</td>\n",
       "      <td>0.321163</td>\n",
       "      <td>0.414953</td>\n",
       "      <td>0.336113</td>\n",
       "      <td>00:08</td>\n",
       "    </tr>\n",
       "    <tr>\n",
       "      <td>6</td>\n",
       "      <td>0.305958</td>\n",
       "      <td>0.275864</td>\n",
       "      <td>0.390951</td>\n",
       "      <td>00:08</td>\n",
       "    </tr>\n",
       "    <tr>\n",
       "      <td>7</td>\n",
       "      <td>0.271105</td>\n",
       "      <td>0.246438</td>\n",
       "      <td>0.587367</td>\n",
       "      <td>00:08</td>\n",
       "    </tr>\n",
       "    <tr>\n",
       "      <td>8</td>\n",
       "      <td>0.236617</td>\n",
       "      <td>0.145716</td>\n",
       "      <td>0.730730</td>\n",
       "      <td>00:08</td>\n",
       "    </tr>\n",
       "    <tr>\n",
       "      <td>9</td>\n",
       "      <td>0.202201</td>\n",
       "      <td>0.154440</td>\n",
       "      <td>0.795025</td>\n",
       "      <td>00:08</td>\n",
       "    </tr>\n",
       "    <tr>\n",
       "      <td>10</td>\n",
       "      <td>0.177614</td>\n",
       "      <td>0.124318</td>\n",
       "      <td>0.793940</td>\n",
       "      <td>00:08</td>\n",
       "    </tr>\n",
       "  </tbody>\n",
       "</table>"
      ],
      "text/plain": [
       "<IPython.core.display.HTML object>"
      ]
     },
     "metadata": {},
     "output_type": "display_data"
    }
   ],
   "source": [
    "learn.fit_one_cycle(10, max_lr=lr)"
   ]
  },
  {
   "cell_type": "code",
   "execution_count": 29,
   "metadata": {},
   "outputs": [],
   "source": [
    "learn.unfreeze()"
   ]
  },
  {
   "cell_type": "code",
   "execution_count": 30,
   "metadata": {},
   "outputs": [
    {
     "data": {
      "text/html": [],
      "text/plain": [
       "<IPython.core.display.HTML object>"
      ]
     },
     "metadata": {},
     "output_type": "display_data"
    },
    {
     "name": "stdout",
     "output_type": "stream",
     "text": [
      "LR Finder is complete, type {learner_name}.recorder.plot() to see the graph.\n"
     ]
    }
   ],
   "source": [
    "learn.lr_find()"
   ]
  },
  {
   "cell_type": "code",
   "execution_count": 31,
   "metadata": {},
   "outputs": [
    {
     "data": {
      "image/png": "[encoded data removed]",
      "text/plain": [
       "<Figure size 432x288 with 1 Axes>"
      ]
     },
     "metadata": {
      "needs_background": "light"
     },
     "output_type": "display_data"
    }
   ],
   "source": [
    "learn.recorder.plot()"
   ]
  },
  {
   "cell_type": "code",
   "execution_count": 34,
   "metadata": {},
   "outputs": [],
   "source": [
    "lr = 1e-05"
   ]
  },
  {
   "cell_type": "code",
   "execution_count": 35,
   "metadata": {},
   "outputs": [
    {
     "data": {
      "text/plain": [
       "1e-05"
      ]
     },
     "execution_count": 35,
     "metadata": {},
     "output_type": "execute_result"
    }
   ],
   "source": [
    "lr"
   ]
  },
  {
   "cell_type": "code",
   "execution_count": 36,
   "metadata": {},
   "outputs": [
    {
     "data": {
      "text/html": [
       "Total time: 02:01 <p><table border=\"1\" class=\"dataframe\">\n",
       "  <thead>\n",
       "    <tr style=\"text-align: left;\">\n",
       "      <th>epoch</th>\n",
       "      <th>train_loss</th>\n",
       "      <th>valid_loss</th>\n",
       "      <th>fbeta</th>\n",
       "      <th>time</th>\n",
       "    </tr>\n",
       "  </thead>\n",
       "  <tbody>\n",
       "    <tr>\n",
       "      <td>1</td>\n",
       "      <td>0.146605</td>\n",
       "      <td>0.115626</td>\n",
       "      <td>0.793021</td>\n",
       "      <td>00:12</td>\n",
       "    </tr>\n",
       "    <tr>\n",
       "      <td>2</td>\n",
       "      <td>0.143635</td>\n",
       "      <td>0.111268</td>\n",
       "      <td>0.831601</td>\n",
       "      <td>00:12</td>\n",
       "    </tr>\n",
       "    <tr>\n",
       "      <td>3</td>\n",
       "      <td>0.143665</td>\n",
       "      <td>0.116104</td>\n",
       "      <td>0.802373</td>\n",
       "      <td>00:12</td>\n",
       "    </tr>\n",
       "    <tr>\n",
       "      <td>4</td>\n",
       "      <td>0.146163</td>\n",
       "      <td>0.210772</td>\n",
       "      <td>0.783620</td>\n",
       "      <td>00:12</td>\n",
       "    </tr>\n",
       "    <tr>\n",
       "      <td>5</td>\n",
       "      <td>0.144220</td>\n",
       "      <td>0.808420</td>\n",
       "      <td>0.806635</td>\n",
       "      <td>00:12</td>\n",
       "    </tr>\n",
       "    <tr>\n",
       "      <td>6</td>\n",
       "      <td>0.144292</td>\n",
       "      <td>0.709766</td>\n",
       "      <td>0.819291</td>\n",
       "      <td>00:12</td>\n",
       "    </tr>\n",
       "    <tr>\n",
       "      <td>7</td>\n",
       "      <td>0.143660</td>\n",
       "      <td>0.968521</td>\n",
       "      <td>0.802752</td>\n",
       "      <td>00:12</td>\n",
       "    </tr>\n",
       "    <tr>\n",
       "      <td>8</td>\n",
       "      <td>0.143403</td>\n",
       "      <td>0.690756</td>\n",
       "      <td>0.792079</td>\n",
       "      <td>00:12</td>\n",
       "    </tr>\n",
       "    <tr>\n",
       "      <td>9</td>\n",
       "      <td>0.143599</td>\n",
       "      <td>0.817078</td>\n",
       "      <td>0.821582</td>\n",
       "      <td>00:12</td>\n",
       "    </tr>\n",
       "    <tr>\n",
       "      <td>10</td>\n",
       "      <td>0.144677</td>\n",
       "      <td>0.961224</td>\n",
       "      <td>0.806807</td>\n",
       "      <td>00:12</td>\n",
       "    </tr>\n",
       "  </tbody>\n",
       "</table>"
      ],
      "text/plain": [
       "<IPython.core.display.HTML object>"
      ]
     },
     "metadata": {},
     "output_type": "display_data"
    }
   ],
   "source": [
    "learn.fit_one_cycle(10, max_lr=lr)"
   ]
  },
  {
   "cell_type": "code",
   "execution_count": 37,
   "metadata": {},
   "outputs": [],
   "source": [
    "learn.freeze()"
   ]
  },
  {
   "cell_type": "code",
   "execution_count": 38,
   "metadata": {},
   "outputs": [
    {
     "data": {
      "text/html": [],
      "text/plain": [
       "<IPython.core.display.HTML object>"
      ]
     },
     "metadata": {},
     "output_type": "display_data"
    },
    {
     "name": "stdout",
     "output_type": "stream",
     "text": [
      "LR Finder is complete, type {learner_name}.recorder.plot() to see the graph.\n"
     ]
    }
   ],
   "source": [
    "learn.lr_find()"
   ]
  },
  {
   "cell_type": "code",
   "execution_count": 39,
   "metadata": {},
   "outputs": [
    {
     "data": {
      "image/png": "[encoded data removed]",
      "text/plain": [
       "<Figure size 432x288 with 1 Axes>"
      ]
     },
     "metadata": {
      "needs_background": "light"
     },
     "output_type": "display_data"
    }
   ],
   "source": [
    "learn.recorder.plot()"
   ]
  },
  {
   "cell_type": "code",
   "execution_count": 40,
   "metadata": {},
   "outputs": [],
   "source": [
    "lr = 1e-02"
   ]
  },
  {
   "cell_type": "code",
   "execution_count": 41,
   "metadata": {},
   "outputs": [
    {
     "data": {
      "text/plain": [
       "0.01"
      ]
     },
     "execution_count": 41,
     "metadata": {},
     "output_type": "execute_result"
    }
   ],
   "source": [
    "lr"
   ]
  },
  {
   "cell_type": "code",
   "execution_count": 42,
   "metadata": {},
   "outputs": [
    {
     "data": {
      "text/html": [
       "Total time: 01:28 <p><table border=\"1\" class=\"dataframe\">\n",
       "  <thead>\n",
       "    <tr style=\"text-align: left;\">\n",
       "      <th>epoch</th>\n",
       "      <th>train_loss</th>\n",
       "      <th>valid_loss</th>\n",
       "      <th>fbeta</th>\n",
       "      <th>time</th>\n",
       "    </tr>\n",
       "  </thead>\n",
       "  <tbody>\n",
       "    <tr>\n",
       "      <td>1</td>\n",
       "      <td>0.144880</td>\n",
       "      <td>0.607852</td>\n",
       "      <td>0.819553</td>\n",
       "      <td>00:08</td>\n",
       "    </tr>\n",
       "    <tr>\n",
       "      <td>2</td>\n",
       "      <td>0.141591</td>\n",
       "      <td>1.211108</td>\n",
       "      <td>0.793283</td>\n",
       "      <td>00:08</td>\n",
       "    </tr>\n",
       "    <tr>\n",
       "      <td>3</td>\n",
       "      <td>0.141096</td>\n",
       "      <td>1.567345</td>\n",
       "      <td>0.781378</td>\n",
       "      <td>00:08</td>\n",
       "    </tr>\n",
       "    <tr>\n",
       "      <td>4</td>\n",
       "      <td>0.139446</td>\n",
       "      <td>1.390405</td>\n",
       "      <td>0.803684</td>\n",
       "      <td>00:08</td>\n",
       "    </tr>\n",
       "    <tr>\n",
       "      <td>5</td>\n",
       "      <td>0.134822</td>\n",
       "      <td>0.101091</td>\n",
       "      <td>0.794179</td>\n",
       "      <td>00:08</td>\n",
       "    </tr>\n",
       "    <tr>\n",
       "      <td>6</td>\n",
       "      <td>0.127673</td>\n",
       "      <td>0.115909</td>\n",
       "      <td>0.851973</td>\n",
       "      <td>00:08</td>\n",
       "    </tr>\n",
       "    <tr>\n",
       "      <td>7</td>\n",
       "      <td>0.122253</td>\n",
       "      <td>0.083324</td>\n",
       "      <td>0.871697</td>\n",
       "      <td>00:08</td>\n",
       "    </tr>\n",
       "    <tr>\n",
       "      <td>8</td>\n",
       "      <td>0.118083</td>\n",
       "      <td>0.072897</td>\n",
       "      <td>0.902816</td>\n",
       "      <td>00:08</td>\n",
       "    </tr>\n",
       "    <tr>\n",
       "      <td>9</td>\n",
       "      <td>0.113160</td>\n",
       "      <td>0.069941</td>\n",
       "      <td>0.886746</td>\n",
       "      <td>00:08</td>\n",
       "    </tr>\n",
       "    <tr>\n",
       "      <td>10</td>\n",
       "      <td>0.109525</td>\n",
       "      <td>0.071507</td>\n",
       "      <td>0.893123</td>\n",
       "      <td>00:08</td>\n",
       "    </tr>\n",
       "  </tbody>\n",
       "</table>"
      ],
      "text/plain": [
       "<IPython.core.display.HTML object>"
      ]
     },
     "metadata": {},
     "output_type": "display_data"
    }
   ],
   "source": [
    "learn.fit_one_cycle(10, max_lr=lr)"
   ]
  },
  {
   "cell_type": "code",
   "execution_count": 43,
   "metadata": {},
   "outputs": [],
   "source": [
    "learn.unfreeze()"
   ]
  },
  {
   "cell_type": "code",
   "execution_count": 44,
   "metadata": {},
   "outputs": [
    {
     "data": {
      "text/html": [],
      "text/plain": [
       "<IPython.core.display.HTML object>"
      ]
     },
     "metadata": {},
     "output_type": "display_data"
    },
    {
     "name": "stdout",
     "output_type": "stream",
     "text": [
      "LR Finder is complete, type {learner_name}.recorder.plot() to see the graph.\n"
     ]
    }
   ],
   "source": [
    "learn.lr_find()"
   ]
  },
  {
   "cell_type": "code",
   "execution_count": 45,
   "metadata": {},
   "outputs": [
    {
     "data": {
      "image/png": "[encoded data removed]",
      "text/plain": [
       "<Figure size 432x288 with 1 Axes>"
      ]
     },
     "metadata": {
      "needs_background": "light"
     },
     "output_type": "display_data"
    }
   ],
   "source": [
    "learn.recorder.plot()"
   ]
  },
  {
   "cell_type": "code",
   "execution_count": 46,
   "metadata": {},
   "outputs": [],
   "source": [
    "lr = 1e-04"
   ]
  },
  {
   "cell_type": "code",
   "execution_count": 47,
   "metadata": {},
   "outputs": [
    {
     "data": {
      "text/plain": [
       "0.0001"
      ]
     },
     "execution_count": 47,
     "metadata": {},
     "output_type": "execute_result"
    }
   ],
   "source": [
    "lr"
   ]
  },
  {
   "cell_type": "code",
   "execution_count": 48,
   "metadata": {},
   "outputs": [
    {
     "data": {
      "text/html": [
       "Total time: 02:01 <p><table border=\"1\" class=\"dataframe\">\n",
       "  <thead>\n",
       "    <tr style=\"text-align: left;\">\n",
       "      <th>epoch</th>\n",
       "      <th>train_loss</th>\n",
       "      <th>valid_loss</th>\n",
       "      <th>fbeta</th>\n",
       "      <th>time</th>\n",
       "    </tr>\n",
       "  </thead>\n",
       "  <tbody>\n",
       "    <tr>\n",
       "      <td>1</td>\n",
       "      <td>0.113764</td>\n",
       "      <td>0.080065</td>\n",
       "      <td>0.862504</td>\n",
       "      <td>00:12</td>\n",
       "    </tr>\n",
       "    <tr>\n",
       "      <td>2</td>\n",
       "      <td>0.112341</td>\n",
       "      <td>0.144414</td>\n",
       "      <td>0.809173</td>\n",
       "      <td>00:12</td>\n",
       "    </tr>\n",
       "    <tr>\n",
       "      <td>3</td>\n",
       "      <td>0.114317</td>\n",
       "      <td>0.658779</td>\n",
       "      <td>0.801950</td>\n",
       "      <td>00:12</td>\n",
       "    </tr>\n",
       "    <tr>\n",
       "      <td>4</td>\n",
       "      <td>0.112765</td>\n",
       "      <td>0.084665</td>\n",
       "      <td>0.878268</td>\n",
       "      <td>00:12</td>\n",
       "    </tr>\n",
       "    <tr>\n",
       "      <td>5</td>\n",
       "      <td>0.113140</td>\n",
       "      <td>4.462151</td>\n",
       "      <td>0.647255</td>\n",
       "      <td>00:12</td>\n",
       "    </tr>\n",
       "    <tr>\n",
       "      <td>6</td>\n",
       "      <td>0.107027</td>\n",
       "      <td>0.077405</td>\n",
       "      <td>0.877222</td>\n",
       "      <td>00:12</td>\n",
       "    </tr>\n",
       "    <tr>\n",
       "      <td>7</td>\n",
       "      <td>0.101257</td>\n",
       "      <td>0.055281</td>\n",
       "      <td>0.916437</td>\n",
       "      <td>00:12</td>\n",
       "    </tr>\n",
       "    <tr>\n",
       "      <td>8</td>\n",
       "      <td>0.095346</td>\n",
       "      <td>0.049488</td>\n",
       "      <td>0.935109</td>\n",
       "      <td>00:12</td>\n",
       "    </tr>\n",
       "    <tr>\n",
       "      <td>9</td>\n",
       "      <td>0.094295</td>\n",
       "      <td>0.054118</td>\n",
       "      <td>0.905724</td>\n",
       "      <td>00:12</td>\n",
       "    </tr>\n",
       "    <tr>\n",
       "      <td>10</td>\n",
       "      <td>0.095246</td>\n",
       "      <td>0.057459</td>\n",
       "      <td>0.906336</td>\n",
       "      <td>00:12</td>\n",
       "    </tr>\n",
       "  </tbody>\n",
       "</table>"
      ],
      "text/plain": [
       "<IPython.core.display.HTML object>"
      ]
     },
     "metadata": {},
     "output_type": "display_data"
    }
   ],
   "source": [
    "learn.fit_one_cycle(10, max_lr=lr)"
   ]
  },
  {
   "cell_type": "code",
   "execution_count": 49,
   "metadata": {},
   "outputs": [],
   "source": [
    "learn.freeze()"
   ]
  },
  {
   "cell_type": "code",
   "execution_count": 50,
   "metadata": {},
   "outputs": [
    {
     "data": {
      "text/html": [],
      "text/plain": [
       "<IPython.core.display.HTML object>"
      ]
     },
     "metadata": {},
     "output_type": "display_data"
    },
    {
     "name": "stdout",
     "output_type": "stream",
     "text": [
      "LR Finder is complete, type {learner_name}.recorder.plot() to see the graph.\n"
     ]
    }
   ],
   "source": [
    "learn.lr_find()"
   ]
  },
  {
   "cell_type": "code",
   "execution_count": 51,
   "metadata": {},
   "outputs": [
    {
     "data": {
      "image/png": "[encoded data removed]",
      "text/plain": [
       "<Figure size 432x288 with 1 Axes>"
      ]
     },
     "metadata": {
      "needs_background": "light"
     },
     "output_type": "display_data"
    }
   ],
   "source": [
    "learn.recorder.plot()"
   ]
  },
  {
   "cell_type": "code",
   "execution_count": 54,
   "metadata": {},
   "outputs": [],
   "source": [
    "lr = 1e-04"
   ]
  },
  {
   "cell_type": "code",
   "execution_count": 55,
   "metadata": {},
   "outputs": [
    {
     "data": {
      "text/plain": [
       "0.0001"
      ]
     },
     "execution_count": 55,
     "metadata": {},
     "output_type": "execute_result"
    }
   ],
   "source": [
    "lr"
   ]
  },
  {
   "cell_type": "code",
   "execution_count": 56,
   "metadata": {},
   "outputs": [
    {
     "data": {
      "text/html": [
       "Total time: 01:28 <p><table border=\"1\" class=\"dataframe\">\n",
       "  <thead>\n",
       "    <tr style=\"text-align: left;\">\n",
       "      <th>epoch</th>\n",
       "      <th>train_loss</th>\n",
       "      <th>valid_loss</th>\n",
       "      <th>fbeta</th>\n",
       "      <th>time</th>\n",
       "    </tr>\n",
       "  </thead>\n",
       "  <tbody>\n",
       "    <tr>\n",
       "      <td>1</td>\n",
       "      <td>0.093873</td>\n",
       "      <td>0.052617</td>\n",
       "      <td>0.912560</td>\n",
       "      <td>00:08</td>\n",
       "    </tr>\n",
       "    <tr>\n",
       "      <td>2</td>\n",
       "      <td>0.089478</td>\n",
       "      <td>0.053185</td>\n",
       "      <td>0.909244</td>\n",
       "      <td>00:08</td>\n",
       "    </tr>\n",
       "    <tr>\n",
       "      <td>3</td>\n",
       "      <td>0.089464</td>\n",
       "      <td>0.051986</td>\n",
       "      <td>0.914907</td>\n",
       "      <td>00:08</td>\n",
       "    </tr>\n",
       "    <tr>\n",
       "      <td>4</td>\n",
       "      <td>0.088045</td>\n",
       "      <td>0.053041</td>\n",
       "      <td>0.914830</td>\n",
       "      <td>00:08</td>\n",
       "    </tr>\n",
       "    <tr>\n",
       "      <td>5</td>\n",
       "      <td>0.088642</td>\n",
       "      <td>0.050793</td>\n",
       "      <td>0.914907</td>\n",
       "      <td>00:08</td>\n",
       "    </tr>\n",
       "    <tr>\n",
       "      <td>6</td>\n",
       "      <td>0.088009</td>\n",
       "      <td>0.050301</td>\n",
       "      <td>0.911999</td>\n",
       "      <td>00:08</td>\n",
       "    </tr>\n",
       "    <tr>\n",
       "      <td>7</td>\n",
       "      <td>0.088253</td>\n",
       "      <td>0.048507</td>\n",
       "      <td>0.916080</td>\n",
       "      <td>00:08</td>\n",
       "    </tr>\n",
       "    <tr>\n",
       "      <td>8</td>\n",
       "      <td>0.088132</td>\n",
       "      <td>0.049280</td>\n",
       "      <td>0.915672</td>\n",
       "      <td>00:08</td>\n",
       "    </tr>\n",
       "    <tr>\n",
       "      <td>9</td>\n",
       "      <td>0.086365</td>\n",
       "      <td>0.049698</td>\n",
       "      <td>0.915519</td>\n",
       "      <td>00:08</td>\n",
       "    </tr>\n",
       "    <tr>\n",
       "      <td>10</td>\n",
       "      <td>0.085348</td>\n",
       "      <td>0.049961</td>\n",
       "      <td>0.915825</td>\n",
       "      <td>00:08</td>\n",
       "    </tr>\n",
       "  </tbody>\n",
       "</table>"
      ],
      "text/plain": [
       "<IPython.core.display.HTML object>"
      ]
     },
     "metadata": {},
     "output_type": "display_data"
    }
   ],
   "source": [
    "learn.fit_one_cycle(10, max_lr=lr)"
   ]
  },
  {
   "cell_type": "code",
   "execution_count": 57,
   "metadata": {},
   "outputs": [],
   "source": [
    "learn.unfreeze()"
   ]
  },
  {
   "cell_type": "code",
   "execution_count": 58,
   "metadata": {},
   "outputs": [
    {
     "data": {
      "text/html": [],
      "text/plain": [
       "<IPython.core.display.HTML object>"
      ]
     },
     "metadata": {},
     "output_type": "display_data"
    },
    {
     "name": "stdout",
     "output_type": "stream",
     "text": [
      "LR Finder is complete, type {learner_name}.recorder.plot() to see the graph.\n"
     ]
    }
   ],
   "source": [
    "learn.lr_find()"
   ]
  },
  {
   "cell_type": "code",
   "execution_count": 59,
   "metadata": {},
   "outputs": [
    {
     "data": {
      "image/png": "[encoded data removed]",
      "text/plain": [
       "<Figure size 432x288 with 1 Axes>"
      ]
     },
     "metadata": {
      "needs_background": "light"
     },
     "output_type": "display_data"
    }
   ],
   "source": [
    "learn.recorder.plot()"
   ]
  },
  {
   "cell_type": "code",
   "execution_count": 60,
   "metadata": {},
   "outputs": [],
   "source": [
    "lr = 1e-04"
   ]
  },
  {
   "cell_type": "code",
   "execution_count": 61,
   "metadata": {},
   "outputs": [
    {
     "data": {
      "text/plain": [
       "0.0001"
      ]
     },
     "execution_count": 61,
     "metadata": {},
     "output_type": "execute_result"
    }
   ],
   "source": [
    "lr"
   ]
  },
  {
   "cell_type": "code",
   "execution_count": 62,
   "metadata": {},
   "outputs": [
    {
     "data": {
      "text/html": [
       "Total time: 02:01 <p><table border=\"1\" class=\"dataframe\">\n",
       "  <thead>\n",
       "    <tr style=\"text-align: left;\">\n",
       "      <th>epoch</th>\n",
       "      <th>train_loss</th>\n",
       "      <th>valid_loss</th>\n",
       "      <th>fbeta</th>\n",
       "      <th>time</th>\n",
       "    </tr>\n",
       "  </thead>\n",
       "  <tbody>\n",
       "    <tr>\n",
       "      <td>1</td>\n",
       "      <td>0.090764</td>\n",
       "      <td>0.349919</td>\n",
       "      <td>0.913001</td>\n",
       "      <td>00:12</td>\n",
       "    </tr>\n",
       "    <tr>\n",
       "      <td>2</td>\n",
       "      <td>0.089313</td>\n",
       "      <td>0.078911</td>\n",
       "      <td>0.863483</td>\n",
       "      <td>00:12</td>\n",
       "    </tr>\n",
       "    <tr>\n",
       "      <td>3</td>\n",
       "      <td>0.091451</td>\n",
       "      <td>0.950773</td>\n",
       "      <td>0.765509</td>\n",
       "      <td>00:12</td>\n",
       "    </tr>\n",
       "    <tr>\n",
       "      <td>4</td>\n",
       "      <td>0.091157</td>\n",
       "      <td>0.053964</td>\n",
       "      <td>0.927456</td>\n",
       "      <td>00:12</td>\n",
       "    </tr>\n",
       "    <tr>\n",
       "      <td>5</td>\n",
       "      <td>0.090687</td>\n",
       "      <td>0.199506</td>\n",
       "      <td>0.912524</td>\n",
       "      <td>00:12</td>\n",
       "    </tr>\n",
       "    <tr>\n",
       "      <td>6</td>\n",
       "      <td>0.088341</td>\n",
       "      <td>0.075715</td>\n",
       "      <td>0.876518</td>\n",
       "      <td>00:12</td>\n",
       "    </tr>\n",
       "    <tr>\n",
       "      <td>7</td>\n",
       "      <td>0.084464</td>\n",
       "      <td>0.045163</td>\n",
       "      <td>0.938017</td>\n",
       "      <td>00:12</td>\n",
       "    </tr>\n",
       "    <tr>\n",
       "      <td>8</td>\n",
       "      <td>0.080797</td>\n",
       "      <td>0.041231</td>\n",
       "      <td>0.944598</td>\n",
       "      <td>00:12</td>\n",
       "    </tr>\n",
       "    <tr>\n",
       "      <td>9</td>\n",
       "      <td>0.079107</td>\n",
       "      <td>0.041737</td>\n",
       "      <td>0.949801</td>\n",
       "      <td>00:12</td>\n",
       "    </tr>\n",
       "    <tr>\n",
       "      <td>10</td>\n",
       "      <td>0.075956</td>\n",
       "      <td>0.041274</td>\n",
       "      <td>0.948500</td>\n",
       "      <td>00:12</td>\n",
       "    </tr>\n",
       "  </tbody>\n",
       "</table>"
      ],
      "text/plain": [
       "<IPython.core.display.HTML object>"
      ]
     },
     "metadata": {},
     "output_type": "display_data"
    }
   ],
   "source": [
    "learn.fit_one_cycle(10, max_lr=lr)"
   ]
  },
  {
   "cell_type": "code",
   "execution_count": 63,
   "metadata": {},
   "outputs": [],
   "source": [
    "learn.freeze()"
   ]
  },
  {
   "cell_type": "code",
   "execution_count": 64,
   "metadata": {},
   "outputs": [
    {
     "data": {
      "text/html": [],
      "text/plain": [
       "<IPython.core.display.HTML object>"
      ]
     },
     "metadata": {},
     "output_type": "display_data"
    },
    {
     "name": "stdout",
     "output_type": "stream",
     "text": [
      "LR Finder is complete, type {learner_name}.recorder.plot() to see the graph.\n"
     ]
    }
   ],
   "source": [
    "learn.lr_find()"
   ]
  },
  {
   "cell_type": "code",
   "execution_count": 65,
   "metadata": {},
   "outputs": [
    {
     "data": {
      "image/png": "[encoded data removed]",
      "text/plain": [
       "<Figure size 432x288 with 1 Axes>"
      ]
     },
     "metadata": {
      "needs_background": "light"
     },
     "output_type": "display_data"
    }
   ],
   "source": [
    "learn.recorder.plot()"
   ]
  },
  {
   "cell_type": "code",
   "execution_count": 66,
   "metadata": {},
   "outputs": [],
   "source": [
    "lr = 1e-02"
   ]
  },
  {
   "cell_type": "code",
   "execution_count": 67,
   "metadata": {},
   "outputs": [
    {
     "data": {
      "text/plain": [
       "0.01"
      ]
     },
     "execution_count": 67,
     "metadata": {},
     "output_type": "execute_result"
    }
   ],
   "source": [
    "lr"
   ]
  },
  {
   "cell_type": "code",
   "execution_count": 68,
   "metadata": {},
   "outputs": [
    {
     "data": {
      "text/html": [
       "Total time: 01:28 <p><table border=\"1\" class=\"dataframe\">\n",
       "  <thead>\n",
       "    <tr style=\"text-align: left;\">\n",
       "      <th>epoch</th>\n",
       "      <th>train_loss</th>\n",
       "      <th>valid_loss</th>\n",
       "      <th>fbeta</th>\n",
       "      <th>time</th>\n",
       "    </tr>\n",
       "  </thead>\n",
       "  <tbody>\n",
       "    <tr>\n",
       "      <td>1</td>\n",
       "      <td>0.070825</td>\n",
       "      <td>0.042214</td>\n",
       "      <td>0.934267</td>\n",
       "      <td>00:08</td>\n",
       "    </tr>\n",
       "    <tr>\n",
       "      <td>2</td>\n",
       "      <td>0.070511</td>\n",
       "      <td>0.063512</td>\n",
       "      <td>0.885114</td>\n",
       "      <td>00:08</td>\n",
       "    </tr>\n",
       "    <tr>\n",
       "      <td>3</td>\n",
       "      <td>0.073874</td>\n",
       "      <td>0.510817</td>\n",
       "      <td>0.860627</td>\n",
       "      <td>00:08</td>\n",
       "    </tr>\n",
       "    <tr>\n",
       "      <td>4</td>\n",
       "      <td>0.077189</td>\n",
       "      <td>0.062835</td>\n",
       "      <td>0.881237</td>\n",
       "      <td>00:08</td>\n",
       "    </tr>\n",
       "    <tr>\n",
       "      <td>5</td>\n",
       "      <td>0.076399</td>\n",
       "      <td>0.070123</td>\n",
       "      <td>0.853688</td>\n",
       "      <td>00:08</td>\n",
       "    </tr>\n",
       "    <tr>\n",
       "      <td>6</td>\n",
       "      <td>0.074548</td>\n",
       "      <td>0.077589</td>\n",
       "      <td>0.909064</td>\n",
       "      <td>00:08</td>\n",
       "    </tr>\n",
       "    <tr>\n",
       "      <td>7</td>\n",
       "      <td>0.072738</td>\n",
       "      <td>0.047528</td>\n",
       "      <td>0.919804</td>\n",
       "      <td>00:08</td>\n",
       "    </tr>\n",
       "    <tr>\n",
       "      <td>8</td>\n",
       "      <td>0.070693</td>\n",
       "      <td>0.030408</td>\n",
       "      <td>0.952505</td>\n",
       "      <td>00:08</td>\n",
       "    </tr>\n",
       "    <tr>\n",
       "      <td>9</td>\n",
       "      <td>0.065809</td>\n",
       "      <td>0.028789</td>\n",
       "      <td>0.962657</td>\n",
       "      <td>00:08</td>\n",
       "    </tr>\n",
       "    <tr>\n",
       "      <td>10</td>\n",
       "      <td>0.064175</td>\n",
       "      <td>0.027865</td>\n",
       "      <td>0.964800</td>\n",
       "      <td>00:08</td>\n",
       "    </tr>\n",
       "  </tbody>\n",
       "</table>"
      ],
      "text/plain": [
       "<IPython.core.display.HTML object>"
      ]
     },
     "metadata": {},
     "output_type": "display_data"
    }
   ],
   "source": [
    "learn.fit_one_cycle(10, max_lr=lr)"
   ]
  },
  {
   "cell_type": "code",
   "execution_count": null,
   "metadata": {},
   "outputs": [],
   "source": []
  },
  {
   "cell_type": "code",
   "execution_count": null,
   "metadata": {},
   "outputs": [],
   "source": []
  },
  {
   "cell_type": "code",
   "execution_count": 69,
   "metadata": {},
   "outputs": [],
   "source": [
    "interp = ClassificationInterpretation.from_learner(learn)\n"
   ]
  },
  {
   "cell_type": "code",
   "execution_count": 71,
   "metadata": {
    "scrolled": false
   },
   "outputs": [
    {
     "name": "stdout",
     "output_type": "stream",
     "text": [
      "1 misclassified samples over 99 samples in the validation set.\n"
     ]
    },
    {
     "ename": "IndexError",
     "evalue": "index 0 is out of bounds for axis 0 with size 0",
     "output_type": "error",
     "traceback": [
      "\u001b[0;31m---------------------------------------------------------------------------\u001b[0m",
      "\u001b[0;31mIndexError\u001b[0m                                Traceback (most recent call last)",
      "\u001b[0;32m<ipython-input-71-2d398888b39c>\u001b[0m in \u001b[0;36m<module>\u001b[0;34m\u001b[0m\n\u001b[0;32m----> 1\u001b[0;31m \u001b[0minterp\u001b[0m\u001b[0;34m.\u001b[0m\u001b[0mplot_multi_top_losses\u001b[0m\u001b[0;34m(\u001b[0m\u001b[0;36m1\u001b[0m\u001b[0;34m)\u001b[0m\u001b[0;34m\u001b[0m\u001b[0;34m\u001b[0m\u001b[0m\n\u001b[0m",
      "\u001b[0;32m~/anaconda3/envs/fontastic/lib/python3.7/site-packages/fastai/vision/learner.py\u001b[0m in \u001b[0;36m_cl_int_plot_multi_top_losses\u001b[0;34m(self, samples, figsize, save_misclassified)\u001b[0m\n\u001b[1;32m    160\u001b[0m     \u001b[0mprint\u001b[0m\u001b[0;34m(\u001b[0m\u001b[0;34mf'{str(len(mismatches))} misclassified samples over {str(len(self.data.valid_ds))} samples in the validation set.'\u001b[0m\u001b[0;34m)\u001b[0m\u001b[0;34m\u001b[0m\u001b[0;34m\u001b[0m\u001b[0m\n\u001b[1;32m    161\u001b[0m     \u001b[0;32mfor\u001b[0m \u001b[0mima\u001b[0m \u001b[0;32min\u001b[0m \u001b[0mrange\u001b[0m\u001b[0;34m(\u001b[0m\u001b[0mlen\u001b[0m\u001b[0;34m(\u001b[0m\u001b[0mmismatches_ordered_byloss\u001b[0m\u001b[0;34m)\u001b[0m\u001b[0;34m)\u001b[0m\u001b[0;34m:\u001b[0m\u001b[0;34m\u001b[0m\u001b[0;34m\u001b[0m\u001b[0m\n\u001b[0;32m--> 162\u001b[0;31m         \u001b[0mmismatchescontainer\u001b[0m\u001b[0;34m.\u001b[0m\u001b[0mappend\u001b[0m\u001b[0;34m(\u001b[0m\u001b[0mmismatches_ordered_byloss\u001b[0m\u001b[0;34m[\u001b[0m\u001b[0mima\u001b[0m\u001b[0;34m]\u001b[0m\u001b[0;34m[\u001b[0m\u001b[0;36m0\u001b[0m\u001b[0;34m]\u001b[0m\u001b[0;34m)\u001b[0m\u001b[0;34m\u001b[0m\u001b[0;34m\u001b[0m\u001b[0m\n\u001b[0m\u001b[1;32m    163\u001b[0m     \u001b[0;32mfor\u001b[0m \u001b[0msampleN\u001b[0m \u001b[0;32min\u001b[0m \u001b[0mrange\u001b[0m\u001b[0;34m(\u001b[0m\u001b[0msamples\u001b[0m\u001b[0;34m)\u001b[0m\u001b[0;34m:\u001b[0m\u001b[0;34m\u001b[0m\u001b[0;34m\u001b[0m\u001b[0m\n\u001b[1;32m    164\u001b[0m         \u001b[0mactualclasses\u001b[0m \u001b[0;34m=\u001b[0m \u001b[0;34m''\u001b[0m\u001b[0;34m\u001b[0m\u001b[0;34m\u001b[0m\u001b[0m\n",
      "\u001b[0;32m~/anaconda3/envs/fontastic/lib/python3.7/site-packages/fastai/data_block.py\u001b[0m in \u001b[0;36m__getitem__\u001b[0;34m(self, idxs)\u001b[0m\n\u001b[1;32m    602\u001b[0m         \u001b[0midxs\u001b[0m \u001b[0;34m=\u001b[0m \u001b[0mtry_int\u001b[0m\u001b[0;34m(\u001b[0m\u001b[0midxs\u001b[0m\u001b[0;34m)\u001b[0m\u001b[0;34m\u001b[0m\u001b[0;34m\u001b[0m\u001b[0m\n\u001b[1;32m    603\u001b[0m         \u001b[0;32mif\u001b[0m \u001b[0misinstance\u001b[0m\u001b[0;34m(\u001b[0m\u001b[0midxs\u001b[0m\u001b[0;34m,\u001b[0m \u001b[0mIntegral\u001b[0m\u001b[0;34m)\u001b[0m\u001b[0;34m:\u001b[0m\u001b[0;34m\u001b[0m\u001b[0;34m\u001b[0m\u001b[0m\n\u001b[0;32m--> 604\u001b[0;31m             \u001b[0;32mif\u001b[0m \u001b[0mself\u001b[0m\u001b[0;34m.\u001b[0m\u001b[0mitem\u001b[0m \u001b[0;32mis\u001b[0m \u001b[0;32mNone\u001b[0m\u001b[0;34m:\u001b[0m \u001b[0mx\u001b[0m\u001b[0;34m,\u001b[0m\u001b[0my\u001b[0m \u001b[0;34m=\u001b[0m \u001b[0mself\u001b[0m\u001b[0;34m.\u001b[0m\u001b[0mx\u001b[0m\u001b[0;34m[\u001b[0m\u001b[0midxs\u001b[0m\u001b[0;34m]\u001b[0m\u001b[0;34m,\u001b[0m\u001b[0mself\u001b[0m\u001b[0;34m.\u001b[0m\u001b[0my\u001b[0m\u001b[0;34m[\u001b[0m\u001b[0midxs\u001b[0m\u001b[0;34m]\u001b[0m\u001b[0;34m\u001b[0m\u001b[0;34m\u001b[0m\u001b[0m\n\u001b[0m\u001b[1;32m    605\u001b[0m             \u001b[0;32melse\u001b[0m\u001b[0;34m:\u001b[0m                 \u001b[0mx\u001b[0m\u001b[0;34m,\u001b[0m\u001b[0my\u001b[0m \u001b[0;34m=\u001b[0m \u001b[0mself\u001b[0m\u001b[0;34m.\u001b[0m\u001b[0mitem\u001b[0m   \u001b[0;34m,\u001b[0m\u001b[0;36m0\u001b[0m\u001b[0;34m\u001b[0m\u001b[0;34m\u001b[0m\u001b[0m\n\u001b[1;32m    606\u001b[0m             \u001b[0;32mif\u001b[0m \u001b[0mself\u001b[0m\u001b[0;34m.\u001b[0m\u001b[0mtfms\u001b[0m \u001b[0;32mor\u001b[0m \u001b[0mself\u001b[0m\u001b[0;34m.\u001b[0m\u001b[0mtfmargs\u001b[0m\u001b[0;34m:\u001b[0m\u001b[0;34m\u001b[0m\u001b[0;34m\u001b[0m\u001b[0m\n",
      "\u001b[0;32m~/anaconda3/envs/fontastic/lib/python3.7/site-packages/fastai/data_block.py\u001b[0m in \u001b[0;36m__getitem__\u001b[0;34m(self, idxs)\u001b[0m\n\u001b[1;32m    103\u001b[0m     \u001b[0;32mdef\u001b[0m \u001b[0m__getitem__\u001b[0m\u001b[0;34m(\u001b[0m\u001b[0mself\u001b[0m\u001b[0;34m,\u001b[0m\u001b[0midxs\u001b[0m\u001b[0;34m:\u001b[0m\u001b[0mint\u001b[0m\u001b[0;34m)\u001b[0m\u001b[0;34m->\u001b[0m\u001b[0mAny\u001b[0m\u001b[0;34m:\u001b[0m\u001b[0;34m\u001b[0m\u001b[0;34m\u001b[0m\u001b[0m\n\u001b[1;32m    104\u001b[0m         \u001b[0midxs\u001b[0m \u001b[0;34m=\u001b[0m \u001b[0mtry_int\u001b[0m\u001b[0;34m(\u001b[0m\u001b[0midxs\u001b[0m\u001b[0;34m)\u001b[0m\u001b[0;34m\u001b[0m\u001b[0;34m\u001b[0m\u001b[0m\n\u001b[0;32m--> 105\u001b[0;31m         \u001b[0;32mif\u001b[0m \u001b[0misinstance\u001b[0m\u001b[0;34m(\u001b[0m\u001b[0midxs\u001b[0m\u001b[0;34m,\u001b[0m \u001b[0mIntegral\u001b[0m\u001b[0;34m)\u001b[0m\u001b[0;34m:\u001b[0m \u001b[0;32mreturn\u001b[0m \u001b[0mself\u001b[0m\u001b[0;34m.\u001b[0m\u001b[0mget\u001b[0m\u001b[0;34m(\u001b[0m\u001b[0midxs\u001b[0m\u001b[0;34m)\u001b[0m\u001b[0;34m\u001b[0m\u001b[0;34m\u001b[0m\u001b[0m\n\u001b[0m\u001b[1;32m    106\u001b[0m         \u001b[0;32melse\u001b[0m\u001b[0;34m:\u001b[0m \u001b[0;32mreturn\u001b[0m \u001b[0mself\u001b[0m\u001b[0;34m.\u001b[0m\u001b[0mnew\u001b[0m\u001b[0;34m(\u001b[0m\u001b[0mself\u001b[0m\u001b[0;34m.\u001b[0m\u001b[0mitems\u001b[0m\u001b[0;34m[\u001b[0m\u001b[0midxs\u001b[0m\u001b[0;34m]\u001b[0m\u001b[0;34m,\u001b[0m \u001b[0minner_df\u001b[0m\u001b[0;34m=\u001b[0m\u001b[0mindex_row\u001b[0m\u001b[0;34m(\u001b[0m\u001b[0mself\u001b[0m\u001b[0;34m.\u001b[0m\u001b[0minner_df\u001b[0m\u001b[0;34m,\u001b[0m \u001b[0midxs\u001b[0m\u001b[0;34m)\u001b[0m\u001b[0;34m)\u001b[0m\u001b[0;34m\u001b[0m\u001b[0;34m\u001b[0m\u001b[0m\n\u001b[1;32m    107\u001b[0m \u001b[0;34m\u001b[0m\u001b[0m\n",
      "\u001b[0;32m~/anaconda3/envs/fontastic/lib/python3.7/site-packages/fastai/vision/data.py\u001b[0m in \u001b[0;36mget\u001b[0;34m(self, i)\u001b[0m\n\u001b[1;32m    267\u001b[0m \u001b[0;34m\u001b[0m\u001b[0m\n\u001b[1;32m    268\u001b[0m     \u001b[0;32mdef\u001b[0m \u001b[0mget\u001b[0m\u001b[0;34m(\u001b[0m\u001b[0mself\u001b[0m\u001b[0;34m,\u001b[0m \u001b[0mi\u001b[0m\u001b[0;34m)\u001b[0m\u001b[0;34m:\u001b[0m\u001b[0;34m\u001b[0m\u001b[0;34m\u001b[0m\u001b[0m\n\u001b[0;32m--> 269\u001b[0;31m         \u001b[0mfn\u001b[0m \u001b[0;34m=\u001b[0m \u001b[0msuper\u001b[0m\u001b[0;34m(\u001b[0m\u001b[0;34m)\u001b[0m\u001b[0;34m.\u001b[0m\u001b[0mget\u001b[0m\u001b[0;34m(\u001b[0m\u001b[0mi\u001b[0m\u001b[0;34m)\u001b[0m\u001b[0;34m\u001b[0m\u001b[0;34m\u001b[0m\u001b[0m\n\u001b[0m\u001b[1;32m    270\u001b[0m         \u001b[0mres\u001b[0m \u001b[0;34m=\u001b[0m \u001b[0mself\u001b[0m\u001b[0;34m.\u001b[0m\u001b[0mopen\u001b[0m\u001b[0;34m(\u001b[0m\u001b[0mfn\u001b[0m\u001b[0;34m)\u001b[0m\u001b[0;34m\u001b[0m\u001b[0;34m\u001b[0m\u001b[0m\n\u001b[1;32m    271\u001b[0m         \u001b[0mself\u001b[0m\u001b[0;34m.\u001b[0m\u001b[0msizes\u001b[0m\u001b[0;34m[\u001b[0m\u001b[0mi\u001b[0m\u001b[0;34m]\u001b[0m \u001b[0;34m=\u001b[0m \u001b[0mres\u001b[0m\u001b[0;34m.\u001b[0m\u001b[0msize\u001b[0m\u001b[0;34m\u001b[0m\u001b[0;34m\u001b[0m\u001b[0m\n",
      "\u001b[0;32m~/anaconda3/envs/fontastic/lib/python3.7/site-packages/fastai/data_block.py\u001b[0m in \u001b[0;36mget\u001b[0;34m(self, i)\u001b[0m\n\u001b[1;32m     63\u001b[0m     \u001b[0;32mdef\u001b[0m \u001b[0mget\u001b[0m\u001b[0;34m(\u001b[0m\u001b[0mself\u001b[0m\u001b[0;34m,\u001b[0m \u001b[0mi\u001b[0m\u001b[0;34m)\u001b[0m\u001b[0;34m->\u001b[0m\u001b[0mAny\u001b[0m\u001b[0;34m:\u001b[0m\u001b[0;34m\u001b[0m\u001b[0;34m\u001b[0m\u001b[0m\n\u001b[1;32m     64\u001b[0m         \u001b[0;34m\"Subclass if you want to customize how to create item `i` from `self.items`.\"\u001b[0m\u001b[0;34m\u001b[0m\u001b[0;34m\u001b[0m\u001b[0m\n\u001b[0;32m---> 65\u001b[0;31m         \u001b[0;32mreturn\u001b[0m \u001b[0mself\u001b[0m\u001b[0;34m.\u001b[0m\u001b[0mitems\u001b[0m\u001b[0;34m[\u001b[0m\u001b[0mi\u001b[0m\u001b[0;34m]\u001b[0m\u001b[0;34m\u001b[0m\u001b[0;34m\u001b[0m\u001b[0m\n\u001b[0m\u001b[1;32m     66\u001b[0m     \u001b[0;32mdef\u001b[0m \u001b[0m__repr__\u001b[0m\u001b[0;34m(\u001b[0m\u001b[0mself\u001b[0m\u001b[0;34m)\u001b[0m\u001b[0;34m->\u001b[0m\u001b[0mstr\u001b[0m\u001b[0;34m:\u001b[0m\u001b[0;34m\u001b[0m\u001b[0;34m\u001b[0m\u001b[0m\n\u001b[1;32m     67\u001b[0m         \u001b[0mitems\u001b[0m \u001b[0;34m=\u001b[0m \u001b[0;34m[\u001b[0m\u001b[0mself\u001b[0m\u001b[0;34m[\u001b[0m\u001b[0mi\u001b[0m\u001b[0;34m]\u001b[0m \u001b[0;32mfor\u001b[0m \u001b[0mi\u001b[0m \u001b[0;32min\u001b[0m \u001b[0mrange\u001b[0m\u001b[0;34m(\u001b[0m\u001b[0mmin\u001b[0m\u001b[0;34m(\u001b[0m\u001b[0;36m5\u001b[0m\u001b[0;34m,\u001b[0m\u001b[0mlen\u001b[0m\u001b[0;34m(\u001b[0m\u001b[0mself\u001b[0m\u001b[0;34m.\u001b[0m\u001b[0mitems\u001b[0m\u001b[0;34m)\u001b[0m\u001b[0;34m)\u001b[0m\u001b[0;34m)\u001b[0m\u001b[0;34m]\u001b[0m\u001b[0;34m\u001b[0m\u001b[0;34m\u001b[0m\u001b[0m\n",
      "\u001b[0;31mIndexError\u001b[0m: index 0 is out of bounds for axis 0 with size 0"
     ]
    }
   ],
   "source": [
    "interp.plot_multi_top_losses(1)"
   ]
  },
  {
   "cell_type": "code",
   "execution_count": 73,
   "metadata": {},
   "outputs": [],
   "source": [
    "learn.save('fontastic_resnet_34_256')"
   ]
  },
  {
   "cell_type": "code",
   "execution_count": null,
   "metadata": {
    "collapsed": true
   },
   "outputs": [],
   "source": []
  },
  {
   "cell_type": "code",
   "execution_count": 74,
   "metadata": {},
   "outputs": [],
   "source": [
    "preds, _ = learn.get_preds(ds_type=DatasetType.Valid)"
   ]
  },
  {
   "cell_type": "code",
   "execution_count": 75,
   "metadata": {},
   "outputs": [
    {
     "data": {
      "text/plain": [
       "array(['/home/paperspace/code/fontastic/data/training/Lora/Lora-Regular_50_rand_crop_0.jpg',\n",
       "       '/home/paperspace/code/fontastic/data/training/Fahkwang/Fahkwang-ExtraLightItalic_80_rand_crop_1.jpg',\n",
       "       '/home/paperspace/code/fontastic/data/training/Lato/Lato-Italic_300_rand_crop_3.jpg',\n",
       "       '/home/paperspace/code/fontastic/data/training/Lora/Lora-Bold_150_rand_crop_7.jpg', ...,\n",
       "       '/home/paperspace/code/fontastic/data/training/Fahkwang/Fahkwang-LightItalic_50_rand_crop_5.jpg',\n",
       "       '/home/paperspace/code/fontastic/data/training/Merriweather/Merriweather-Bold_300_rand_crop_0.jpg',\n",
       "       '/home/paperspace/code/fontastic/data/training/Fahkwang/Fahkwang-MediumItalic_50_rand_crop_9.jpg',\n",
       "       '/home/paperspace/code/fontastic/data/training/Fahkwang/Fahkwang-Bold_50_rand_crop_6.jpg'], dtype='<U108')"
      ]
     },
     "execution_count": 75,
     "metadata": {},
     "output_type": "execute_result"
    }
   ],
   "source": [
    "learn.data.valid_ds.items"
   ]
  },
  {
   "cell_type": "code",
   "execution_count": 76,
   "metadata": {},
   "outputs": [],
   "source": [
    "thresh = 0.2\n",
    "labelled_preds = [' '.join([learn.data.classes[i] for i,p in enumerate(pred) if p > thresh]) for pred in preds]\n",
    "fnames = [f for f in learn.data.valid_ds.items]\n",
    "df = pd.DataFrame({'image_name':fnames, 'tags':labelled_preds}, columns=['image_name', 'tags'])\n",
    "# dataframes.append(df)"
   ]
  },
  {
   "cell_type": "code",
   "execution_count": 79,
   "metadata": {},
   "outputs": [
    {
     "data": {
      "text/plain": [
       "'/home/paperspace/code/fontastic/data/training/Lora/Lora-Regular_50_rand_crop_0.jpg'"
      ]
     },
     "execution_count": 79,
     "metadata": {},
     "output_type": "execute_result"
    }
   ],
   "source": [
    "df.iloc[0].image_name"
   ]
  },
  {
   "cell_type": "code",
   "execution_count": 85,
   "metadata": {},
   "outputs": [],
   "source": [
    "df['img'] = df['image_name'].apply(lambda x: x.split('/')[-1])"
   ]
  },
  {
   "cell_type": "code",
   "execution_count": 86,
   "metadata": {},
   "outputs": [
    {
     "data": {
      "text/html": [
       "<div>\n",
       "<style scoped>\n",
       "    .dataframe tbody tr th:only-of-type {\n",
       "        vertical-align: middle;\n",
       "    }\n",
       "\n",
       "    .dataframe tbody tr th {\n",
       "        vertical-align: top;\n",
       "    }\n",
       "\n",
       "    .dataframe thead th {\n",
       "        text-align: right;\n",
       "    }\n",
       "</style>\n",
       "<table border=\"1\" class=\"dataframe\">\n",
       "  <thead>\n",
       "    <tr style=\"text-align: right;\">\n",
       "      <th></th>\n",
       "      <th>image_name</th>\n",
       "      <th>tags</th>\n",
       "      <th>img</th>\n",
       "    </tr>\n",
       "  </thead>\n",
       "  <tbody>\n",
       "    <tr>\n",
       "      <th>0</th>\n",
       "      <td>/home/paperspace/code/fontastic/data/training/...</td>\n",
       "      <td>Lora Regular</td>\n",
       "      <td>Lora-Regular_50_rand_crop_0.jpg</td>\n",
       "    </tr>\n",
       "    <tr>\n",
       "      <th>1</th>\n",
       "      <td>/home/paperspace/code/fontastic/data/training/...</td>\n",
       "      <td>ExtraLightItalic Fahkwang LightItalic</td>\n",
       "      <td>Fahkwang-ExtraLightItalic_80_rand_crop_1.jpg</td>\n",
       "    </tr>\n",
       "    <tr>\n",
       "      <th>2</th>\n",
       "      <td>/home/paperspace/code/fontastic/data/training/...</td>\n",
       "      <td>Italic Lato Lora</td>\n",
       "      <td>Lato-Italic_300_rand_crop_3.jpg</td>\n",
       "    </tr>\n",
       "    <tr>\n",
       "      <th>3</th>\n",
       "      <td>/home/paperspace/code/fontastic/data/training/...</td>\n",
       "      <td>Bold Lora</td>\n",
       "      <td>Lora-Bold_150_rand_crop_7.jpg</td>\n",
       "    </tr>\n",
       "    <tr>\n",
       "      <th>4</th>\n",
       "      <td>/home/paperspace/code/fontastic/data/training/...</td>\n",
       "      <td>Fahkwang Light</td>\n",
       "      <td>Fahkwang-Light_80_rand_crop_0.jpg</td>\n",
       "    </tr>\n",
       "    <tr>\n",
       "      <th>5</th>\n",
       "      <td>/home/paperspace/code/fontastic/data/training/...</td>\n",
       "      <td>Lobster Regular</td>\n",
       "      <td>Lobster-Regular_300_rand_crop_8.jpg</td>\n",
       "    </tr>\n",
       "    <tr>\n",
       "      <th>6</th>\n",
       "      <td>/home/paperspace/code/fontastic/data/training/...</td>\n",
       "      <td>HairlineItalic Lato</td>\n",
       "      <td>Lato-HairlineItalic_150_rand_crop_3.jpg</td>\n",
       "    </tr>\n",
       "    <tr>\n",
       "      <th>7</th>\n",
       "      <td>/home/paperspace/code/fontastic/data/training/...</td>\n",
       "      <td>Fahkwang Light</td>\n",
       "      <td>Fahkwang-Light_150_rand_crop_1.jpg</td>\n",
       "    </tr>\n",
       "    <tr>\n",
       "      <th>8</th>\n",
       "      <td>/home/paperspace/code/fontastic/data/training/...</td>\n",
       "      <td>Fahkwang Medium SemiBold</td>\n",
       "      <td>Fahkwang-SemiBold_300_rand_crop_7.jpg</td>\n",
       "    </tr>\n",
       "    <tr>\n",
       "      <th>9</th>\n",
       "      <td>/home/paperspace/code/fontastic/data/training/...</td>\n",
       "      <td>Italic Lato</td>\n",
       "      <td>Lato-Italic_50_rand_crop_8.jpg</td>\n",
       "    </tr>\n",
       "    <tr>\n",
       "      <th>10</th>\n",
       "      <td>/home/paperspace/code/fontastic/data/training/...</td>\n",
       "      <td>Fahkwang Light Regular</td>\n",
       "      <td>Fahkwang-Light_150_rand_crop_8.jpg</td>\n",
       "    </tr>\n",
       "    <tr>\n",
       "      <th>11</th>\n",
       "      <td>/home/paperspace/code/fontastic/data/training/...</td>\n",
       "      <td>BlackItalic Lato</td>\n",
       "      <td>Lato-BlackItalic_150_rand_crop_4.jpg</td>\n",
       "    </tr>\n",
       "    <tr>\n",
       "      <th>12</th>\n",
       "      <td>/home/paperspace/code/fontastic/data/training/...</td>\n",
       "      <td>Lora Regular</td>\n",
       "      <td>Lora-Regular_50_rand_crop_9.jpg</td>\n",
       "    </tr>\n",
       "    <tr>\n",
       "      <th>13</th>\n",
       "      <td>/home/paperspace/code/fontastic/data/training/...</td>\n",
       "      <td>Bold Fahkwang SemiBold</td>\n",
       "      <td>Fahkwang-Bold_50_rand_crop_9.jpg</td>\n",
       "    </tr>\n",
       "    <tr>\n",
       "      <th>14</th>\n",
       "      <td>/home/paperspace/code/fontastic/data/training/...</td>\n",
       "      <td>ExtraLightItalic Fahkwang LightItalic</td>\n",
       "      <td>Fahkwang-LightItalic_50_rand_crop_6.jpg</td>\n",
       "    </tr>\n",
       "    <tr>\n",
       "      <th>15</th>\n",
       "      <td>/home/paperspace/code/fontastic/data/training/...</td>\n",
       "      <td>Black Bold Merriweather</td>\n",
       "      <td>Merriweather-Black_300_rand_crop_9.jpg</td>\n",
       "    </tr>\n",
       "    <tr>\n",
       "      <th>16</th>\n",
       "      <td>/home/paperspace/code/fontastic/data/training/...</td>\n",
       "      <td>Lato Regular</td>\n",
       "      <td>Lato-Regular_80_rand_crop_8.jpg</td>\n",
       "    </tr>\n",
       "    <tr>\n",
       "      <th>17</th>\n",
       "      <td>/home/paperspace/code/fontastic/data/training/...</td>\n",
       "      <td>Lato Regular</td>\n",
       "      <td>Lato-Regular_80_rand_crop_0.jpg</td>\n",
       "    </tr>\n",
       "    <tr>\n",
       "      <th>18</th>\n",
       "      <td>/home/paperspace/code/fontastic/data/training/...</td>\n",
       "      <td>ExtraLight Fahkwang</td>\n",
       "      <td>Fahkwang-ExtraLight_50_rand_crop_3.jpg</td>\n",
       "    </tr>\n",
       "    <tr>\n",
       "      <th>19</th>\n",
       "      <td>/home/paperspace/code/fontastic/data/training/...</td>\n",
       "      <td>BlackItalic Lato</td>\n",
       "      <td>Lato-BlackItalic_80_rand_crop_1.jpg</td>\n",
       "    </tr>\n",
       "    <tr>\n",
       "      <th>20</th>\n",
       "      <td>/home/paperspace/code/fontastic/data/training/...</td>\n",
       "      <td>Hairline Lato</td>\n",
       "      <td>Lato-Hairline_150_rand_crop_3.jpg</td>\n",
       "    </tr>\n",
       "    <tr>\n",
       "      <th>21</th>\n",
       "      <td>/home/paperspace/code/fontastic/data/training/...</td>\n",
       "      <td>Fahkwang Italic LightItalic</td>\n",
       "      <td>Fahkwang-Italic_300_rand_crop_8.jpg</td>\n",
       "    </tr>\n",
       "    <tr>\n",
       "      <th>22</th>\n",
       "      <td>/home/paperspace/code/fontastic/data/training/...</td>\n",
       "      <td>Lora Regular</td>\n",
       "      <td>Lora-Regular_150_rand_crop_3.jpg</td>\n",
       "    </tr>\n",
       "    <tr>\n",
       "      <th>23</th>\n",
       "      <td>/home/paperspace/code/fontastic/data/training/...</td>\n",
       "      <td>Lato Regular</td>\n",
       "      <td>Lato-Regular_50_rand_crop_6.jpg</td>\n",
       "    </tr>\n",
       "    <tr>\n",
       "      <th>24</th>\n",
       "      <td>/home/paperspace/code/fontastic/data/training/...</td>\n",
       "      <td>BlackItalic Merriweather</td>\n",
       "      <td>Merriweather-BlackItalic_50_rand_crop_0.jpg</td>\n",
       "    </tr>\n",
       "    <tr>\n",
       "      <th>25</th>\n",
       "      <td>/home/paperspace/code/fontastic/data/training/...</td>\n",
       "      <td>Black Bold Merriweather</td>\n",
       "      <td>Merriweather-Black_80_rand_crop_8.jpg</td>\n",
       "    </tr>\n",
       "    <tr>\n",
       "      <th>26</th>\n",
       "      <td>/home/paperspace/code/fontastic/data/training/...</td>\n",
       "      <td>Lobster Regular</td>\n",
       "      <td>Lobster-Regular_50_rand_crop_9.jpg</td>\n",
       "    </tr>\n",
       "    <tr>\n",
       "      <th>27</th>\n",
       "      <td>/home/paperspace/code/fontastic/data/training/...</td>\n",
       "      <td>MajorMonoDisplay Regular</td>\n",
       "      <td>MajorMonoDisplay-Regular_300_rand_crop_7.jpg</td>\n",
       "    </tr>\n",
       "    <tr>\n",
       "      <th>28</th>\n",
       "      <td>/home/paperspace/code/fontastic/data/training/...</td>\n",
       "      <td>ExtraLight Fahkwang</td>\n",
       "      <td>Fahkwang-ExtraLight_150_rand_crop_1.jpg</td>\n",
       "    </tr>\n",
       "    <tr>\n",
       "      <th>29</th>\n",
       "      <td>/home/paperspace/code/fontastic/data/training/...</td>\n",
       "      <td>Black Bold Merriweather</td>\n",
       "      <td>Merriweather-Black_300_rand_crop_5.jpg</td>\n",
       "    </tr>\n",
       "    <tr>\n",
       "      <th>...</th>\n",
       "      <td>...</td>\n",
       "      <td>...</td>\n",
       "      <td>...</td>\n",
       "    </tr>\n",
       "    <tr>\n",
       "      <th>69</th>\n",
       "      <td>/home/paperspace/code/fontastic/data/training/...</td>\n",
       "      <td>Lato LightItalic</td>\n",
       "      <td>Lato-LightItalic_150_rand_crop_7.jpg</td>\n",
       "    </tr>\n",
       "    <tr>\n",
       "      <th>70</th>\n",
       "      <td>/home/paperspace/code/fontastic/data/training/...</td>\n",
       "      <td>Black Lato</td>\n",
       "      <td>Lato-Black_80_rand_crop_2.jpg</td>\n",
       "    </tr>\n",
       "    <tr>\n",
       "      <th>71</th>\n",
       "      <td>/home/paperspace/code/fontastic/data/training/...</td>\n",
       "      <td>Bold Fahkwang</td>\n",
       "      <td>Fahkwang-Bold_50_rand_crop_4.jpg</td>\n",
       "    </tr>\n",
       "    <tr>\n",
       "      <th>72</th>\n",
       "      <td>/home/paperspace/code/fontastic/data/training/...</td>\n",
       "      <td>Bold Lato</td>\n",
       "      <td>Lato-Bold_50_rand_crop_3.jpg</td>\n",
       "    </tr>\n",
       "    <tr>\n",
       "      <th>73</th>\n",
       "      <td>/home/paperspace/code/fontastic/data/training/...</td>\n",
       "      <td>BlackItalic Lato</td>\n",
       "      <td>Lato-BlackItalic_50_rand_crop_4.jpg</td>\n",
       "    </tr>\n",
       "    <tr>\n",
       "      <th>74</th>\n",
       "      <td>/home/paperspace/code/fontastic/data/training/...</td>\n",
       "      <td>Lato Regular</td>\n",
       "      <td>Lato-Regular_300_rand_crop_7.jpg</td>\n",
       "    </tr>\n",
       "    <tr>\n",
       "      <th>75</th>\n",
       "      <td>/home/paperspace/code/fontastic/data/training/...</td>\n",
       "      <td>Lato Light</td>\n",
       "      <td>Lato-Light_50_rand_crop_3.jpg</td>\n",
       "    </tr>\n",
       "    <tr>\n",
       "      <th>76</th>\n",
       "      <td>/home/paperspace/code/fontastic/data/training/...</td>\n",
       "      <td>MajorMonoDisplay Regular</td>\n",
       "      <td>MajorMonoDisplay-Regular_50_rand_crop_8.jpg</td>\n",
       "    </tr>\n",
       "    <tr>\n",
       "      <th>77</th>\n",
       "      <td>/home/paperspace/code/fontastic/data/training/...</td>\n",
       "      <td>Lato LightItalic</td>\n",
       "      <td>Lato-LightItalic_50_rand_crop_9.jpg</td>\n",
       "    </tr>\n",
       "    <tr>\n",
       "      <th>78</th>\n",
       "      <td>/home/paperspace/code/fontastic/data/training/...</td>\n",
       "      <td>Fahkwang Italic MediumItalic</td>\n",
       "      <td>Fahkwang-Italic_80_rand_crop_7.jpg</td>\n",
       "    </tr>\n",
       "    <tr>\n",
       "      <th>79</th>\n",
       "      <td>/home/paperspace/code/fontastic/data/training/...</td>\n",
       "      <td>Italic Lora</td>\n",
       "      <td>Lora-Italic_150_rand_crop_6.jpg</td>\n",
       "    </tr>\n",
       "    <tr>\n",
       "      <th>80</th>\n",
       "      <td>/home/paperspace/code/fontastic/data/training/...</td>\n",
       "      <td>BoldItalic Fahkwang SemiBoldItalic</td>\n",
       "      <td>Fahkwang-SemiBoldItalic_300_rand_crop_3.jpg</td>\n",
       "    </tr>\n",
       "    <tr>\n",
       "      <th>81</th>\n",
       "      <td>/home/paperspace/code/fontastic/data/training/...</td>\n",
       "      <td>Italic Lato</td>\n",
       "      <td>Lato-Italic_50_rand_crop_5.jpg</td>\n",
       "    </tr>\n",
       "    <tr>\n",
       "      <th>82</th>\n",
       "      <td>/home/paperspace/code/fontastic/data/training/...</td>\n",
       "      <td>Bold Fahkwang SemiBold</td>\n",
       "      <td>Fahkwang-SemiBold_80_rand_crop_8.jpg</td>\n",
       "    </tr>\n",
       "    <tr>\n",
       "      <th>83</th>\n",
       "      <td>/home/paperspace/code/fontastic/data/training/...</td>\n",
       "      <td>ExtraLightItalic Fahkwang LightItalic</td>\n",
       "      <td>Fahkwang-ExtraLightItalic_80_rand_crop_3.jpg</td>\n",
       "    </tr>\n",
       "    <tr>\n",
       "      <th>84</th>\n",
       "      <td>/home/paperspace/code/fontastic/data/training/...</td>\n",
       "      <td>Black Merriweather</td>\n",
       "      <td>Merriweather-Black_50_rand_crop_9.jpg</td>\n",
       "    </tr>\n",
       "    <tr>\n",
       "      <th>85</th>\n",
       "      <td>/home/paperspace/code/fontastic/data/training/...</td>\n",
       "      <td>Lato Regular</td>\n",
       "      <td>Lato-Regular_50_rand_crop_9.jpg</td>\n",
       "    </tr>\n",
       "    <tr>\n",
       "      <th>86</th>\n",
       "      <td>/home/paperspace/code/fontastic/data/training/...</td>\n",
       "      <td>Bold Lora</td>\n",
       "      <td>Lora-Bold_50_rand_crop_6.jpg</td>\n",
       "    </tr>\n",
       "    <tr>\n",
       "      <th>87</th>\n",
       "      <td>/home/paperspace/code/fontastic/data/training/...</td>\n",
       "      <td>Bold Fahkwang SemiBold</td>\n",
       "      <td>Fahkwang-SemiBold_300_rand_crop_1.jpg</td>\n",
       "    </tr>\n",
       "    <tr>\n",
       "      <th>88</th>\n",
       "      <td>/home/paperspace/code/fontastic/data/training/...</td>\n",
       "      <td>Bold Lora Merriweather</td>\n",
       "      <td>Lora-Bold_50_rand_crop_1.jpg</td>\n",
       "    </tr>\n",
       "    <tr>\n",
       "      <th>89</th>\n",
       "      <td>/home/paperspace/code/fontastic/data/training/...</td>\n",
       "      <td>BoldItalic Lato</td>\n",
       "      <td>Lato-BoldItalic_150_rand_crop_0.jpg</td>\n",
       "    </tr>\n",
       "    <tr>\n",
       "      <th>90</th>\n",
       "      <td>/home/paperspace/code/fontastic/data/training/...</td>\n",
       "      <td>Lobster Regular</td>\n",
       "      <td>Lobster-Regular_150_rand_crop_1.jpg</td>\n",
       "    </tr>\n",
       "    <tr>\n",
       "      <th>91</th>\n",
       "      <td>/home/paperspace/code/fontastic/data/training/...</td>\n",
       "      <td>Fahkwang Italic MediumItalic</td>\n",
       "      <td>Fahkwang-Italic_50_rand_crop_2.jpg</td>\n",
       "    </tr>\n",
       "    <tr>\n",
       "      <th>92</th>\n",
       "      <td>/home/paperspace/code/fontastic/data/training/...</td>\n",
       "      <td>Black Bold Merriweather</td>\n",
       "      <td>Merriweather-Black_50_rand_crop_6.jpg</td>\n",
       "    </tr>\n",
       "    <tr>\n",
       "      <th>93</th>\n",
       "      <td>/home/paperspace/code/fontastic/data/training/...</td>\n",
       "      <td>Fahkwang Light Regular</td>\n",
       "      <td>Fahkwang-Light_150_rand_crop_0.jpg</td>\n",
       "    </tr>\n",
       "    <tr>\n",
       "      <th>94</th>\n",
       "      <td>/home/paperspace/code/fontastic/data/training/...</td>\n",
       "      <td>Fahkwang Light Regular</td>\n",
       "      <td>Fahkwang-Light_50_rand_crop_1.jpg</td>\n",
       "    </tr>\n",
       "    <tr>\n",
       "      <th>95</th>\n",
       "      <td>/home/paperspace/code/fontastic/data/training/...</td>\n",
       "      <td>ExtraLightItalic Fahkwang LightItalic</td>\n",
       "      <td>Fahkwang-LightItalic_50_rand_crop_5.jpg</td>\n",
       "    </tr>\n",
       "    <tr>\n",
       "      <th>96</th>\n",
       "      <td>/home/paperspace/code/fontastic/data/training/...</td>\n",
       "      <td>Bold Merriweather</td>\n",
       "      <td>Merriweather-Bold_300_rand_crop_0.jpg</td>\n",
       "    </tr>\n",
       "    <tr>\n",
       "      <th>97</th>\n",
       "      <td>/home/paperspace/code/fontastic/data/training/...</td>\n",
       "      <td>Fahkwang MediumItalic SemiBoldItalic</td>\n",
       "      <td>Fahkwang-MediumItalic_50_rand_crop_9.jpg</td>\n",
       "    </tr>\n",
       "    <tr>\n",
       "      <th>98</th>\n",
       "      <td>/home/paperspace/code/fontastic/data/training/...</td>\n",
       "      <td>Bold Fahkwang SemiBold</td>\n",
       "      <td>Fahkwang-Bold_50_rand_crop_6.jpg</td>\n",
       "    </tr>\n",
       "  </tbody>\n",
       "</table>\n",
       "<p>99 rows × 3 columns</p>\n",
       "</div>"
      ],
      "text/plain": [
       "                                           image_name  \\\n",
       "0   /home/paperspace/code/fontastic/data/training/...   \n",
       "1   /home/paperspace/code/fontastic/data/training/...   \n",
       "2   /home/paperspace/code/fontastic/data/training/...   \n",
       "3   /home/paperspace/code/fontastic/data/training/...   \n",
       "4   /home/paperspace/code/fontastic/data/training/...   \n",
       "5   /home/paperspace/code/fontastic/data/training/...   \n",
       "6   /home/paperspace/code/fontastic/data/training/...   \n",
       "7   /home/paperspace/code/fontastic/data/training/...   \n",
       "8   /home/paperspace/code/fontastic/data/training/...   \n",
       "9   /home/paperspace/code/fontastic/data/training/...   \n",
       "10  /home/paperspace/code/fontastic/data/training/...   \n",
       "11  /home/paperspace/code/fontastic/data/training/...   \n",
       "12  /home/paperspace/code/fontastic/data/training/...   \n",
       "13  /home/paperspace/code/fontastic/data/training/...   \n",
       "14  /home/paperspace/code/fontastic/data/training/...   \n",
       "15  /home/paperspace/code/fontastic/data/training/...   \n",
       "16  /home/paperspace/code/fontastic/data/training/...   \n",
       "17  /home/paperspace/code/fontastic/data/training/...   \n",
       "18  /home/paperspace/code/fontastic/data/training/...   \n",
       "19  /home/paperspace/code/fontastic/data/training/...   \n",
       "20  /home/paperspace/code/fontastic/data/training/...   \n",
       "21  /home/paperspace/code/fontastic/data/training/...   \n",
       "22  /home/paperspace/code/fontastic/data/training/...   \n",
       "23  /home/paperspace/code/fontastic/data/training/...   \n",
       "24  /home/paperspace/code/fontastic/data/training/...   \n",
       "25  /home/paperspace/code/fontastic/data/training/...   \n",
       "26  /home/paperspace/code/fontastic/data/training/...   \n",
       "27  /home/paperspace/code/fontastic/data/training/...   \n",
       "28  /home/paperspace/code/fontastic/data/training/...   \n",
       "29  /home/paperspace/code/fontastic/data/training/...   \n",
       "..                                                ...   \n",
       "69  /home/paperspace/code/fontastic/data/training/...   \n",
       "70  /home/paperspace/code/fontastic/data/training/...   \n",
       "71  /home/paperspace/code/fontastic/data/training/...   \n",
       "72  /home/paperspace/code/fontastic/data/training/...   \n",
       "73  /home/paperspace/code/fontastic/data/training/...   \n",
       "74  /home/paperspace/code/fontastic/data/training/...   \n",
       "75  /home/paperspace/code/fontastic/data/training/...   \n",
       "76  /home/paperspace/code/fontastic/data/training/...   \n",
       "77  /home/paperspace/code/fontastic/data/training/...   \n",
       "78  /home/paperspace/code/fontastic/data/training/...   \n",
       "79  /home/paperspace/code/fontastic/data/training/...   \n",
       "80  /home/paperspace/code/fontastic/data/training/...   \n",
       "81  /home/paperspace/code/fontastic/data/training/...   \n",
       "82  /home/paperspace/code/fontastic/data/training/...   \n",
       "83  /home/paperspace/code/fontastic/data/training/...   \n",
       "84  /home/paperspace/code/fontastic/data/training/...   \n",
       "85  /home/paperspace/code/fontastic/data/training/...   \n",
       "86  /home/paperspace/code/fontastic/data/training/...   \n",
       "87  /home/paperspace/code/fontastic/data/training/...   \n",
       "88  /home/paperspace/code/fontastic/data/training/...   \n",
       "89  /home/paperspace/code/fontastic/data/training/...   \n",
       "90  /home/paperspace/code/fontastic/data/training/...   \n",
       "91  /home/paperspace/code/fontastic/data/training/...   \n",
       "92  /home/paperspace/code/fontastic/data/training/...   \n",
       "93  /home/paperspace/code/fontastic/data/training/...   \n",
       "94  /home/paperspace/code/fontastic/data/training/...   \n",
       "95  /home/paperspace/code/fontastic/data/training/...   \n",
       "96  /home/paperspace/code/fontastic/data/training/...   \n",
       "97  /home/paperspace/code/fontastic/data/training/...   \n",
       "98  /home/paperspace/code/fontastic/data/training/...   \n",
       "\n",
       "                                     tags  \\\n",
       "0                            Lora Regular   \n",
       "1   ExtraLightItalic Fahkwang LightItalic   \n",
       "2                        Italic Lato Lora   \n",
       "3                               Bold Lora   \n",
       "4                          Fahkwang Light   \n",
       "5                         Lobster Regular   \n",
       "6                     HairlineItalic Lato   \n",
       "7                          Fahkwang Light   \n",
       "8                Fahkwang Medium SemiBold   \n",
       "9                             Italic Lato   \n",
       "10                 Fahkwang Light Regular   \n",
       "11                       BlackItalic Lato   \n",
       "12                           Lora Regular   \n",
       "13                 Bold Fahkwang SemiBold   \n",
       "14  ExtraLightItalic Fahkwang LightItalic   \n",
       "15                Black Bold Merriweather   \n",
       "16                           Lato Regular   \n",
       "17                           Lato Regular   \n",
       "18                    ExtraLight Fahkwang   \n",
       "19                       BlackItalic Lato   \n",
       "20                          Hairline Lato   \n",
       "21            Fahkwang Italic LightItalic   \n",
       "22                           Lora Regular   \n",
       "23                           Lato Regular   \n",
       "24               BlackItalic Merriweather   \n",
       "25                Black Bold Merriweather   \n",
       "26                        Lobster Regular   \n",
       "27               MajorMonoDisplay Regular   \n",
       "28                    ExtraLight Fahkwang   \n",
       "29                Black Bold Merriweather   \n",
       "..                                    ...   \n",
       "69                       Lato LightItalic   \n",
       "70                             Black Lato   \n",
       "71                          Bold Fahkwang   \n",
       "72                              Bold Lato   \n",
       "73                       BlackItalic Lato   \n",
       "74                           Lato Regular   \n",
       "75                             Lato Light   \n",
       "76               MajorMonoDisplay Regular   \n",
       "77                       Lato LightItalic   \n",
       "78           Fahkwang Italic MediumItalic   \n",
       "79                            Italic Lora   \n",
       "80     BoldItalic Fahkwang SemiBoldItalic   \n",
       "81                            Italic Lato   \n",
       "82                 Bold Fahkwang SemiBold   \n",
       "83  ExtraLightItalic Fahkwang LightItalic   \n",
       "84                     Black Merriweather   \n",
       "85                           Lato Regular   \n",
       "86                              Bold Lora   \n",
       "87                 Bold Fahkwang SemiBold   \n",
       "88                 Bold Lora Merriweather   \n",
       "89                        BoldItalic Lato   \n",
       "90                        Lobster Regular   \n",
       "91           Fahkwang Italic MediumItalic   \n",
       "92                Black Bold Merriweather   \n",
       "93                 Fahkwang Light Regular   \n",
       "94                 Fahkwang Light Regular   \n",
       "95  ExtraLightItalic Fahkwang LightItalic   \n",
       "96                      Bold Merriweather   \n",
       "97   Fahkwang MediumItalic SemiBoldItalic   \n",
       "98                 Bold Fahkwang SemiBold   \n",
       "\n",
       "                                             img  \n",
       "0                Lora-Regular_50_rand_crop_0.jpg  \n",
       "1   Fahkwang-ExtraLightItalic_80_rand_crop_1.jpg  \n",
       "2                Lato-Italic_300_rand_crop_3.jpg  \n",
       "3                  Lora-Bold_150_rand_crop_7.jpg  \n",
       "4              Fahkwang-Light_80_rand_crop_0.jpg  \n",
       "5            Lobster-Regular_300_rand_crop_8.jpg  \n",
       "6        Lato-HairlineItalic_150_rand_crop_3.jpg  \n",
       "7             Fahkwang-Light_150_rand_crop_1.jpg  \n",
       "8          Fahkwang-SemiBold_300_rand_crop_7.jpg  \n",
       "9                 Lato-Italic_50_rand_crop_8.jpg  \n",
       "10            Fahkwang-Light_150_rand_crop_8.jpg  \n",
       "11          Lato-BlackItalic_150_rand_crop_4.jpg  \n",
       "12               Lora-Regular_50_rand_crop_9.jpg  \n",
       "13              Fahkwang-Bold_50_rand_crop_9.jpg  \n",
       "14       Fahkwang-LightItalic_50_rand_crop_6.jpg  \n",
       "15        Merriweather-Black_300_rand_crop_9.jpg  \n",
       "16               Lato-Regular_80_rand_crop_8.jpg  \n",
       "17               Lato-Regular_80_rand_crop_0.jpg  \n",
       "18        Fahkwang-ExtraLight_50_rand_crop_3.jpg  \n",
       "19           Lato-BlackItalic_80_rand_crop_1.jpg  \n",
       "20             Lato-Hairline_150_rand_crop_3.jpg  \n",
       "21           Fahkwang-Italic_300_rand_crop_8.jpg  \n",
       "22              Lora-Regular_150_rand_crop_3.jpg  \n",
       "23               Lato-Regular_50_rand_crop_6.jpg  \n",
       "24   Merriweather-BlackItalic_50_rand_crop_0.jpg  \n",
       "25         Merriweather-Black_80_rand_crop_8.jpg  \n",
       "26            Lobster-Regular_50_rand_crop_9.jpg  \n",
       "27  MajorMonoDisplay-Regular_300_rand_crop_7.jpg  \n",
       "28       Fahkwang-ExtraLight_150_rand_crop_1.jpg  \n",
       "29        Merriweather-Black_300_rand_crop_5.jpg  \n",
       "..                                           ...  \n",
       "69          Lato-LightItalic_150_rand_crop_7.jpg  \n",
       "70                 Lato-Black_80_rand_crop_2.jpg  \n",
       "71              Fahkwang-Bold_50_rand_crop_4.jpg  \n",
       "72                  Lato-Bold_50_rand_crop_3.jpg  \n",
       "73           Lato-BlackItalic_50_rand_crop_4.jpg  \n",
       "74              Lato-Regular_300_rand_crop_7.jpg  \n",
       "75                 Lato-Light_50_rand_crop_3.jpg  \n",
       "76   MajorMonoDisplay-Regular_50_rand_crop_8.jpg  \n",
       "77           Lato-LightItalic_50_rand_crop_9.jpg  \n",
       "78            Fahkwang-Italic_80_rand_crop_7.jpg  \n",
       "79               Lora-Italic_150_rand_crop_6.jpg  \n",
       "80   Fahkwang-SemiBoldItalic_300_rand_crop_3.jpg  \n",
       "81                Lato-Italic_50_rand_crop_5.jpg  \n",
       "82          Fahkwang-SemiBold_80_rand_crop_8.jpg  \n",
       "83  Fahkwang-ExtraLightItalic_80_rand_crop_3.jpg  \n",
       "84         Merriweather-Black_50_rand_crop_9.jpg  \n",
       "85               Lato-Regular_50_rand_crop_9.jpg  \n",
       "86                  Lora-Bold_50_rand_crop_6.jpg  \n",
       "87         Fahkwang-SemiBold_300_rand_crop_1.jpg  \n",
       "88                  Lora-Bold_50_rand_crop_1.jpg  \n",
       "89           Lato-BoldItalic_150_rand_crop_0.jpg  \n",
       "90           Lobster-Regular_150_rand_crop_1.jpg  \n",
       "91            Fahkwang-Italic_50_rand_crop_2.jpg  \n",
       "92         Merriweather-Black_50_rand_crop_6.jpg  \n",
       "93            Fahkwang-Light_150_rand_crop_0.jpg  \n",
       "94             Fahkwang-Light_50_rand_crop_1.jpg  \n",
       "95       Fahkwang-LightItalic_50_rand_crop_5.jpg  \n",
       "96         Merriweather-Bold_300_rand_crop_0.jpg  \n",
       "97      Fahkwang-MediumItalic_50_rand_crop_9.jpg  \n",
       "98              Fahkwang-Bold_50_rand_crop_6.jpg  \n",
       "\n",
       "[99 rows x 3 columns]"
      ]
     },
     "execution_count": 86,
     "metadata": {},
     "output_type": "execute_result"
    }
   ],
   "source": [
    "df"
   ]
  },
  {
   "cell_type": "code",
   "execution_count": null,
   "metadata": {},
   "outputs": [],
   "source": []
  }
 ],
 "metadata": {
  "kernelspec": {
   "display_name": "Python 3",
   "language": "python",
   "name": "python3"
  },
  "language_info": {
   "codemirror_mode": {
    "name": "ipython",
    "version": 3
   },
   "file_extension": ".py",
   "mimetype": "text/x-python",
   "name": "python",
   "nbconvert_exporter": "python",
   "pygments_lexer": "ipython3",
   "version": "3.7.2"
  },
  "toc": {
   "colors": {
    "hover_highlight": "#DAA520",
    "navigate_num": "#000000",
    "navigate_text": "#333333",
    "running_highlight": "#FF0000",
    "selected_highlight": "#FFD700",
    "sidebar_border": "#EEEEEE",
    "wrapper_background": "#FFFFFF"
   },
   "moveMenuLeft": true,
   "nav_menu": {
    "height": "266px",
    "width": "252px"
   },
   "navigate_menu": true,
   "number_sections": true,
   "sideBar": true,
   "threshold": 4,
   "toc_cell": false,
   "toc_section_display": "block",
   "toc_window_display": false,
   "widenNotebook": false
  }
 },
 "nbformat": 4,
 "nbformat_minor": 2
}
