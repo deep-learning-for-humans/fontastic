{
 "cells": [
  {
   "cell_type": "code",
   "execution_count": 1,
   "metadata": {},
   "outputs": [],
   "source": [
    "import os\n",
    "import sys\n",
    "import shutil"
   ]
  },
  {
   "cell_type": "code",
   "execution_count": 4,
   "metadata": {},
   "outputs": [],
   "source": [
    "import pandas as pd"
   ]
  },
  {
   "cell_type": "code",
   "execution_count": 5,
   "metadata": {},
   "outputs": [],
   "source": [
    "df_train = pd.read_csv('../train.csv')"
   ]
  },
  {
   "cell_type": "code",
   "execution_count": 6,
   "metadata": {},
   "outputs": [
    {
     "data": {
      "text/html": [
       "<div>\n",
       "<style scoped>\n",
       "    .dataframe tbody tr th:only-of-type {\n",
       "        vertical-align: middle;\n",
       "    }\n",
       "\n",
       "    .dataframe tbody tr th {\n",
       "        vertical-align: top;\n",
       "    }\n",
       "\n",
       "    .dataframe thead th {\n",
       "        text-align: right;\n",
       "    }\n",
       "</style>\n",
       "<table border=\"1\" class=\"dataframe\">\n",
       "  <thead>\n",
       "    <tr style=\"text-align: right;\">\n",
       "      <th></th>\n",
       "      <th>filename</th>\n",
       "      <th>class</th>\n",
       "    </tr>\n",
       "  </thead>\n",
       "  <tbody>\n",
       "    <tr>\n",
       "      <th>0</th>\n",
       "      <td>Fahkwang-BoldItalic_300_rand_crop_5.jpg</td>\n",
       "      <td>Fahkwang-BoldItalic</td>\n",
       "    </tr>\n",
       "    <tr>\n",
       "      <th>1</th>\n",
       "      <td>Lora-BoldItalic_150_rand_crop_0.jpg</td>\n",
       "      <td>Lora-BoldItalic</td>\n",
       "    </tr>\n",
       "    <tr>\n",
       "      <th>2</th>\n",
       "      <td>Fahkwang-Light_300_rand_crop_5.jpg</td>\n",
       "      <td>Fahkwang-Light</td>\n",
       "    </tr>\n",
       "    <tr>\n",
       "      <th>3</th>\n",
       "      <td>Fahkwang-Italic_80_rand_crop_7.jpg</td>\n",
       "      <td>Fahkwang-Italic</td>\n",
       "    </tr>\n",
       "    <tr>\n",
       "      <th>4</th>\n",
       "      <td>Lato-Light_50_rand_crop_1.jpg</td>\n",
       "      <td>Lato-Light</td>\n",
       "    </tr>\n",
       "  </tbody>\n",
       "</table>\n",
       "</div>"
      ],
      "text/plain": [
       "                                  filename                class\n",
       "0  Fahkwang-BoldItalic_300_rand_crop_5.jpg  Fahkwang-BoldItalic\n",
       "1      Lora-BoldItalic_150_rand_crop_0.jpg      Lora-BoldItalic\n",
       "2       Fahkwang-Light_300_rand_crop_5.jpg       Fahkwang-Light\n",
       "3       Fahkwang-Italic_80_rand_crop_7.jpg      Fahkwang-Italic\n",
       "4            Lato-Light_50_rand_crop_1.jpg           Lato-Light"
      ]
     },
     "execution_count": 6,
     "metadata": {},
     "output_type": "execute_result"
    }
   ],
   "source": [
    "df_train.head()"
   ]
  },
  {
   "cell_type": "code",
   "execution_count": 8,
   "metadata": {},
   "outputs": [],
   "source": [
    "BASE_PATH = '/home/paperspace/code/fontastic/data/'"
   ]
  },
  {
   "cell_type": "code",
   "execution_count": 9,
   "metadata": {},
   "outputs": [],
   "source": [
    "shutil.os.mkdir(os.path.join(BASE_PATH,'stratified'))"
   ]
  },
  {
   "cell_type": "code",
   "execution_count": 10,
   "metadata": {},
   "outputs": [],
   "source": [
    "shutil.os.mkdir(os.path.join(BASE_PATH, 'stratified', 'train'))\n",
    "shutil.os.mkdir(os.path.join(BASE_PATH, 'stratified', 'test'))"
   ]
  },
  {
   "cell_type": "code",
   "execution_count": 12,
   "metadata": {},
   "outputs": [],
   "source": [
    "src_path = os.path.join(BASE_PATH, 'training')\n",
    "dst_path = os.path.join(BASE_PATH, 'stratified')"
   ]
  },
  {
   "cell_type": "code",
   "execution_count": 13,
   "metadata": {},
   "outputs": [],
   "source": [
    "dst_train_path = os.path.join(BASE_PATH, 'stratified', 'train')"
   ]
  },
  {
   "cell_type": "code",
   "execution_count": 15,
   "metadata": {},
   "outputs": [],
   "source": [
    "dst_test_path = os.path.join(BASE_PATH, 'stratified', 'test')"
   ]
  },
  {
   "cell_type": "code",
   "execution_count": 14,
   "metadata": {},
   "outputs": [
    {
     "data": {
      "text/plain": [
       "'/home/paperspace/code/fontastic/data/stratified/train'"
      ]
     },
     "execution_count": 14,
     "metadata": {},
     "output_type": "execute_result"
    }
   ],
   "source": [
    "dst_train_path"
   ]
  },
  {
   "cell_type": "code",
   "execution_count": 16,
   "metadata": {},
   "outputs": [
    {
     "data": {
      "text/plain": [
       "'/home/paperspace/code/fontastic/data/stratified/test'"
      ]
     },
     "execution_count": 16,
     "metadata": {},
     "output_type": "execute_result"
    }
   ],
   "source": [
    "dst_test_path"
   ]
  },
  {
   "cell_type": "code",
   "execution_count": 36,
   "metadata": {},
   "outputs": [],
   "source": [
    "def cp_file(row, is_train):\n",
    "    dir_name = row['class'].split('-')[0]\n",
    "    \n",
    "    if is_train:\n",
    "        if not os.path.exists(os.path.join(dst_train_path, dir_name)):\n",
    "            shutil.os.mkdir(os.path.join(dst_train_path, dir_name))\n",
    "        new_file = shutil.copy(os.path.join(src_path, dir_name, row['filename']), os.path.join(dst_train_path, dir_name))\n",
    "    else:\n",
    "        if not os.path.exists(os.path.join(dst_test_path, dir_name)):\n",
    "            shutil.os.mkdir(os.path.join(dst_test_path, dir_name))\n",
    "        new_file = shutil.copy(os.path.join(src_path, dir_name, row['filename']), os.path.join(dst_test_path, dir_name))\n",
    "        \n",
    "    return new_file\n",
    "    "
   ]
  },
  {
   "cell_type": "code",
   "execution_count": 37,
   "metadata": {},
   "outputs": [],
   "source": [
    "df_train['new_file_path'] = df_train.apply(cp_file, axis=1, args=[True])"
   ]
  },
  {
   "cell_type": "code",
   "execution_count": 38,
   "metadata": {},
   "outputs": [
    {
     "data": {
      "text/html": [
       "<div>\n",
       "<style scoped>\n",
       "    .dataframe tbody tr th:only-of-type {\n",
       "        vertical-align: middle;\n",
       "    }\n",
       "\n",
       "    .dataframe tbody tr th {\n",
       "        vertical-align: top;\n",
       "    }\n",
       "\n",
       "    .dataframe thead th {\n",
       "        text-align: right;\n",
       "    }\n",
       "</style>\n",
       "<table border=\"1\" class=\"dataframe\">\n",
       "  <thead>\n",
       "    <tr style=\"text-align: right;\">\n",
       "      <th></th>\n",
       "      <th>filename</th>\n",
       "      <th>class</th>\n",
       "      <th>new_file_path</th>\n",
       "    </tr>\n",
       "  </thead>\n",
       "  <tbody>\n",
       "    <tr>\n",
       "      <th>0</th>\n",
       "      <td>Fahkwang-BoldItalic_300_rand_crop_5.jpg</td>\n",
       "      <td>Fahkwang-BoldItalic</td>\n",
       "      <td>/home/paperspace/code/fontastic/data/stratifie...</td>\n",
       "    </tr>\n",
       "    <tr>\n",
       "      <th>1</th>\n",
       "      <td>Lora-BoldItalic_150_rand_crop_0.jpg</td>\n",
       "      <td>Lora-BoldItalic</td>\n",
       "      <td>/home/paperspace/code/fontastic/data/stratifie...</td>\n",
       "    </tr>\n",
       "    <tr>\n",
       "      <th>2</th>\n",
       "      <td>Fahkwang-Light_300_rand_crop_5.jpg</td>\n",
       "      <td>Fahkwang-Light</td>\n",
       "      <td>/home/paperspace/code/fontastic/data/stratifie...</td>\n",
       "    </tr>\n",
       "    <tr>\n",
       "      <th>3</th>\n",
       "      <td>Fahkwang-Italic_80_rand_crop_7.jpg</td>\n",
       "      <td>Fahkwang-Italic</td>\n",
       "      <td>/home/paperspace/code/fontastic/data/stratifie...</td>\n",
       "    </tr>\n",
       "    <tr>\n",
       "      <th>4</th>\n",
       "      <td>Lato-Light_50_rand_crop_1.jpg</td>\n",
       "      <td>Lato-Light</td>\n",
       "      <td>/home/paperspace/code/fontastic/data/stratifie...</td>\n",
       "    </tr>\n",
       "  </tbody>\n",
       "</table>\n",
       "</div>"
      ],
      "text/plain": [
       "                                  filename                class  \\\n",
       "0  Fahkwang-BoldItalic_300_rand_crop_5.jpg  Fahkwang-BoldItalic   \n",
       "1      Lora-BoldItalic_150_rand_crop_0.jpg      Lora-BoldItalic   \n",
       "2       Fahkwang-Light_300_rand_crop_5.jpg       Fahkwang-Light   \n",
       "3       Fahkwang-Italic_80_rand_crop_7.jpg      Fahkwang-Italic   \n",
       "4            Lato-Light_50_rand_crop_1.jpg           Lato-Light   \n",
       "\n",
       "                                       new_file_path  \n",
       "0  /home/paperspace/code/fontastic/data/stratifie...  \n",
       "1  /home/paperspace/code/fontastic/data/stratifie...  \n",
       "2  /home/paperspace/code/fontastic/data/stratifie...  \n",
       "3  /home/paperspace/code/fontastic/data/stratifie...  \n",
       "4  /home/paperspace/code/fontastic/data/stratifie...  "
      ]
     },
     "execution_count": 38,
     "metadata": {},
     "output_type": "execute_result"
    }
   ],
   "source": [
    "df_train.head()"
   ]
  },
  {
   "cell_type": "code",
   "execution_count": 39,
   "metadata": {},
   "outputs": [
    {
     "data": {
      "text/plain": [
       "'/home/paperspace/code/fontastic/data/stratified/train/Fahkwang/Fahkwang-BoldItalic_300_rand_crop_5.jpg'"
      ]
     },
     "execution_count": 39,
     "metadata": {},
     "output_type": "execute_result"
    }
   ],
   "source": [
    "df_train.iloc[0]['new_file_path']"
   ]
  },
  {
   "cell_type": "code",
   "execution_count": 40,
   "metadata": {},
   "outputs": [],
   "source": [
    "df_test = pd.read_csv('../test.csv')"
   ]
  },
  {
   "cell_type": "code",
   "execution_count": 41,
   "metadata": {},
   "outputs": [
    {
     "data": {
      "text/html": [
       "<div>\n",
       "<style scoped>\n",
       "    .dataframe tbody tr th:only-of-type {\n",
       "        vertical-align: middle;\n",
       "    }\n",
       "\n",
       "    .dataframe tbody tr th {\n",
       "        vertical-align: top;\n",
       "    }\n",
       "\n",
       "    .dataframe thead th {\n",
       "        text-align: right;\n",
       "    }\n",
       "</style>\n",
       "<table border=\"1\" class=\"dataframe\">\n",
       "  <thead>\n",
       "    <tr style=\"text-align: right;\">\n",
       "      <th></th>\n",
       "      <th>filename</th>\n",
       "      <th>class</th>\n",
       "    </tr>\n",
       "  </thead>\n",
       "  <tbody>\n",
       "    <tr>\n",
       "      <th>0</th>\n",
       "      <td>Fahkwang-Italic_80_rand_crop_6.jpg</td>\n",
       "      <td>Fahkwang-Italic</td>\n",
       "    </tr>\n",
       "    <tr>\n",
       "      <th>1</th>\n",
       "      <td>Fahkwang-MediumItalic_150_rand_crop_6.jpg</td>\n",
       "      <td>Fahkwang-MediumItalic</td>\n",
       "    </tr>\n",
       "    <tr>\n",
       "      <th>2</th>\n",
       "      <td>Lato-LightItalic_50_rand_crop_0.jpg</td>\n",
       "      <td>Lato-LightItalic</td>\n",
       "    </tr>\n",
       "    <tr>\n",
       "      <th>3</th>\n",
       "      <td>Fahkwang-MediumItalic_150_rand_crop_3.jpg</td>\n",
       "      <td>Fahkwang-MediumItalic</td>\n",
       "    </tr>\n",
       "    <tr>\n",
       "      <th>4</th>\n",
       "      <td>Lato-LightItalic_150_rand_crop_3.jpg</td>\n",
       "      <td>Lato-LightItalic</td>\n",
       "    </tr>\n",
       "  </tbody>\n",
       "</table>\n",
       "</div>"
      ],
      "text/plain": [
       "                                    filename                  class\n",
       "0         Fahkwang-Italic_80_rand_crop_6.jpg        Fahkwang-Italic\n",
       "1  Fahkwang-MediumItalic_150_rand_crop_6.jpg  Fahkwang-MediumItalic\n",
       "2        Lato-LightItalic_50_rand_crop_0.jpg       Lato-LightItalic\n",
       "3  Fahkwang-MediumItalic_150_rand_crop_3.jpg  Fahkwang-MediumItalic\n",
       "4       Lato-LightItalic_150_rand_crop_3.jpg       Lato-LightItalic"
      ]
     },
     "execution_count": 41,
     "metadata": {},
     "output_type": "execute_result"
    }
   ],
   "source": [
    "df_test.head()"
   ]
  },
  {
   "cell_type": "code",
   "execution_count": 42,
   "metadata": {},
   "outputs": [],
   "source": [
    "df_test['new_file_path'] = df_test.apply(cp_file, axis=1, args=[False])"
   ]
  },
  {
   "cell_type": "code",
   "execution_count": 43,
   "metadata": {},
   "outputs": [
    {
     "data": {
      "text/html": [
       "<div>\n",
       "<style scoped>\n",
       "    .dataframe tbody tr th:only-of-type {\n",
       "        vertical-align: middle;\n",
       "    }\n",
       "\n",
       "    .dataframe tbody tr th {\n",
       "        vertical-align: top;\n",
       "    }\n",
       "\n",
       "    .dataframe thead th {\n",
       "        text-align: right;\n",
       "    }\n",
       "</style>\n",
       "<table border=\"1\" class=\"dataframe\">\n",
       "  <thead>\n",
       "    <tr style=\"text-align: right;\">\n",
       "      <th></th>\n",
       "      <th>filename</th>\n",
       "      <th>class</th>\n",
       "      <th>new_file_path</th>\n",
       "    </tr>\n",
       "  </thead>\n",
       "  <tbody>\n",
       "    <tr>\n",
       "      <th>0</th>\n",
       "      <td>Fahkwang-Italic_80_rand_crop_6.jpg</td>\n",
       "      <td>Fahkwang-Italic</td>\n",
       "      <td>/home/paperspace/code/fontastic/data/stratifie...</td>\n",
       "    </tr>\n",
       "    <tr>\n",
       "      <th>1</th>\n",
       "      <td>Fahkwang-MediumItalic_150_rand_crop_6.jpg</td>\n",
       "      <td>Fahkwang-MediumItalic</td>\n",
       "      <td>/home/paperspace/code/fontastic/data/stratifie...</td>\n",
       "    </tr>\n",
       "    <tr>\n",
       "      <th>2</th>\n",
       "      <td>Lato-LightItalic_50_rand_crop_0.jpg</td>\n",
       "      <td>Lato-LightItalic</td>\n",
       "      <td>/home/paperspace/code/fontastic/data/stratifie...</td>\n",
       "    </tr>\n",
       "    <tr>\n",
       "      <th>3</th>\n",
       "      <td>Fahkwang-MediumItalic_150_rand_crop_3.jpg</td>\n",
       "      <td>Fahkwang-MediumItalic</td>\n",
       "      <td>/home/paperspace/code/fontastic/data/stratifie...</td>\n",
       "    </tr>\n",
       "    <tr>\n",
       "      <th>4</th>\n",
       "      <td>Lato-LightItalic_150_rand_crop_3.jpg</td>\n",
       "      <td>Lato-LightItalic</td>\n",
       "      <td>/home/paperspace/code/fontastic/data/stratifie...</td>\n",
       "    </tr>\n",
       "  </tbody>\n",
       "</table>\n",
       "</div>"
      ],
      "text/plain": [
       "                                    filename                  class  \\\n",
       "0         Fahkwang-Italic_80_rand_crop_6.jpg        Fahkwang-Italic   \n",
       "1  Fahkwang-MediumItalic_150_rand_crop_6.jpg  Fahkwang-MediumItalic   \n",
       "2        Lato-LightItalic_50_rand_crop_0.jpg       Lato-LightItalic   \n",
       "3  Fahkwang-MediumItalic_150_rand_crop_3.jpg  Fahkwang-MediumItalic   \n",
       "4       Lato-LightItalic_150_rand_crop_3.jpg       Lato-LightItalic   \n",
       "\n",
       "                                       new_file_path  \n",
       "0  /home/paperspace/code/fontastic/data/stratifie...  \n",
       "1  /home/paperspace/code/fontastic/data/stratifie...  \n",
       "2  /home/paperspace/code/fontastic/data/stratifie...  \n",
       "3  /home/paperspace/code/fontastic/data/stratifie...  \n",
       "4  /home/paperspace/code/fontastic/data/stratifie...  "
      ]
     },
     "execution_count": 43,
     "metadata": {},
     "output_type": "execute_result"
    }
   ],
   "source": [
    "df_test.head()"
   ]
  },
  {
   "cell_type": "code",
   "execution_count": 44,
   "metadata": {},
   "outputs": [
    {
     "data": {
      "text/plain": [
       "'/home/paperspace/code/fontastic/data/stratified/test/Fahkwang/Fahkwang-Italic_80_rand_crop_6.jpg'"
      ]
     },
     "execution_count": 44,
     "metadata": {},
     "output_type": "execute_result"
    }
   ],
   "source": [
    "df_test.iloc[0]['new_file_path']"
   ]
  },
  {
   "cell_type": "code",
   "execution_count": null,
   "metadata": {},
   "outputs": [],
   "source": []
  }
 ],
 "metadata": {
  "kernelspec": {
   "display_name": "Python [conda env:fastai]",
   "language": "python",
   "name": "conda-env-fastai-py"
  },
  "language_info": {
   "codemirror_mode": {
    "name": "ipython",
    "version": 3
   },
   "file_extension": ".py",
   "mimetype": "text/x-python",
   "name": "python",
   "nbconvert_exporter": "python",
   "pygments_lexer": "ipython3",
   "version": "3.6.6"
  }
 },
 "nbformat": 4,
 "nbformat_minor": 2
}
