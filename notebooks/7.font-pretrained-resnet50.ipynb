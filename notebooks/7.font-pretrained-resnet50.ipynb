{
 "cells": [
  {
   "cell_type": "code",
   "execution_count": 1,
   "metadata": {},
   "outputs": [
    {
     "name": "stderr",
     "output_type": "stream",
     "text": [
      "/home/paperspace/anaconda3/envs/fontastic/lib/python3.7/site-packages/tqdm/autonotebook/__init__.py:14: TqdmExperimentalWarning: Using `tqdm.autonotebook.tqdm` in notebook mode. Use `tqdm.tqdm` instead to force console mode (e.g. in jupyter console)\n",
      "  \" (e.g. in jupyter console)\", TqdmExperimentalWarning)\n"
     ]
    }
   ],
   "source": [
    "import torch\n",
    "import torch.nn as nn\n",
    "import torch.optim as optim\n",
    "from torch.optim import lr_scheduler\n",
    "import numpy as np\n",
    "import torchvision\n",
    "from torchvision import datasets, models, transforms\n",
    "import matplotlib.pyplot as plt\n",
    "import time\n",
    "import os\n",
    "import pandas as pd\n",
    "from sklearn.model_selection import train_test_split\n",
    "import shutil\n",
    "import time\n",
    "import copy\n",
    "from models.lr_finder import LRFinder"
   ]
  },
  {
   "cell_type": "code",
   "execution_count": 2,
   "metadata": {},
   "outputs": [],
   "source": [
    "from fastai.vision import transform as tfm"
   ]
  },
  {
   "cell_type": "markdown",
   "metadata": {},
   "source": [
    "### Creating image datasets an data loaders for train and test using the experiments folder split"
   ]
  },
  {
   "cell_type": "code",
   "execution_count": 3,
   "metadata": {},
   "outputs": [],
   "source": [
    "experiments_path = '/home/paperspace/code/fontastic/data/stratified/'\n",
    "data_path = '/home/paperspace/code/fontastic/data/dst/training/'"
   ]
  },
  {
   "cell_type": "code",
   "execution_count": 4,
   "metadata": {},
   "outputs": [],
   "source": [
    "train_rand_tfms = tfm.get_transforms(do_flip=False)\n",
    "test_rand_tfms = tfm.get_transforms(do_flip=False)"
   ]
  },
  {
   "cell_type": "code",
   "execution_count": 5,
   "metadata": {},
   "outputs": [],
   "source": [
    "data_transforms = {\n",
    "    'train': transforms.Compose([\n",
    "\n",
    "        transforms.RandomAffine(degrees=5, fillcolor=(255, 255, 255)),\n",
    "        transforms.ColorJitter(brightness=(1, 1.2), contrast=0.1, saturation=0.1, hue=0.1),\n",
    "        transforms.ToTensor(), \n",
    "        transforms.Normalize([0.485, 0.456, 0.406], [0.229, 0.224, 0.225])\n",
    "    ]), \n",
    "    'test' : transforms.Compose([\n",
    "\n",
    "        transforms.RandomAffine(degrees=5, fillcolor=(255, 255, 255)),\n",
    "        transforms.ColorJitter(brightness=(0.8, 1.2), contrast=0.1, saturation=0.1, hue=0.1),\n",
    "        transforms.ToTensor(),\n",
    "        transforms.Normalize([0.485, 0.456, 0.406], [0.229, 0.224, 0.225])\n",
    "    ])\n",
    "}"
   ]
  },
  {
   "cell_type": "code",
   "execution_count": 6,
   "metadata": {},
   "outputs": [],
   "source": [
    "def get_train_files_path(experiments_path, data_path, phase):\n",
    "    if phase == 'train':\n",
    "        file_name = 'train.csv'\n",
    "    elif phase == 'test':\n",
    "        file_name = 'test.csv'\n",
    "    else:\n",
    "        print(\"phase can only have train and test as parameter values\")\n",
    "        exit()\n",
    "    file_path = os.path.join(experiments_path, file_name)\n",
    "    train_df = pd.read_csv(file_path, delimiter=',')\n",
    "    files_path = []\n",
    "    fonts_class = []\n",
    "    for row in train_df.iterrows():\n",
    "        files_path.append(os.path.join(data_path, row[1]['class'], row[1]['filename']))\n",
    "        fonts_class.append(row[1]['class'])\n",
    "    \n",
    "    return files_path, fonts_class"
   ]
  },
  {
   "cell_type": "code",
   "execution_count": 7,
   "metadata": {},
   "outputs": [],
   "source": [
    "def copy_images_to_path(file_path, file_class, destination_dir):\n",
    "    font_folder = os.path.join(destination_dir, file_class)\n",
    "    if os.path.exists(font_folder) == False:\n",
    "        os.makedirs(font_folder)\n",
    "    \n",
    "    print(\"File being copied from {}:{}\".format(file_path, font_folder))\n",
    "    shutil.copy(file_path, font_folder)\n",
    "    #shutil.copyfile(file_path, font_folder)\n",
    "    "
   ]
  },
  {
   "cell_type": "code",
   "execution_count": 8,
   "metadata": {},
   "outputs": [
    {
     "ename": "FileNotFoundError",
     "evalue": "File b'/home/paperspace/code/fontastic/data/stratified/train.csv' does not exist",
     "output_type": "error",
     "traceback": [
      "\u001b[0;31m---------------------------------------------------------------------------\u001b[0m",
      "\u001b[0;31mFileNotFoundError\u001b[0m                         Traceback (most recent call last)",
      "\u001b[0;32m<ipython-input-8-4c5c6cfa9c65>\u001b[0m in \u001b[0;36m<module>\u001b[0;34m\u001b[0m\n\u001b[0;32m----> 1\u001b[0;31m \u001b[0mX_train\u001b[0m\u001b[0;34m,\u001b[0m \u001b[0my_train\u001b[0m \u001b[0;34m=\u001b[0m \u001b[0mget_train_files_path\u001b[0m\u001b[0;34m(\u001b[0m\u001b[0mexperiments_path\u001b[0m\u001b[0;34m,\u001b[0m \u001b[0mdata_path\u001b[0m\u001b[0;34m,\u001b[0m \u001b[0mphase\u001b[0m\u001b[0;34m=\u001b[0m\u001b[0;34m'train'\u001b[0m\u001b[0;34m)\u001b[0m\u001b[0;34m\u001b[0m\u001b[0;34m\u001b[0m\u001b[0m\n\u001b[0m\u001b[1;32m      2\u001b[0m \u001b[0mX_test\u001b[0m\u001b[0;34m,\u001b[0m \u001b[0my_test\u001b[0m \u001b[0;34m=\u001b[0m \u001b[0mget_train_files_path\u001b[0m\u001b[0;34m(\u001b[0m\u001b[0mexperiments_path\u001b[0m\u001b[0;34m,\u001b[0m \u001b[0mdata_path\u001b[0m\u001b[0;34m,\u001b[0m \u001b[0mphase\u001b[0m\u001b[0;34m=\u001b[0m\u001b[0;34m'test'\u001b[0m\u001b[0;34m)\u001b[0m\u001b[0;34m\u001b[0m\u001b[0;34m\u001b[0m\u001b[0m\n",
      "\u001b[0;32m<ipython-input-6-0ad87ff94bc3>\u001b[0m in \u001b[0;36mget_train_files_path\u001b[0;34m(experiments_path, data_path, phase)\u001b[0m\n\u001b[1;32m      8\u001b[0m         \u001b[0mexit\u001b[0m\u001b[0;34m(\u001b[0m\u001b[0;34m)\u001b[0m\u001b[0;34m\u001b[0m\u001b[0;34m\u001b[0m\u001b[0m\n\u001b[1;32m      9\u001b[0m     \u001b[0mfile_path\u001b[0m \u001b[0;34m=\u001b[0m \u001b[0mos\u001b[0m\u001b[0;34m.\u001b[0m\u001b[0mpath\u001b[0m\u001b[0;34m.\u001b[0m\u001b[0mjoin\u001b[0m\u001b[0;34m(\u001b[0m\u001b[0mexperiments_path\u001b[0m\u001b[0;34m,\u001b[0m \u001b[0mfile_name\u001b[0m\u001b[0;34m)\u001b[0m\u001b[0;34m\u001b[0m\u001b[0;34m\u001b[0m\u001b[0m\n\u001b[0;32m---> 10\u001b[0;31m     \u001b[0mtrain_df\u001b[0m \u001b[0;34m=\u001b[0m \u001b[0mpd\u001b[0m\u001b[0;34m.\u001b[0m\u001b[0mread_csv\u001b[0m\u001b[0;34m(\u001b[0m\u001b[0mfile_path\u001b[0m\u001b[0;34m,\u001b[0m \u001b[0mdelimiter\u001b[0m\u001b[0;34m=\u001b[0m\u001b[0;34m','\u001b[0m\u001b[0;34m)\u001b[0m\u001b[0;34m\u001b[0m\u001b[0;34m\u001b[0m\u001b[0m\n\u001b[0m\u001b[1;32m     11\u001b[0m     \u001b[0mfiles_path\u001b[0m \u001b[0;34m=\u001b[0m \u001b[0;34m[\u001b[0m\u001b[0;34m]\u001b[0m\u001b[0;34m\u001b[0m\u001b[0;34m\u001b[0m\u001b[0m\n\u001b[1;32m     12\u001b[0m     \u001b[0mfonts_class\u001b[0m \u001b[0;34m=\u001b[0m \u001b[0;34m[\u001b[0m\u001b[0;34m]\u001b[0m\u001b[0;34m\u001b[0m\u001b[0;34m\u001b[0m\u001b[0m\n",
      "\u001b[0;32m~/anaconda3/envs/fontastic/lib/python3.7/site-packages/pandas/io/parsers.py\u001b[0m in \u001b[0;36mparser_f\u001b[0;34m(filepath_or_buffer, sep, delimiter, header, names, index_col, usecols, squeeze, prefix, mangle_dupe_cols, dtype, engine, converters, true_values, false_values, skipinitialspace, skiprows, nrows, na_values, keep_default_na, na_filter, verbose, skip_blank_lines, parse_dates, infer_datetime_format, keep_date_col, date_parser, dayfirst, iterator, chunksize, compression, thousands, decimal, lineterminator, quotechar, quoting, escapechar, comment, encoding, dialect, tupleize_cols, error_bad_lines, warn_bad_lines, skipfooter, doublequote, delim_whitespace, low_memory, memory_map, float_precision)\u001b[0m\n\u001b[1;32m    676\u001b[0m                     skip_blank_lines=skip_blank_lines)\n\u001b[1;32m    677\u001b[0m \u001b[0;34m\u001b[0m\u001b[0m\n\u001b[0;32m--> 678\u001b[0;31m         \u001b[0;32mreturn\u001b[0m \u001b[0m_read\u001b[0m\u001b[0;34m(\u001b[0m\u001b[0mfilepath_or_buffer\u001b[0m\u001b[0;34m,\u001b[0m \u001b[0mkwds\u001b[0m\u001b[0;34m)\u001b[0m\u001b[0;34m\u001b[0m\u001b[0;34m\u001b[0m\u001b[0m\n\u001b[0m\u001b[1;32m    679\u001b[0m \u001b[0;34m\u001b[0m\u001b[0m\n\u001b[1;32m    680\u001b[0m     \u001b[0mparser_f\u001b[0m\u001b[0;34m.\u001b[0m\u001b[0m__name__\u001b[0m \u001b[0;34m=\u001b[0m \u001b[0mname\u001b[0m\u001b[0;34m\u001b[0m\u001b[0;34m\u001b[0m\u001b[0m\n",
      "\u001b[0;32m~/anaconda3/envs/fontastic/lib/python3.7/site-packages/pandas/io/parsers.py\u001b[0m in \u001b[0;36m_read\u001b[0;34m(filepath_or_buffer, kwds)\u001b[0m\n\u001b[1;32m    438\u001b[0m \u001b[0;34m\u001b[0m\u001b[0m\n\u001b[1;32m    439\u001b[0m     \u001b[0;31m# Create the parser.\u001b[0m\u001b[0;34m\u001b[0m\u001b[0;34m\u001b[0m\u001b[0;34m\u001b[0m\u001b[0m\n\u001b[0;32m--> 440\u001b[0;31m     \u001b[0mparser\u001b[0m \u001b[0;34m=\u001b[0m \u001b[0mTextFileReader\u001b[0m\u001b[0;34m(\u001b[0m\u001b[0mfilepath_or_buffer\u001b[0m\u001b[0;34m,\u001b[0m \u001b[0;34m**\u001b[0m\u001b[0mkwds\u001b[0m\u001b[0;34m)\u001b[0m\u001b[0;34m\u001b[0m\u001b[0;34m\u001b[0m\u001b[0m\n\u001b[0m\u001b[1;32m    441\u001b[0m \u001b[0;34m\u001b[0m\u001b[0m\n\u001b[1;32m    442\u001b[0m     \u001b[0;32mif\u001b[0m \u001b[0mchunksize\u001b[0m \u001b[0;32mor\u001b[0m \u001b[0miterator\u001b[0m\u001b[0;34m:\u001b[0m\u001b[0;34m\u001b[0m\u001b[0;34m\u001b[0m\u001b[0m\n",
      "\u001b[0;32m~/anaconda3/envs/fontastic/lib/python3.7/site-packages/pandas/io/parsers.py\u001b[0m in \u001b[0;36m__init__\u001b[0;34m(self, f, engine, **kwds)\u001b[0m\n\u001b[1;32m    785\u001b[0m             \u001b[0mself\u001b[0m\u001b[0;34m.\u001b[0m\u001b[0moptions\u001b[0m\u001b[0;34m[\u001b[0m\u001b[0;34m'has_index_names'\u001b[0m\u001b[0;34m]\u001b[0m \u001b[0;34m=\u001b[0m \u001b[0mkwds\u001b[0m\u001b[0;34m[\u001b[0m\u001b[0;34m'has_index_names'\u001b[0m\u001b[0;34m]\u001b[0m\u001b[0;34m\u001b[0m\u001b[0;34m\u001b[0m\u001b[0m\n\u001b[1;32m    786\u001b[0m \u001b[0;34m\u001b[0m\u001b[0m\n\u001b[0;32m--> 787\u001b[0;31m         \u001b[0mself\u001b[0m\u001b[0;34m.\u001b[0m\u001b[0m_make_engine\u001b[0m\u001b[0;34m(\u001b[0m\u001b[0mself\u001b[0m\u001b[0;34m.\u001b[0m\u001b[0mengine\u001b[0m\u001b[0;34m)\u001b[0m\u001b[0;34m\u001b[0m\u001b[0;34m\u001b[0m\u001b[0m\n\u001b[0m\u001b[1;32m    788\u001b[0m \u001b[0;34m\u001b[0m\u001b[0m\n\u001b[1;32m    789\u001b[0m     \u001b[0;32mdef\u001b[0m \u001b[0mclose\u001b[0m\u001b[0;34m(\u001b[0m\u001b[0mself\u001b[0m\u001b[0;34m)\u001b[0m\u001b[0;34m:\u001b[0m\u001b[0;34m\u001b[0m\u001b[0;34m\u001b[0m\u001b[0m\n",
      "\u001b[0;32m~/anaconda3/envs/fontastic/lib/python3.7/site-packages/pandas/io/parsers.py\u001b[0m in \u001b[0;36m_make_engine\u001b[0;34m(self, engine)\u001b[0m\n\u001b[1;32m   1012\u001b[0m     \u001b[0;32mdef\u001b[0m \u001b[0m_make_engine\u001b[0m\u001b[0;34m(\u001b[0m\u001b[0mself\u001b[0m\u001b[0;34m,\u001b[0m \u001b[0mengine\u001b[0m\u001b[0;34m=\u001b[0m\u001b[0;34m'c'\u001b[0m\u001b[0;34m)\u001b[0m\u001b[0;34m:\u001b[0m\u001b[0;34m\u001b[0m\u001b[0;34m\u001b[0m\u001b[0m\n\u001b[1;32m   1013\u001b[0m         \u001b[0;32mif\u001b[0m \u001b[0mengine\u001b[0m \u001b[0;34m==\u001b[0m \u001b[0;34m'c'\u001b[0m\u001b[0;34m:\u001b[0m\u001b[0;34m\u001b[0m\u001b[0;34m\u001b[0m\u001b[0m\n\u001b[0;32m-> 1014\u001b[0;31m             \u001b[0mself\u001b[0m\u001b[0;34m.\u001b[0m\u001b[0m_engine\u001b[0m \u001b[0;34m=\u001b[0m \u001b[0mCParserWrapper\u001b[0m\u001b[0;34m(\u001b[0m\u001b[0mself\u001b[0m\u001b[0;34m.\u001b[0m\u001b[0mf\u001b[0m\u001b[0;34m,\u001b[0m \u001b[0;34m**\u001b[0m\u001b[0mself\u001b[0m\u001b[0;34m.\u001b[0m\u001b[0moptions\u001b[0m\u001b[0;34m)\u001b[0m\u001b[0;34m\u001b[0m\u001b[0;34m\u001b[0m\u001b[0m\n\u001b[0m\u001b[1;32m   1015\u001b[0m         \u001b[0;32melse\u001b[0m\u001b[0;34m:\u001b[0m\u001b[0;34m\u001b[0m\u001b[0;34m\u001b[0m\u001b[0m\n\u001b[1;32m   1016\u001b[0m             \u001b[0;32mif\u001b[0m \u001b[0mengine\u001b[0m \u001b[0;34m==\u001b[0m \u001b[0;34m'python'\u001b[0m\u001b[0;34m:\u001b[0m\u001b[0;34m\u001b[0m\u001b[0;34m\u001b[0m\u001b[0m\n",
      "\u001b[0;32m~/anaconda3/envs/fontastic/lib/python3.7/site-packages/pandas/io/parsers.py\u001b[0m in \u001b[0;36m__init__\u001b[0;34m(self, src, **kwds)\u001b[0m\n\u001b[1;32m   1706\u001b[0m         \u001b[0mkwds\u001b[0m\u001b[0;34m[\u001b[0m\u001b[0;34m'usecols'\u001b[0m\u001b[0;34m]\u001b[0m \u001b[0;34m=\u001b[0m \u001b[0mself\u001b[0m\u001b[0;34m.\u001b[0m\u001b[0musecols\u001b[0m\u001b[0;34m\u001b[0m\u001b[0;34m\u001b[0m\u001b[0m\n\u001b[1;32m   1707\u001b[0m \u001b[0;34m\u001b[0m\u001b[0m\n\u001b[0;32m-> 1708\u001b[0;31m         \u001b[0mself\u001b[0m\u001b[0;34m.\u001b[0m\u001b[0m_reader\u001b[0m \u001b[0;34m=\u001b[0m \u001b[0mparsers\u001b[0m\u001b[0;34m.\u001b[0m\u001b[0mTextReader\u001b[0m\u001b[0;34m(\u001b[0m\u001b[0msrc\u001b[0m\u001b[0;34m,\u001b[0m \u001b[0;34m**\u001b[0m\u001b[0mkwds\u001b[0m\u001b[0;34m)\u001b[0m\u001b[0;34m\u001b[0m\u001b[0;34m\u001b[0m\u001b[0m\n\u001b[0m\u001b[1;32m   1709\u001b[0m \u001b[0;34m\u001b[0m\u001b[0m\n\u001b[1;32m   1710\u001b[0m         \u001b[0mpassed_names\u001b[0m \u001b[0;34m=\u001b[0m \u001b[0mself\u001b[0m\u001b[0;34m.\u001b[0m\u001b[0mnames\u001b[0m \u001b[0;32mis\u001b[0m \u001b[0;32mNone\u001b[0m\u001b[0;34m\u001b[0m\u001b[0;34m\u001b[0m\u001b[0m\n",
      "\u001b[0;32mpandas/_libs/parsers.pyx\u001b[0m in \u001b[0;36mpandas._libs.parsers.TextReader.__cinit__\u001b[0;34m()\u001b[0m\n",
      "\u001b[0;32mpandas/_libs/parsers.pyx\u001b[0m in \u001b[0;36mpandas._libs.parsers.TextReader._setup_parser_source\u001b[0;34m()\u001b[0m\n",
      "\u001b[0;31mFileNotFoundError\u001b[0m: File b'/home/paperspace/code/fontastic/data/stratified/train.csv' does not exist"
     ]
    }
   ],
   "source": [
    "# X_train, y_train = get_train_files_path(experiments_path, data_path, phase='train')\n",
    "# X_test, y_test = get_train_files_path(experiments_path, data_path, phase='test')"
   ]
  },
  {
   "cell_type": "code",
   "execution_count": 129,
   "metadata": {},
   "outputs": [],
   "source": [
    "# train_dir = os.path.join(experiments_path, 'train')\n",
    "# test_dir = os.path.join(experiments_path, 'test')\n",
    "\n",
    "# if not os.path.exists(train_dir):\n",
    "#     os.makedirs(train_dir)\n",
    "\n",
    "# if not os.path.exists(test_dir):\n",
    "#     os.makedirs(test_dir)"
   ]
  },
  {
   "cell_type": "code",
   "execution_count": null,
   "metadata": {},
   "outputs": [],
   "source": [
    "# for file_path, font_class in zip(X_train, y_train):\n",
    "#     copy_images_to_path(file_path, font_class, train_dir)"
   ]
  },
  {
   "cell_type": "code",
   "execution_count": null,
   "metadata": {},
   "outputs": [],
   "source": [
    "# for file_path, font_class in zip(X_test, y_test):\n",
    "#     copy_images_to_path(file_path, font_class, test_dir)"
   ]
  },
  {
   "cell_type": "code",
   "execution_count": 9,
   "metadata": {},
   "outputs": [],
   "source": [
    "image_datasets = {x: datasets.ImageFolder(os.path.join(experiments_path, x), data_transforms[x]) for x in ['train', 'test']}"
   ]
  },
  {
   "cell_type": "code",
   "execution_count": 10,
   "metadata": {},
   "outputs": [
    {
     "data": {
      "text/plain": [
       "{'train': Dataset ImageFolder\n",
       "     Number of datapoints: 999\n",
       "     Root Location: /home/paperspace/code/fontastic/data/stratified/train\n",
       "     Transforms (if any): Compose(\n",
       "                              RandomAffine(degrees=(-5, 5), fillcolor=(255, 255, 255))\n",
       "                              ColorJitter(brightness=(1, 1.2), contrast=[0.9, 1.1], saturation=[0.9, 1.1], hue=[-0.1, 0.1])\n",
       "                              ToTensor()\n",
       "                              Normalize(mean=[0.485, 0.456, 0.406], std=[0.229, 0.224, 0.225])\n",
       "                          )\n",
       "     Target Transforms (if any): None, 'test': Dataset ImageFolder\n",
       "     Number of datapoints: 250\n",
       "     Root Location: /home/paperspace/code/fontastic/data/stratified/test\n",
       "     Transforms (if any): Compose(\n",
       "                              RandomAffine(degrees=(-5, 5), fillcolor=(255, 255, 255))\n",
       "                              ColorJitter(brightness=(0.8, 1.2), contrast=[0.9, 1.1], saturation=[0.9, 1.1], hue=[-0.1, 0.1])\n",
       "                              ToTensor()\n",
       "                              Normalize(mean=[0.485, 0.456, 0.406], std=[0.229, 0.224, 0.225])\n",
       "                          )\n",
       "     Target Transforms (if any): None}"
      ]
     },
     "execution_count": 10,
     "metadata": {},
     "output_type": "execute_result"
    }
   ],
   "source": [
    "image_datasets"
   ]
  },
  {
   "cell_type": "code",
   "execution_count": 11,
   "metadata": {},
   "outputs": [],
   "source": [
    "dataloaders = {x: torch.utils.data.DataLoader(image_datasets[x], \n",
    "                                             batch_size=32, \n",
    "                                             shuffle=True, \n",
    "                                             num_workers=3) \n",
    "               for x in ['train', 'test']}"
   ]
  },
  {
   "cell_type": "code",
   "execution_count": 12,
   "metadata": {},
   "outputs": [
    {
     "data": {
      "text/plain": [
       "{'train': <torch.utils.data.dataloader.DataLoader at 0x7f98b1533b70>,\n",
       " 'test': <torch.utils.data.dataloader.DataLoader at 0x7f98b1533a58>}"
      ]
     },
     "execution_count": 12,
     "metadata": {},
     "output_type": "execute_result"
    }
   ],
   "source": [
    "dataloaders"
   ]
  },
  {
   "cell_type": "code",
   "execution_count": 13,
   "metadata": {},
   "outputs": [],
   "source": [
    "class_names = image_datasets['train'].classes"
   ]
  },
  {
   "cell_type": "code",
   "execution_count": 14,
   "metadata": {},
   "outputs": [
    {
     "data": {
      "text/plain": [
       "['Fahkwang', 'Lato', 'Lobster', 'Lora', 'MajorMonoDisplay', 'Merriweather']"
      ]
     },
     "execution_count": 14,
     "metadata": {},
     "output_type": "execute_result"
    }
   ],
   "source": [
    "class_names"
   ]
  },
  {
   "cell_type": "code",
   "execution_count": 15,
   "metadata": {},
   "outputs": [],
   "source": [
    "device = torch.device(\"cuda:0\" if torch.cuda.is_available() else \"cpu\")"
   ]
  },
  {
   "cell_type": "code",
   "execution_count": 16,
   "metadata": {},
   "outputs": [
    {
     "data": {
      "text/plain": [
       "device(type='cuda', index=0)"
      ]
     },
     "execution_count": 16,
     "metadata": {},
     "output_type": "execute_result"
    }
   ],
   "source": [
    "device"
   ]
  },
  {
   "cell_type": "code",
   "execution_count": 17,
   "metadata": {},
   "outputs": [],
   "source": [
    "dataset_sizes = {x: len(image_datasets[x]) for x in ['train', 'test']}\n"
   ]
  },
  {
   "cell_type": "markdown",
   "metadata": {},
   "source": [
    "### Visualizing images"
   ]
  },
  {
   "cell_type": "code",
   "execution_count": 18,
   "metadata": {},
   "outputs": [],
   "source": [
    "def imshow(inp, title=None):\n",
    "    inp = inp.numpy().transpose((1, 2, 0))\n",
    "    mean = np.array([0.485, 0.456, 0.406])\n",
    "    std = np.array([0.229, 0.224, 0.225])\n",
    "    inp = std * inp + mean\n",
    "    inp = np.clip(inp, 0, 1)\n",
    "    plt.figure(figsize=(20,20))\n",
    "    plt.imshow(inp)\n",
    "\n",
    "    if title is not None:\n",
    "        plt.title(title)\n",
    "    plt.pause(0.001)\n",
    "    "
   ]
  },
  {
   "cell_type": "code",
   "execution_count": 19,
   "metadata": {},
   "outputs": [],
   "source": [
    "inputs, classes = next(iter(dataloaders['train']))\n",
    "out = torchvision.utils.make_grid(inputs)"
   ]
  },
  {
   "cell_type": "code",
   "execution_count": null,
   "metadata": {},
   "outputs": [],
   "source": [
    "imshow(out, title=[class_names[x] for x in classes])"
   ]
  },
  {
   "cell_type": "markdown",
   "metadata": {},
   "source": [
    "### Training the model"
   ]
  },
  {
   "cell_type": "code",
   "execution_count": 21,
   "metadata": {},
   "outputs": [],
   "source": [
    "def train_model(model, criterion, optimizer, num_epochs=20):\n",
    "    since = time.time()\n",
    "    best_acc = 0.0\n",
    "    best_model = copy.deepcopy(model.state_dict())\n",
    "    \n",
    "    new_freeze_state = None\n",
    "    prev_freeze_state = False\n",
    "    for epoch in range(num_epochs):\n",
    "        print(\"Epoch {}/{}\".format(epoch, num_epochs - 1))\n",
    "        print('-' * 10)\n",
    "        \n",
    "        for phase in ['train', 'test']:\n",
    "            if phase == 'train':\n",
    "#                 scheduler.step()\n",
    "                model.train()\n",
    "            else:\n",
    "                model.eval()\n",
    "                \n",
    "            running_loss = 0.0\n",
    "            running_corrects = 0\n",
    "        \n",
    "            for inputs, labels in dataloaders[phase]:\n",
    "                inputs = inputs.to(device)\n",
    "                labels = labels.to(device)\n",
    "                \n",
    "                optimizer.zero_grad()\n",
    "                \n",
    "                \n",
    "                with torch.set_grad_enabled(phase == 'train'):\n",
    "                    outputs = model(inputs)\n",
    "                    _, preds = torch.max(outputs, 1)\n",
    "                    loss = criterion(outputs, labels)\n",
    "                    \n",
    "                    if phase == 'train':\n",
    "                        loss.backward()\n",
    "                        optimizer.step()\n",
    "                        \n",
    "                running_loss += loss.item() * inputs.size(0)\n",
    "                running_corrects += torch.sum(preds == labels.data)\n",
    "            \n",
    "            epoch_loss = running_loss / dataset_sizes[phase]\n",
    "            epoch_acc = running_corrects.double() / dataset_sizes[phase]\n",
    "            \n",
    "            print('{} Loss: {:.4f} Acc:{:.4f}'.format(\n",
    "                phase, epoch_loss, epoch_acc))\n",
    "            \n",
    "            \n",
    "            if phase == 'test' and epoch_acc > best_acc:\n",
    "                best_acc = epoch_acc\n",
    "                best_model = copy.deepcopy(model.state_dict())\n",
    "            \n",
    "            print()\n",
    "    \n",
    "    time_elapsed = time.time() - since\n",
    "    print('Training complete in {:0f}m {:.0f}s'.format(\n",
    "    time_elapsed // 60, time_elapsed % 60))\n",
    "    print('Best val acc: {:4f}'.format(best_acc))\n",
    "    \n",
    "    model.load_state_dict(best_model)\n",
    "    return model\n",
    "                "
   ]
  },
  {
   "cell_type": "code",
   "execution_count": 22,
   "metadata": {},
   "outputs": [],
   "source": [
    "import ssl\n"
   ]
  },
  {
   "cell_type": "code",
   "execution_count": 23,
   "metadata": {},
   "outputs": [],
   "source": [
    "ssl._create_default_https_context = ssl._create_unverified_context"
   ]
  },
  {
   "cell_type": "code",
   "execution_count": 24,
   "metadata": {},
   "outputs": [],
   "source": [
    "model_ft = models.resnet50(pretrained=True)\n",
    "\n",
    "num_frts = model_ft.fc.in_features\n",
    "model_ft.fc = nn.Linear(num_frts, len(class_names))\n",
    "\n",
    "model_ft = model_ft.to(device)\n",
    "criterion = nn.CrossEntropyLoss()\n",
    "\n",
    "#optimizer_ft = optim.SGD(model_ft.parameters(), lr=0.01, momentum=0.9)\n",
    "optimizer_ft = optim.Adam(model_ft.parameters(), lr=1e-03, weight_decay=1e-02)\n",
    "# exp_lr_scheduler = lr_scheduler.StepLR(optimizer_ft, step_size=7, gamma=0.1)"
   ]
  },
  {
   "cell_type": "code",
   "execution_count": null,
   "metadata": {},
   "outputs": [],
   "source": [
    "list(model_ft.children())"
   ]
  },
  {
   "cell_type": "code",
   "execution_count": 26,
   "metadata": {},
   "outputs": [
    {
     "data": {
      "application/vnd.jupyter.widget-view+json": {
       "model_id": "0a05c9c118e546dd886a3cd6f021ada2",
       "version_major": 2,
       "version_minor": 0
      },
      "text/plain": [
       "HBox(children=(IntProgress(value=0), HTML(value='')))"
      ]
     },
     "metadata": {},
     "output_type": "display_data"
    },
    {
     "name": "stdout",
     "output_type": "stream",
     "text": [
      "Stopping early, the loss has diverged\n",
      "Learning rate search finished. See the graph with {finder_name}.plot()\n"
     ]
    }
   ],
   "source": [
    "criterion = nn.CrossEntropyLoss()\n",
    "optimizer = optim.Adam(model_ft.parameters(), lr=1e-7, weight_decay=1e-2)\n",
    "lrf = LRFinder(model_ft, optimizer, criterion, device=\"cuda\")\n",
    "lrf.range_test(dataloaders['train'], end_lr=100, num_iter=100, step_mode=\"exp\")"
   ]
  },
  {
   "cell_type": "code",
   "execution_count": 23,
   "metadata": {},
   "outputs": [
    {
     "data": {
      "image/png": "[encoded data removed]",
      "text/plain": [
       "<Figure size 432x288 with 1 Axes>"
      ]
     },
     "metadata": {
      "needs_background": "light"
     },
     "output_type": "display_data"
    }
   ],
   "source": [
    "lrf.plot()"
   ]
  },
  {
   "cell_type": "code",
   "execution_count": 24,
   "metadata": {},
   "outputs": [],
   "source": [
    "lrf.reset()"
   ]
  },
  {
   "cell_type": "code",
   "execution_count": 26,
   "metadata": {},
   "outputs": [],
   "source": [
    "model_ft = models.resnet50(pretrained=True)\n",
    "\n",
    "num_frts = model_ft.fc.in_features\n",
    "model_ft.fc = nn.Linear(num_frts, len(class_names))\n",
    "\n",
    "model_ft = model_ft.to(device)\n",
    "criterion = nn.CrossEntropyLoss()\n",
    "\n",
    "#optimizer_ft = optim.SGD(model_ft.parameters(), lr=0.01, momentum=0.9)\n",
    "optimizer_ft = optim.Adam(model_ft.parameters(), lr=1e-03, weight_decay=1e-02)\n",
    "# exp_lr_scheduler = lr_scheduler.StepLR(optimizer_ft, step_size=5, gamma=0.1)"
   ]
  },
  {
   "cell_type": "code",
   "execution_count": 27,
   "metadata": {
    "scrolled": false
   },
   "outputs": [
    {
     "name": "stdout",
     "output_type": "stream",
     "text": [
      "Epoch 0/39\n",
      "----------\n",
      "train Loss: 1.4014 Acc:0.4685\n",
      "\n",
      "test Loss: 1.1405 Acc:0.5600\n",
      "\n",
      "Epoch 1/39\n",
      "----------\n",
      "train Loss: 0.9521 Acc:0.6126\n",
      "\n",
      "test Loss: 433.0719 Acc:0.3960\n",
      "\n",
      "Epoch 2/39\n",
      "----------\n",
      "train Loss: 0.9702 Acc:0.6076\n",
      "\n",
      "test Loss: 0.9965 Acc:0.6120\n",
      "\n",
      "Epoch 3/39\n",
      "----------\n",
      "train Loss: 0.6786 Acc:0.7287\n",
      "\n",
      "test Loss: 2.2418 Acc:0.3600\n",
      "\n",
      "Epoch 4/39\n",
      "----------\n",
      "train Loss: 0.6702 Acc:0.7377\n",
      "\n",
      "test Loss: 1.0157 Acc:0.5920\n",
      "\n",
      "Epoch 5/39\n",
      "----------\n",
      "train Loss: 0.4778 Acc:0.8228\n",
      "\n",
      "test Loss: 3.1915 Acc:0.1920\n",
      "\n",
      "Epoch 6/39\n",
      "----------\n",
      "train Loss: 0.4408 Acc:0.8338\n",
      "\n",
      "test Loss: 1.0038 Acc:0.4880\n",
      "\n",
      "Epoch 7/39\n",
      "----------\n",
      "train Loss: 0.3621 Acc:0.8709\n",
      "\n",
      "test Loss: 1.0677 Acc:0.5240\n",
      "\n",
      "Epoch 8/39\n",
      "----------\n",
      "train Loss: 0.4261 Acc:0.8619\n",
      "\n",
      "test Loss: 0.8439 Acc:0.7800\n",
      "\n",
      "Epoch 9/39\n",
      "----------\n",
      "train Loss: 0.3863 Acc:0.8659\n",
      "\n",
      "test Loss: 0.9458 Acc:0.5920\n",
      "\n",
      "Epoch 10/39\n",
      "----------\n",
      "train Loss: 0.3277 Acc:0.8809\n",
      "\n",
      "test Loss: 1.5174 Acc:0.4440\n",
      "\n",
      "Epoch 11/39\n",
      "----------\n",
      "train Loss: 0.4954 Acc:0.8148\n",
      "\n",
      "test Loss: 1.3809 Acc:0.4280\n",
      "\n",
      "Epoch 12/39\n",
      "----------\n",
      "train Loss: 0.3506 Acc:0.8939\n",
      "\n",
      "test Loss: 2.2849 Acc:0.4160\n",
      "\n",
      "Epoch 13/39\n",
      "----------\n",
      "train Loss: 0.3960 Acc:0.8629\n",
      "\n",
      "test Loss: 1.7379 Acc:0.4560\n",
      "\n",
      "Epoch 14/39\n",
      "----------\n",
      "train Loss: 0.3552 Acc:0.8679\n",
      "\n",
      "test Loss: 0.8217 Acc:0.7120\n",
      "\n",
      "Epoch 15/39\n",
      "----------\n",
      "train Loss: 0.3041 Acc:0.8869\n",
      "\n",
      "test Loss: 1.3474 Acc:0.4600\n",
      "\n",
      "Epoch 16/39\n",
      "----------\n",
      "train Loss: 0.4684 Acc:0.8308\n",
      "\n",
      "test Loss: 1.9084 Acc:0.3760\n",
      "\n",
      "Epoch 17/39\n",
      "----------\n",
      "train Loss: 0.3080 Acc:0.8909\n",
      "\n",
      "test Loss: 0.6143 Acc:0.7760\n",
      "\n",
      "Epoch 18/39\n",
      "----------\n",
      "train Loss: 0.2125 Acc:0.9279\n",
      "\n",
      "test Loss: 0.9606 Acc:0.6200\n",
      "\n",
      "Epoch 19/39\n",
      "----------\n",
      "train Loss: 0.2412 Acc:0.9189\n",
      "\n",
      "test Loss: 1.3464 Acc:0.7400\n",
      "\n",
      "Epoch 20/39\n",
      "----------\n",
      "train Loss: 0.2607 Acc:0.9109\n",
      "\n",
      "test Loss: 0.7916 Acc:0.7040\n",
      "\n",
      "Epoch 21/39\n",
      "----------\n"
     ]
    },
    {
     "ename": "KeyboardInterrupt",
     "evalue": "",
     "output_type": "error",
     "traceback": [
      "\u001b[0;31m---------------------------------------------------------------------------\u001b[0m",
      "\u001b[0;31mKeyboardInterrupt\u001b[0m                         Traceback (most recent call last)",
      "\u001b[0;32m<ipython-input-27-503f2484deed>\u001b[0m in \u001b[0;36m<module>\u001b[0;34m\u001b[0m\n\u001b[0;32m----> 1\u001b[0;31m \u001b[0mmodel_ft\u001b[0m \u001b[0;34m=\u001b[0m \u001b[0mtrain_model\u001b[0m\u001b[0;34m(\u001b[0m\u001b[0mmodel_ft\u001b[0m\u001b[0;34m,\u001b[0m \u001b[0mcriterion\u001b[0m\u001b[0;34m,\u001b[0m \u001b[0moptimizer_ft\u001b[0m\u001b[0;34m,\u001b[0m \u001b[0mnum_epochs\u001b[0m\u001b[0;34m=\u001b[0m\u001b[0;36m40\u001b[0m\u001b[0;34m)\u001b[0m\u001b[0;34m\u001b[0m\u001b[0;34m\u001b[0m\u001b[0m\n\u001b[0m",
      "\u001b[0;32m<ipython-input-18-c6a12a092e07>\u001b[0m in \u001b[0;36mtrain_model\u001b[0;34m(model, criterion, optimizer, num_epochs)\u001b[0m\n\u001b[1;32m     34\u001b[0m                     \u001b[0;32mif\u001b[0m \u001b[0mphase\u001b[0m \u001b[0;34m==\u001b[0m \u001b[0;34m'train'\u001b[0m\u001b[0;34m:\u001b[0m\u001b[0;34m\u001b[0m\u001b[0;34m\u001b[0m\u001b[0m\n\u001b[1;32m     35\u001b[0m                         \u001b[0mloss\u001b[0m\u001b[0;34m.\u001b[0m\u001b[0mbackward\u001b[0m\u001b[0;34m(\u001b[0m\u001b[0;34m)\u001b[0m\u001b[0;34m\u001b[0m\u001b[0;34m\u001b[0m\u001b[0m\n\u001b[0;32m---> 36\u001b[0;31m                         \u001b[0moptimizer\u001b[0m\u001b[0;34m.\u001b[0m\u001b[0mstep\u001b[0m\u001b[0;34m(\u001b[0m\u001b[0;34m)\u001b[0m\u001b[0;34m\u001b[0m\u001b[0;34m\u001b[0m\u001b[0m\n\u001b[0m\u001b[1;32m     37\u001b[0m \u001b[0;34m\u001b[0m\u001b[0m\n\u001b[1;32m     38\u001b[0m                 \u001b[0mrunning_loss\u001b[0m \u001b[0;34m+=\u001b[0m \u001b[0mloss\u001b[0m\u001b[0;34m.\u001b[0m\u001b[0mitem\u001b[0m\u001b[0;34m(\u001b[0m\u001b[0;34m)\u001b[0m \u001b[0;34m*\u001b[0m \u001b[0minputs\u001b[0m\u001b[0;34m.\u001b[0m\u001b[0msize\u001b[0m\u001b[0;34m(\u001b[0m\u001b[0;36m0\u001b[0m\u001b[0;34m)\u001b[0m\u001b[0;34m\u001b[0m\u001b[0;34m\u001b[0m\u001b[0m\n",
      "\u001b[0;32m~/anaconda3/envs/fontastic/lib/python3.7/site-packages/torch/optim/adam.py\u001b[0m in \u001b[0;36mstep\u001b[0;34m(self, closure)\u001b[0m\n\u001b[1;32m    105\u001b[0m                 \u001b[0mstep_size\u001b[0m \u001b[0;34m=\u001b[0m \u001b[0mgroup\u001b[0m\u001b[0;34m[\u001b[0m\u001b[0;34m'lr'\u001b[0m\u001b[0;34m]\u001b[0m \u001b[0;34m*\u001b[0m \u001b[0mmath\u001b[0m\u001b[0;34m.\u001b[0m\u001b[0msqrt\u001b[0m\u001b[0;34m(\u001b[0m\u001b[0mbias_correction2\u001b[0m\u001b[0;34m)\u001b[0m \u001b[0;34m/\u001b[0m \u001b[0mbias_correction1\u001b[0m\u001b[0;34m\u001b[0m\u001b[0;34m\u001b[0m\u001b[0m\n\u001b[1;32m    106\u001b[0m \u001b[0;34m\u001b[0m\u001b[0m\n\u001b[0;32m--> 107\u001b[0;31m                 \u001b[0mp\u001b[0m\u001b[0;34m.\u001b[0m\u001b[0mdata\u001b[0m\u001b[0;34m.\u001b[0m\u001b[0maddcdiv_\u001b[0m\u001b[0;34m(\u001b[0m\u001b[0;34m-\u001b[0m\u001b[0mstep_size\u001b[0m\u001b[0;34m,\u001b[0m \u001b[0mexp_avg\u001b[0m\u001b[0;34m,\u001b[0m \u001b[0mdenom\u001b[0m\u001b[0;34m)\u001b[0m\u001b[0;34m\u001b[0m\u001b[0;34m\u001b[0m\u001b[0m\n\u001b[0m\u001b[1;32m    108\u001b[0m \u001b[0;34m\u001b[0m\u001b[0m\n\u001b[1;32m    109\u001b[0m         \u001b[0;32mreturn\u001b[0m \u001b[0mloss\u001b[0m\u001b[0;34m\u001b[0m\u001b[0;34m\u001b[0m\u001b[0m\n",
      "\u001b[0;31mKeyboardInterrupt\u001b[0m: "
     ]
    }
   ],
   "source": [
    "model_ft = train_model(model_ft, criterion, optimizer_ft, num_epochs=40)"
   ]
  },
  {
   "cell_type": "code",
   "execution_count": 55,
   "metadata": {},
   "outputs": [],
   "source": [
    "def freeze(model):\n",
    "    for param in model.parameters():\n",
    "        param.requires_grad = True\n",
    "    for param in list(model.parameters())[:-1]:\n",
    "        param.requires_grad = False\n",
    "    return model\n",
    "\n",
    "def unfreeze(model):\n",
    "    for param in model.parameters():\n",
    "        param.requires_grad = True\n",
    "    return model\n",
    "    "
   ]
  },
  {
   "cell_type": "code",
   "execution_count": 29,
   "metadata": {},
   "outputs": [],
   "source": [
    "model_ft = unfreeze(model_ft)"
   ]
  },
  {
   "cell_type": "code",
   "execution_count": 30,
   "metadata": {},
   "outputs": [
    {
     "name": "stdout",
     "output_type": "stream",
     "text": [
      "Epoch 0/9\n",
      "----------\n",
      "train Loss: 0.2056 Acc:0.9299\n",
      "\n",
      "test Loss: 0.7248 Acc:0.7560\n",
      "\n",
      "Epoch 1/9\n",
      "----------\n",
      "train Loss: 0.1585 Acc:0.9510\n",
      "\n",
      "test Loss: 0.7665 Acc:0.7360\n",
      "\n",
      "Epoch 2/9\n",
      "----------\n",
      "train Loss: 0.4671 Acc:0.8348\n",
      "\n",
      "test Loss: 0.5958 Acc:0.7760\n",
      "\n",
      "Epoch 3/9\n",
      "----------\n",
      "train Loss: 0.2925 Acc:0.9009\n",
      "\n",
      "test Loss: 1.8298 Acc:0.5240\n",
      "\n",
      "Epoch 4/9\n",
      "----------\n",
      "train Loss: 0.2961 Acc:0.8919\n",
      "\n",
      "test Loss: 0.7023 Acc:0.7320\n",
      "\n",
      "Epoch 5/9\n",
      "----------\n",
      "train Loss: 0.1882 Acc:0.9389\n",
      "\n",
      "test Loss: 0.7925 Acc:0.7160\n",
      "\n",
      "Epoch 6/9\n",
      "----------\n",
      "train Loss: 0.2375 Acc:0.9339\n",
      "\n",
      "test Loss: 1.0633 Acc:0.6320\n",
      "\n",
      "Epoch 7/9\n",
      "----------\n",
      "train Loss: 0.2460 Acc:0.9229\n",
      "\n",
      "test Loss: 0.8348 Acc:0.7440\n",
      "\n",
      "Epoch 8/9\n",
      "----------\n",
      "train Loss: 0.1633 Acc:0.9590\n",
      "\n",
      "test Loss: 0.7900 Acc:0.7240\n",
      "\n",
      "Epoch 9/9\n",
      "----------\n",
      "train Loss: 0.1624 Acc:0.9499\n",
      "\n",
      "test Loss: 0.2069 Acc:0.9320\n",
      "\n",
      "Training complete in 4.000000m 26s\n",
      "Best val acc: 0.932000\n"
     ]
    }
   ],
   "source": [
    "model_ft = train_model(model_ft, criterion, optimizer_ft, num_epochs=10)"
   ]
  },
  {
   "cell_type": "code",
   "execution_count": 56,
   "metadata": {},
   "outputs": [],
   "source": [
    "model_ft = freeze(model_ft)"
   ]
  },
  {
   "cell_type": "code",
   "execution_count": 57,
   "metadata": {},
   "outputs": [
    {
     "name": "stdout",
     "output_type": "stream",
     "text": [
      "Epoch 0/19\n",
      "----------\n",
      "train Loss: 0.4360 Acc:0.8488\n",
      "\n",
      "test Loss: 0.6452 Acc:0.8120\n",
      "\n",
      "Epoch 1/19\n",
      "----------\n",
      "train Loss: 0.6208 Acc:0.7718\n",
      "\n",
      "test Loss: 0.6950 Acc:0.7400\n",
      "\n",
      "Epoch 2/19\n",
      "----------\n",
      "train Loss: 0.6747 Acc:0.7698\n",
      "\n",
      "test Loss: 0.6901 Acc:0.7880\n",
      "\n",
      "Epoch 3/19\n",
      "----------\n",
      "train Loss: 0.7271 Acc:0.7738\n",
      "\n",
      "test Loss: 0.8617 Acc:0.7600\n",
      "\n",
      "Epoch 4/19\n",
      "----------\n",
      "train Loss: 0.8535 Acc:0.7638\n",
      "\n",
      "test Loss: 0.9477 Acc:0.7560\n",
      "\n",
      "Epoch 5/19\n",
      "----------\n",
      "train Loss: 0.9515 Acc:0.7608\n",
      "\n",
      "test Loss: 1.0283 Acc:0.7800\n",
      "\n",
      "Epoch 6/19\n",
      "----------\n",
      "train Loss: 1.0515 Acc:0.7638\n",
      "\n",
      "test Loss: 1.1225 Acc:0.7880\n",
      "\n",
      "Epoch 7/19\n",
      "----------\n",
      "train Loss: 1.1577 Acc:0.7618\n",
      "\n",
      "test Loss: 1.1962 Acc:0.7920\n",
      "\n",
      "Epoch 8/19\n",
      "----------\n",
      "train Loss: 1.2224 Acc:0.7668\n",
      "\n",
      "test Loss: 1.2698 Acc:0.7520\n",
      "\n",
      "Epoch 9/19\n",
      "----------\n",
      "train Loss: 1.2784 Acc:0.7608\n",
      "\n",
      "test Loss: 1.3125 Acc:0.7520\n",
      "\n",
      "Epoch 10/19\n",
      "----------\n",
      "train Loss: 1.3330 Acc:0.7247\n",
      "\n",
      "test Loss: 1.3461 Acc:0.7160\n",
      "\n",
      "Epoch 11/19\n",
      "----------\n",
      "train Loss: 1.3632 Acc:0.6977\n",
      "\n",
      "test Loss: 1.3871 Acc:0.6800\n",
      "\n",
      "Epoch 12/19\n",
      "----------\n",
      "train Loss: 1.3911 Acc:0.6767\n",
      "\n",
      "test Loss: 1.4067 Acc:0.6440\n",
      "\n",
      "Epoch 13/19\n",
      "----------\n",
      "train Loss: 1.4107 Acc:0.6316\n",
      "\n",
      "test Loss: 1.4250 Acc:0.6040\n",
      "\n",
      "Epoch 14/19\n",
      "----------\n",
      "train Loss: 1.4260 Acc:0.5986\n",
      "\n",
      "test Loss: 1.4356 Acc:0.5800\n",
      "\n",
      "Epoch 15/19\n",
      "----------\n",
      "train Loss: 1.4374 Acc:0.5626\n",
      "\n",
      "test Loss: 1.4509 Acc:0.5320\n",
      "\n",
      "Epoch 16/19\n",
      "----------\n",
      "train Loss: 1.4460 Acc:0.5335\n",
      "\n",
      "test Loss: 1.4580 Acc:0.5000\n",
      "\n",
      "Epoch 17/19\n",
      "----------\n",
      "train Loss: 1.4520 Acc:0.4825\n",
      "\n",
      "test Loss: 1.4601 Acc:0.4120\n",
      "\n",
      "Epoch 18/19\n",
      "----------\n",
      "train Loss: 1.4576 Acc:0.4244\n",
      "\n",
      "test Loss: 1.4633 Acc:0.4000\n",
      "\n",
      "Epoch 19/19\n",
      "----------\n",
      "train Loss: 1.4597 Acc:0.3874\n",
      "\n",
      "test Loss: 1.4662 Acc:0.3840\n",
      "\n",
      "Training complete in 3.000000m 44s\n",
      "Best val acc: 0.812000\n"
     ]
    }
   ],
   "source": [
    "model_ft = train_model(model_ft, criterion, optimizer_ft, num_epochs=20)"
   ]
  },
  {
   "cell_type": "code",
   "execution_count": 58,
   "metadata": {},
   "outputs": [],
   "source": [
    "model_ft = unfreeze(model_ft)"
   ]
  },
  {
   "cell_type": "code",
   "execution_count": 59,
   "metadata": {},
   "outputs": [
    {
     "name": "stdout",
     "output_type": "stream",
     "text": [
      "Epoch 0/9\n",
      "----------\n",
      "train Loss: 0.2154 Acc:0.9409\n",
      "\n",
      "test Loss: 2.7387 Acc:0.4560\n",
      "\n",
      "Epoch 1/9\n",
      "----------\n",
      "train Loss: 0.2470 Acc:0.9299\n",
      "\n",
      "test Loss: 5.0905 Acc:0.2440\n",
      "\n",
      "Epoch 2/9\n",
      "----------\n",
      "train Loss: 0.2743 Acc:0.9149\n",
      "\n",
      "test Loss: 1.4203 Acc:0.7240\n",
      "\n",
      "Epoch 3/9\n",
      "----------\n",
      "train Loss: 0.2919 Acc:0.9009\n",
      "\n",
      "test Loss: 0.4242 Acc:0.8720\n",
      "\n",
      "Epoch 4/9\n",
      "----------\n",
      "train Loss: 0.2056 Acc:0.9339\n",
      "\n",
      "test Loss: 0.6886 Acc:0.7360\n",
      "\n",
      "Epoch 5/9\n",
      "----------\n",
      "train Loss: 0.2864 Acc:0.8989\n",
      "\n",
      "test Loss: 0.6357 Acc:0.8000\n",
      "\n",
      "Epoch 6/9\n",
      "----------\n",
      "train Loss: 0.1982 Acc:0.9499\n",
      "\n",
      "test Loss: 0.7081 Acc:0.7240\n",
      "\n",
      "Epoch 7/9\n",
      "----------\n",
      "train Loss: 0.2353 Acc:0.9209\n",
      "\n",
      "test Loss: 1.2819 Acc:0.7320\n",
      "\n",
      "Epoch 8/9\n",
      "----------\n",
      "train Loss: 0.1625 Acc:0.9600\n",
      "\n",
      "test Loss: 0.4625 Acc:0.8840\n",
      "\n",
      "Epoch 9/9\n",
      "----------\n",
      "train Loss: 0.1694 Acc:0.9479\n",
      "\n",
      "test Loss: 0.3051 Acc:0.8920\n",
      "\n",
      "Training complete in 4.000000m 25s\n",
      "Best val acc: 0.892000\n"
     ]
    }
   ],
   "source": [
    "model_ft = train_model(model_ft, criterion, optimizer_ft, num_epochs=10)"
   ]
  },
  {
   "cell_type": "code",
   "execution_count": 60,
   "metadata": {},
   "outputs": [],
   "source": [
    "model_ft = freeze(model_ft)"
   ]
  },
  {
   "cell_type": "code",
   "execution_count": 61,
   "metadata": {},
   "outputs": [
    {
     "name": "stdout",
     "output_type": "stream",
     "text": [
      "Epoch 0/19\n",
      "----------\n",
      "train Loss: 1.2216 Acc:0.6066\n",
      "\n",
      "test Loss: 1.8235 Acc:0.3800\n",
      "\n",
      "Epoch 1/19\n",
      "----------\n",
      "train Loss: 1.5088 Acc:0.4655\n",
      "\n",
      "test Loss: 2.0141 Acc:0.2720\n",
      "\n",
      "Epoch 2/19\n",
      "----------\n",
      "train Loss: 1.4713 Acc:0.4705\n",
      "\n",
      "test Loss: 1.8144 Acc:0.3080\n",
      "\n",
      "Epoch 3/19\n",
      "----------\n",
      "train Loss: 1.4724 Acc:0.4665\n",
      "\n",
      "test Loss: 1.7585 Acc:0.2960\n",
      "\n",
      "Epoch 4/19\n",
      "----------\n",
      "train Loss: 1.4778 Acc:0.4825\n",
      "\n",
      "test Loss: 1.7118 Acc:0.3000\n",
      "\n",
      "Epoch 5/19\n",
      "----------\n"
     ]
    },
    {
     "ename": "KeyboardInterrupt",
     "evalue": "",
     "output_type": "error",
     "traceback": [
      "\u001b[0;31m---------------------------------------------------------------------------\u001b[0m",
      "\u001b[0;31mKeyboardInterrupt\u001b[0m                         Traceback (most recent call last)",
      "\u001b[0;32m<ipython-input-61-c778ec9f35e9>\u001b[0m in \u001b[0;36m<module>\u001b[0;34m\u001b[0m\n\u001b[0;32m----> 1\u001b[0;31m \u001b[0mmodel_ft\u001b[0m \u001b[0;34m=\u001b[0m \u001b[0mtrain_model\u001b[0m\u001b[0;34m(\u001b[0m\u001b[0mmodel_ft\u001b[0m\u001b[0;34m,\u001b[0m \u001b[0mcriterion\u001b[0m\u001b[0;34m,\u001b[0m \u001b[0moptimizer_ft\u001b[0m\u001b[0;34m,\u001b[0m \u001b[0mnum_epochs\u001b[0m\u001b[0;34m=\u001b[0m\u001b[0;36m20\u001b[0m\u001b[0;34m)\u001b[0m\u001b[0;34m\u001b[0m\u001b[0;34m\u001b[0m\u001b[0m\n\u001b[0m",
      "\u001b[0;32m<ipython-input-18-c6a12a092e07>\u001b[0m in \u001b[0;36mtrain_model\u001b[0;34m(model, criterion, optimizer, num_epochs)\u001b[0m\n\u001b[1;32m     34\u001b[0m                     \u001b[0;32mif\u001b[0m \u001b[0mphase\u001b[0m \u001b[0;34m==\u001b[0m \u001b[0;34m'train'\u001b[0m\u001b[0;34m:\u001b[0m\u001b[0;34m\u001b[0m\u001b[0;34m\u001b[0m\u001b[0m\n\u001b[1;32m     35\u001b[0m                         \u001b[0mloss\u001b[0m\u001b[0;34m.\u001b[0m\u001b[0mbackward\u001b[0m\u001b[0;34m(\u001b[0m\u001b[0;34m)\u001b[0m\u001b[0;34m\u001b[0m\u001b[0;34m\u001b[0m\u001b[0m\n\u001b[0;32m---> 36\u001b[0;31m                         \u001b[0moptimizer\u001b[0m\u001b[0;34m.\u001b[0m\u001b[0mstep\u001b[0m\u001b[0;34m(\u001b[0m\u001b[0;34m)\u001b[0m\u001b[0;34m\u001b[0m\u001b[0;34m\u001b[0m\u001b[0m\n\u001b[0m\u001b[1;32m     37\u001b[0m \u001b[0;34m\u001b[0m\u001b[0m\n\u001b[1;32m     38\u001b[0m                 \u001b[0mrunning_loss\u001b[0m \u001b[0;34m+=\u001b[0m \u001b[0mloss\u001b[0m\u001b[0;34m.\u001b[0m\u001b[0mitem\u001b[0m\u001b[0;34m(\u001b[0m\u001b[0;34m)\u001b[0m \u001b[0;34m*\u001b[0m \u001b[0minputs\u001b[0m\u001b[0;34m.\u001b[0m\u001b[0msize\u001b[0m\u001b[0;34m(\u001b[0m\u001b[0;36m0\u001b[0m\u001b[0;34m)\u001b[0m\u001b[0;34m\u001b[0m\u001b[0;34m\u001b[0m\u001b[0m\n",
      "\u001b[0;32m~/anaconda3/envs/fontastic/lib/python3.7/site-packages/torch/optim/adam.py\u001b[0m in \u001b[0;36mstep\u001b[0;34m(self, closure)\u001b[0m\n\u001b[1;32m     88\u001b[0m \u001b[0;34m\u001b[0m\u001b[0m\n\u001b[1;32m     89\u001b[0m                 \u001b[0;32mif\u001b[0m \u001b[0mgroup\u001b[0m\u001b[0;34m[\u001b[0m\u001b[0;34m'weight_decay'\u001b[0m\u001b[0;34m]\u001b[0m \u001b[0;34m!=\u001b[0m \u001b[0;36m0\u001b[0m\u001b[0;34m:\u001b[0m\u001b[0;34m\u001b[0m\u001b[0;34m\u001b[0m\u001b[0m\n\u001b[0;32m---> 90\u001b[0;31m                     \u001b[0mgrad\u001b[0m\u001b[0;34m.\u001b[0m\u001b[0madd_\u001b[0m\u001b[0;34m(\u001b[0m\u001b[0mgroup\u001b[0m\u001b[0;34m[\u001b[0m\u001b[0;34m'weight_decay'\u001b[0m\u001b[0;34m]\u001b[0m\u001b[0;34m,\u001b[0m \u001b[0mp\u001b[0m\u001b[0;34m.\u001b[0m\u001b[0mdata\u001b[0m\u001b[0;34m)\u001b[0m\u001b[0;34m\u001b[0m\u001b[0;34m\u001b[0m\u001b[0m\n\u001b[0m\u001b[1;32m     91\u001b[0m \u001b[0;34m\u001b[0m\u001b[0m\n\u001b[1;32m     92\u001b[0m                 \u001b[0;31m# Decay the first and second moment running average coefficient\u001b[0m\u001b[0;34m\u001b[0m\u001b[0;34m\u001b[0m\u001b[0;34m\u001b[0m\u001b[0m\n",
      "\u001b[0;31mKeyboardInterrupt\u001b[0m: "
     ]
    }
   ],
   "source": [
    "model_ft = train_model(model_ft, criterion, optimizer_ft, num_epochs=20)"
   ]
  },
  {
   "cell_type": "code",
   "execution_count": 62,
   "metadata": {},
   "outputs": [],
   "source": [
    "model_ft = unfreeze(model_ft)"
   ]
  },
  {
   "cell_type": "code",
   "execution_count": 63,
   "metadata": {},
   "outputs": [
    {
     "name": "stdout",
     "output_type": "stream",
     "text": [
      "Epoch 0/29\n",
      "----------\n",
      "train Loss: 0.5581 Acc:0.8258\n",
      "\n",
      "test Loss: 0.5870 Acc:0.7960\n",
      "\n",
      "Epoch 1/29\n",
      "----------\n",
      "train Loss: 0.2100 Acc:0.9459\n",
      "\n",
      "test Loss: 1.9395 Acc:0.6240\n",
      "\n",
      "Epoch 2/29\n",
      "----------\n",
      "train Loss: 0.2179 Acc:0.9329\n",
      "\n",
      "test Loss: 2.5721 Acc:0.4480\n",
      "\n",
      "Epoch 3/29\n",
      "----------\n",
      "train Loss: 0.2671 Acc:0.9189\n",
      "\n",
      "test Loss: 5.2829 Acc:0.2560\n",
      "\n",
      "Epoch 4/29\n",
      "----------\n",
      "train Loss: 0.1593 Acc:0.9469\n",
      "\n",
      "test Loss: 0.5057 Acc:0.8160\n",
      "\n",
      "Epoch 5/29\n",
      "----------\n",
      "train Loss: 0.1671 Acc:0.9510\n",
      "\n",
      "test Loss: 1.0206 Acc:0.6800\n",
      "\n",
      "Epoch 6/29\n",
      "----------\n",
      "train Loss: 0.1762 Acc:0.9459\n",
      "\n",
      "test Loss: 0.5134 Acc:0.8280\n",
      "\n",
      "Epoch 7/29\n",
      "----------\n",
      "train Loss: 0.1633 Acc:0.9520\n",
      "\n",
      "test Loss: 0.9351 Acc:0.7760\n",
      "\n",
      "Epoch 8/29\n",
      "----------\n",
      "train Loss: 0.3058 Acc:0.9129\n",
      "\n",
      "test Loss: 0.9914 Acc:0.7120\n",
      "\n",
      "Epoch 9/29\n",
      "----------\n",
      "train Loss: 0.2375 Acc:0.9279\n",
      "\n",
      "test Loss: 0.6702 Acc:0.8080\n",
      "\n",
      "Epoch 10/29\n",
      "----------\n",
      "train Loss: 0.1556 Acc:0.9499\n",
      "\n",
      "test Loss: 0.4232 Acc:0.8440\n",
      "\n",
      "Epoch 11/29\n",
      "----------\n",
      "train Loss: 0.1210 Acc:0.9670\n",
      "\n",
      "test Loss: 0.3684 Acc:0.8760\n",
      "\n",
      "Epoch 12/29\n",
      "----------\n",
      "train Loss: 0.1243 Acc:0.9610\n",
      "\n",
      "test Loss: 0.2380 Acc:0.9200\n",
      "\n",
      "Epoch 13/29\n",
      "----------\n",
      "train Loss: 0.1047 Acc:0.9780\n",
      "\n",
      "test Loss: 0.2802 Acc:0.9080\n",
      "\n",
      "Epoch 14/29\n",
      "----------\n",
      "train Loss: 0.1983 Acc:0.9319\n",
      "\n",
      "test Loss: 1.4234 Acc:0.6560\n",
      "\n",
      "Epoch 15/29\n",
      "----------\n",
      "train Loss: 0.1351 Acc:0.9690\n",
      "\n",
      "test Loss: 0.2014 Acc:0.9320\n",
      "\n",
      "Epoch 16/29\n",
      "----------\n",
      "train Loss: 0.1081 Acc:0.9720\n",
      "\n",
      "test Loss: 0.2798 Acc:0.9040\n",
      "\n",
      "Epoch 17/29\n",
      "----------\n",
      "train Loss: 0.0999 Acc:0.9730\n",
      "\n",
      "test Loss: 0.0695 Acc:0.9920\n",
      "\n",
      "Epoch 18/29\n",
      "----------\n",
      "train Loss: 0.1078 Acc:0.9740\n",
      "\n",
      "test Loss: 0.6682 Acc:0.7280\n",
      "\n",
      "Epoch 19/29\n",
      "----------\n",
      "train Loss: 0.1657 Acc:0.9489\n",
      "\n",
      "test Loss: 0.4406 Acc:0.8680\n",
      "\n",
      "Epoch 20/29\n",
      "----------\n",
      "train Loss: 0.1853 Acc:0.9399\n",
      "\n",
      "test Loss: 0.9064 Acc:0.7400\n",
      "\n",
      "Epoch 21/29\n",
      "----------\n",
      "train Loss: 0.1634 Acc:0.9530\n",
      "\n",
      "test Loss: 0.3259 Acc:0.8880\n",
      "\n",
      "Epoch 22/29\n",
      "----------\n",
      "train Loss: 0.1755 Acc:0.9499\n",
      "\n",
      "test Loss: 0.8395 Acc:0.7440\n",
      "\n",
      "Epoch 23/29\n",
      "----------\n",
      "train Loss: 0.1350 Acc:0.9650\n",
      "\n",
      "test Loss: 0.2404 Acc:0.9240\n",
      "\n",
      "Epoch 24/29\n",
      "----------\n",
      "train Loss: 0.0996 Acc:0.9730\n",
      "\n",
      "test Loss: 0.0820 Acc:0.9840\n",
      "\n",
      "Epoch 25/29\n",
      "----------\n",
      "train Loss: 0.1317 Acc:0.9610\n",
      "\n",
      "test Loss: 0.3113 Acc:0.8960\n",
      "\n",
      "Epoch 26/29\n",
      "----------\n",
      "train Loss: 0.1822 Acc:0.9449\n",
      "\n",
      "test Loss: 2.8482 Acc:0.4840\n",
      "\n",
      "Epoch 27/29\n",
      "----------\n",
      "train Loss: 0.1649 Acc:0.9530\n",
      "\n",
      "test Loss: 0.1872 Acc:0.9360\n",
      "\n",
      "Epoch 28/29\n",
      "----------\n",
      "train Loss: 0.1465 Acc:0.9600\n",
      "\n",
      "test Loss: 0.3513 Acc:0.9040\n",
      "\n",
      "Epoch 29/29\n",
      "----------\n",
      "train Loss: 0.1017 Acc:0.9790\n",
      "\n",
      "test Loss: 0.1442 Acc:0.9680\n",
      "\n",
      "Training complete in 13.000000m 14s\n",
      "Best val acc: 0.992000\n"
     ]
    }
   ],
   "source": [
    "model_ft = train_model(model_ft, criterion, optimizer_ft, num_epochs=30)"
   ]
  },
  {
   "cell_type": "code",
   "execution_count": null,
   "metadata": {},
   "outputs": [],
   "source": []
  },
  {
   "cell_type": "code",
   "execution_count": null,
   "metadata": {},
   "outputs": [],
   "source": []
  },
  {
   "cell_type": "code",
   "execution_count": null,
   "metadata": {},
   "outputs": [],
   "source": []
  },
  {
   "cell_type": "code",
   "execution_count": 64,
   "metadata": {},
   "outputs": [],
   "source": [
    "def visualize_model(model, num_images=6):\n",
    "    was_training = model.training\n",
    "    model.eval()\n",
    "    images_so_far = 0\n",
    "    fig = plt.figure(figsize=(4,4))\n",
    "\n",
    "    with torch.no_grad():\n",
    "        for i, (inputs, labels) in enumerate(dataloaders['test']):\n",
    "            inputs = inputs.to(device)\n",
    "            labels = labels.to(device)\n",
    "\n",
    "            outputs = model(inputs)\n",
    "            _, preds = torch.max(outputs, 1)\n",
    "\n",
    "            for j in range(inputs.size()[0]):\n",
    "                images_so_far += 1\n",
    "                ax = plt.subplot(num_images//2, 2, images_so_far)\n",
    "                ax.axis('off')\n",
    "                ax.set_title('predicted: {}, actual: {}'.format(class_names[preds[j]], class_names[labels[j]]))\n",
    "                imshow(inputs.cpu().data[j])\n",
    "\n",
    "                if images_so_far == num_images:\n",
    "                    model.train(mode=was_training)\n",
    "                    return\n",
    "        model.train(mode=was_training)"
   ]
  },
  {
   "cell_type": "code",
   "execution_count": 65,
   "metadata": {},
   "outputs": [],
   "source": [
    "torch.save(model_ft.state_dict, os.path.join(experiments_path, 'model_resnet50_tfms.pth'))"
   ]
  },
  {
   "cell_type": "code",
   "execution_count": null,
   "metadata": {
    "scrolled": true
   },
   "outputs": [],
   "source": [
    "visualize_model(model_ft, num_images=16)"
   ]
  },
  {
   "cell_type": "code",
   "execution_count": null,
   "metadata": {},
   "outputs": [],
   "source": []
  }
 ],
 "metadata": {
  "kernelspec": {
   "display_name": "Python 3",
   "language": "python",
   "name": "python3"
  },
  "language_info": {
   "codemirror_mode": {
    "name": "ipython",
    "version": 3
   },
   "file_extension": ".py",
   "mimetype": "text/x-python",
   "name": "python",
   "nbconvert_exporter": "python",
   "pygments_lexer": "ipython3",
   "version": "3.7.2"
  }
 },
 "nbformat": 4,
 "nbformat_minor": 2
}
