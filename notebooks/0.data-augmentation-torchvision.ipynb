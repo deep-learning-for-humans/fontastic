{
 "cells": [
  {
   "cell_type": "code",
   "execution_count": null,
   "metadata": {},
   "outputs": [],
   "source": [
    "import os"
   ]
  },
  {
   "cell_type": "code",
   "execution_count": null,
   "metadata": {},
   "outputs": [],
   "source": [
    "from torchvision.transforms import CenterCrop, Compose, FiveCrop, RandomCrop, Resize, Scale, RandomResizedCrop"
   ]
  },
  {
   "cell_type": "code",
   "execution_count": null,
   "metadata": {},
   "outputs": [],
   "source": [
    "%matplotlib inline\n",
    "import matplotlib.pyplot as plt"
   ]
  },
  {
   "cell_type": "code",
   "execution_count": null,
   "metadata": {},
   "outputs": [],
   "source": [
    "from PIL import Image"
   ]
  },
  {
   "cell_type": "markdown",
   "metadata": {},
   "source": [
    "### Test read image"
   ]
  },
  {
   "cell_type": "code",
   "execution_count": null,
   "metadata": {},
   "outputs": [],
   "source": [
    "im = Image.open(\"./data/dst/Fahkwang/Fahkwang-Regular_80.jpg\")\n",
    "plt.imshow(im)"
   ]
  },
  {
   "cell_type": "markdown",
   "metadata": {},
   "source": [
    "## Define transformation pipeline"
   ]
  },
  {
   "cell_type": "code",
   "execution_count": null,
   "metadata": {},
   "outputs": [],
   "source": [
    "crop_size = 512\n",
    "upscale_factor = 1"
   ]
  },
  {
   "cell_type": "code",
   "execution_count": null,
   "metadata": {},
   "outputs": [],
   "source": [
    "tfm = Compose([\n",
    "#         Scale(512 // 1),\n",
    "#         RandomCrop(512 // 1),\n",
    "        RandomResizedCrop(size=256, scale=(0.05, 0.95))\n",
    "#         Scale(256)\n",
    "])"
   ]
  },
  {
   "cell_type": "code",
   "execution_count": null,
   "metadata": {},
   "outputs": [],
   "source": [
    "im"
   ]
  },
  {
   "cell_type": "code",
   "execution_count": null,
   "metadata": {},
   "outputs": [],
   "source": [
    "tfm(im)"
   ]
  },
  {
   "cell_type": "code",
   "execution_count": null,
   "metadata": {},
   "outputs": [],
   "source": [
    "import os, time"
   ]
  },
  {
   "cell_type": "code",
   "execution_count": null,
   "metadata": {},
   "outputs": [],
   "source": [
    "file"
   ]
  },
  {
   "cell_type": "code",
   "execution_count": null,
   "metadata": {},
   "outputs": [],
   "source": [
    "file.find('350')"
   ]
  },
  {
   "cell_type": "code",
   "execution_count": null,
   "metadata": {
    "scrolled": false
   },
   "outputs": [],
   "source": [
    "for file in os.listdir('./data/dst/Lato/'):\n",
    "    print(file)\n",
    "    if file.find('_50') > 0 or file.find('_80') > 0:\n",
    "        print(\"========small==========\")\n",
    "        tfm = Compose([\n",
    "                RandomResizedCrop(size=256, scale=(0.01, 0.1))\n",
    "            ])\n",
    "    else:\n",
    "#         continue\n",
    "        tfm = Compose([\n",
    "                RandomResizedCrop(size=256, scale=(0.1, 0.4))\n",
    "            ])\n",
    "    for i in range(10):\n",
    "        im = Image.open(f'./data/dst/Lato/{file}')\n",
    "        time.sleep(0.2)\n",
    "        plt.imshow(tfm(im))\n",
    "        plt.show()"
   ]
  },
  {
   "cell_type": "code",
   "execution_count": null,
   "metadata": {},
   "outputs": [],
   "source": [
    "tfm(im)"
   ]
  },
  {
   "cell_type": "code",
   "execution_count": null,
   "metadata": {},
   "outputs": [],
   "source": [
    "fonts = []\n",
    "for d in os.listdir(\"./data\"):\n",
    "    if d.startswith(\".\") is False:\n",
    "        fonts.append(d)"
   ]
  },
  {
   "cell_type": "code",
   "execution_count": null,
   "metadata": {},
   "outputs": [],
   "source": [
    "fonts"
   ]
  },
  {
   "cell_type": "markdown",
   "metadata": {},
   "source": [
    "## Run image transformation for all fonts"
   ]
  },
  {
   "cell_type": "code",
   "execution_count": null,
   "metadata": {
    "scrolled": true
   },
   "outputs": [],
   "source": [
    "\n",
    "for font in fonts:\n",
    "    if font in ['train', 'valid']:\n",
    "        continue\n",
    "    crops = []\n",
    "    for f in os.listdir('./data/{}/'.format(font)):\n",
    "#         print(f)\n",
    "        if f.endswith(\"jpg\") and len(f) > 10:\n",
    "\n",
    "\n",
    "            # open file\n",
    "            with Image.open('./data/{}/{}'.format(font, f)) as im:\n",
    "                for i in range(10):\n",
    "                    crop = tfm(im)\n",
    "                    print('./data/{}/std/{}-{}'.format(font, f, i))\n",
    "                    crop.save('./data/{}/std/{}-{}.jpg'.format(font, f, i))\n",
    "                    crops.append(crop)"
   ]
  },
  {
   "cell_type": "code",
   "execution_count": null,
   "metadata": {},
   "outputs": [],
   "source": [
    "len(crops)"
   ]
  },
  {
   "cell_type": "markdown",
   "metadata": {},
   "source": [
    "## Create FastAI style dataset"
   ]
  },
  {
   "cell_type": "code",
   "execution_count": null,
   "metadata": {},
   "outputs": [],
   "source": [
    "from sklearn.cross_validation import train_test_split"
   ]
  },
  {
   "cell_type": "code",
   "execution_count": null,
   "metadata": {},
   "outputs": [],
   "source": [
    "import pandas as pd"
   ]
  },
  {
   "cell_type": "code",
   "execution_count": null,
   "metadata": {},
   "outputs": [],
   "source": [
    "import shutil"
   ]
  },
  {
   "cell_type": "code",
   "execution_count": null,
   "metadata": {},
   "outputs": [],
   "source": [
    "shutil.os.mkdir('./data/train/')\n",
    "shutil.os.mkdir('./data/valid/')\n",
    "\n",
    "for font in fonts:\n",
    "    # ignore slabo\n",
    "    if font in ['slabo', 'train', 'valid', 'models']:\n",
    "        continue\n",
    "#     crops = []\n",
    "    print(font)\n",
    "#     print('./data/{}/std/'.format(font))\n",
    "    df = pd.DataFrame(os.listdir('./data/{}/std/'.format(font)))\n",
    "    print(df.shape)\n",
    "    train, test = train_test_split(df, test_size=0.2)\n",
    "#     print(df.shape, train.shape, test.shape)\n",
    "    \n",
    "    # make train dir\n",
    "    shutil.os.mkdir(\"./data/train/{}\".format(font))\n",
    "    # copy train\n",
    "    for train_file in train[0].tolist():\n",
    "        print('./data/{}/std/{}'.format(font, train_file))\n",
    "        src = './data/{}/std/{}'.format(font, train_file)\n",
    "\n",
    "        print('./data/train/{}/{}'.format(font, train_file.split(\"/\")[-1]))\n",
    "        dst = './data/train/{}/{}'.format(font, train_file.split(\"/\")[-1])\n",
    "        \n",
    "        shutil.copy(src, dst)\n",
    "    # make test dir\n",
    "    shutil.os.mkdir(\"./data/valid/{}\".format(font))\n",
    "    # copy test\n",
    "    for test_file in test[0].tolist():\n",
    "        print('./data/{}/std/{}'.format(font, test_file))\n",
    "        src = './data/{}/std/{}'.format(font, test_file)\n",
    "\n",
    "        print('./data/valid/{}/{}'.format(font, test_file.split(\"/\")[-1]))\n",
    "        dst = './data/valid/{}/{}'.format(font, test_file.split(\"/\")[-1])    \n",
    "        shutil.copy(src, dst)"
   ]
  },
  {
   "cell_type": "code",
   "execution_count": null,
   "metadata": {},
   "outputs": [],
   "source": []
  },
  {
   "cell_type": "code",
   "execution_count": null,
   "metadata": {},
   "outputs": [],
   "source": []
  }
 ],
 "metadata": {
  "kernelspec": {
   "display_name": "Python 3",
   "language": "python",
   "name": "python3"
  },
  "language_info": {
   "codemirror_mode": {
    "name": "ipython",
    "version": 3
   },
   "file_extension": ".py",
   "mimetype": "text/x-python",
   "name": "python",
   "nbconvert_exporter": "python",
   "pygments_lexer": "ipython3",
   "version": "3.6.5"
  }
 },
 "nbformat": 4,
 "nbformat_minor": 2
}
