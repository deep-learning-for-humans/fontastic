{
 "cells": [
  {
   "cell_type": "markdown",
   "metadata": {
    "slideshow": {
     "slide_type": "slide"
    }
   },
   "source": [
    "# Deep Learning for Fonts | Fontastic\n",
    "\n",
    "- Nischal HP | @nischalhp | VP, Engineering, omni:us\n",
    "\n",
    "- Raghotham S | @raghothams | Senior Data Scientist, Ericsson Research\n",
    "\n",
    "#### Strata Data Conference 2019, London"
   ]
  },
  {
   "cell_type": "markdown",
   "metadata": {
    "slideshow": {
     "slide_type": "slide"
    }
   },
   "source": [
    "# Fontastic\n",
    "\n",
    "## Motivation\n",
    "\n",
    "<img src=\"imgs/london-bus.png\" alt=\"drawing\" width=\"600\"/>\n",
    "\n"
   ]
  },
  {
   "cell_type": "markdown",
   "metadata": {
    "slideshow": {
     "slide_type": "subslide"
    }
   },
   "source": [
    "# Fontastic\n",
    "\n",
    "### Existing Tools | What The Font\n",
    "\n",
    "<img src=\"imgs/whatthefont.png\" alt=\"drawing\" width=\"600\"/>\n"
   ]
  },
  {
   "cell_type": "markdown",
   "metadata": {
    "slideshow": {
     "slide_type": "subslide"
    }
   },
   "source": [
    "# Fontastic\n",
    "\n",
    "### Existing Tools | What Font is?\n",
    "\n",
    "<img src=\"imgs/whatfontis-1.png\" alt=\"drawing\" width=\"800\" style=\"alig:center\"/>"
   ]
  },
  {
   "cell_type": "markdown",
   "metadata": {
    "slideshow": {
     "slide_type": "subslide"
    }
   },
   "source": [
    "# Fontastic\n",
    "\n",
    "### Existing Tools | What Font is?\n",
    "\n",
    "<img src=\"imgs/whatfontis-2.png\" alt=\"drawing\" width=\"800\" style=\"alig:center\"/>"
   ]
  },
  {
   "cell_type": "markdown",
   "metadata": {
    "slideshow": {
     "slide_type": "subslide"
    }
   },
   "source": [
    "# Fontastic\n",
    "\n",
    "### Existing Tools | Matcherator\n",
    "\n",
    "<img src=\"imgs/matcherator.png\" alt=\"drawing\" width=\"800\" style=\"alig:center\"/>"
   ]
  },
  {
   "cell_type": "markdown",
   "metadata": {
    "slideshow": {
     "slide_type": "subslide"
    }
   },
   "source": [
    "\n",
    "# Fontastic\n",
    "\n",
    "## What do we aim to do?"
   ]
  },
  {
   "cell_type": "markdown",
   "metadata": {
    "slideshow": {
     "slide_type": "subslide"
    }
   },
   "source": [
    "# Deep Learning for Humans\n",
    "\n",
    "* Fontastic"
   ]
  },
  {
   "cell_type": "markdown",
   "metadata": {
    "slideshow": {
     "slide_type": "fragment"
    }
   },
   "source": [
    "\n",
    "\n",
    "* Upcoming Projects"
   ]
  },
  {
   "cell_type": "markdown",
   "metadata": {
    "slideshow": {
     "slide_type": "slide"
    }
   },
   "source": [
    "# Fontastic\n",
    "\n",
    "## Agenda\n",
    "\n",
    "* Why did we start?\n",
    "* Data acquisition\n",
    "* Model building\n",
    "* Feature visualization"
   ]
  },
  {
   "cell_type": "markdown",
   "metadata": {
    "slideshow": {
     "slide_type": "slide"
    }
   },
   "source": [
    "# Fontastic\n",
    "\n",
    "## Data Acquisition"
   ]
  },
  {
   "cell_type": "markdown",
   "metadata": {
    "slideshow": {
     "slide_type": "subslide"
    }
   },
   "source": [
    "## Data Acquisition\n",
    "\n",
    "### Pass 1: Scrape Font Squirel - https://www.fontsquirrel.com/\n",
    "\n",
    "<img src=\"imgs/fontsquirrel.png\" alt=\"drawing\" width=\"800\" style=\"alig:center\"/>"
   ]
  },
  {
   "cell_type": "markdown",
   "metadata": {
    "slideshow": {
     "slide_type": "subslide"
    }
   },
   "source": [
    "\n",
    "**Problems**\n",
    "\n",
    "1. We have images of different dimensions\n",
    "2. Even with normalizing the size, we will end up with 5-10 images per style\n"
   ]
  },
  {
   "cell_type": "markdown",
   "metadata": {
    "slideshow": {
     "slide_type": "subslide"
    }
   },
   "source": [
    "## Data Acquisition\n",
    "\n",
    "### Pass 2: Scrape DaFont - https://www.dafont.com/\n",
    "\n",
    "<img src=\"imgs/dafont.png\" alt=\"drawing\" width=\"800\" style=\"alig:center\"/>\n"
   ]
  },
  {
   "cell_type": "markdown",
   "metadata": {
    "slideshow": {
     "slide_type": "subslide"
    }
   },
   "source": [
    "\n",
    "**Problems**\n",
    "\n",
    "1. Old school fonts only, not updated frequently\n",
    "2. Supports only wide dimension, might not work well with inteded end use\n",
    "\n"
   ]
  },
  {
   "cell_type": "markdown",
   "metadata": {
    "slideshow": {
     "slide_type": "subslide"
    }
   },
   "source": [
    "## Data Acquisition\n",
    "\n",
    "### Pass 3: Generate Image using PIL\n",
    "\n",
    "#### Steps\n",
    "\n",
    "1. Create 4 set of random texts\n",
    "2. Generate 4k resolution image using the TTF for every random text\n",
    "3. Take 10 random crop of size 256x256 px from the 4k image\n",
    "\n",
    "With this we have the ability to generate large number of training images \n"
   ]
  },
  {
   "cell_type": "markdown",
   "metadata": {
    "slideshow": {
     "slide_type": "subslide"
    }
   },
   "source": [
    "## Data Acquisition\n",
    "\n",
    "### Pass 3: Generate Image using PIL\n",
    "\n",
    "#### Advantages\n",
    "\n",
    "1. We control the input text\n",
    "2. We control the font style and size\n",
    "3. We control the output image dinemsion\n"
   ]
  },
  {
   "cell_type": "raw",
   "metadata": {},
   "source": [
    "<img src=\"imgs/dafont.png\" alt=\"drawing\" width=\"800\" style=\"alig:center\"/>\n"
   ]
  },
  {
   "cell_type": "markdown",
   "metadata": {
    "slideshow": {
     "slide_type": "subslide"
    }
   },
   "source": [
    "## Data Acquisition\n",
    "\n",
    "### Pass 3: Generate Image using PIL\n",
    "\n",
    "\n",
    "<img src=\"imgs/pil-generated.jpg\" alt=\"drawing\" width=\"800\" style=\"alig:center\"/>\n"
   ]
  },
  {
   "cell_type": "markdown",
   "metadata": {
    "slideshow": {
     "slide_type": "subslide"
    }
   },
   "source": [
    "## Data Acquisition\n",
    "\n",
    "### Pass 3: Generate Image using PIL + Random Crop\n",
    "\n",
    "\n",
    "<img src=\"imgs/pil-rand-crop.jpg\" alt=\"drawing\" width=\"800\" style=\"alig:center\"/>\n"
   ]
  },
  {
   "cell_type": "markdown",
   "metadata": {
    "slideshow": {
     "slide_type": "subslide"
    }
   },
   "source": [
    "## Data Acquisition\n",
    "\n",
    "### Pass 3: Generate Image using PIL + Random Crop\n",
    "\n",
    "\n",
    "<img src=\"imgs/pil-rand-crop-all.png\" alt=\"drawing\" width=\"800\" style=\"alig:center\"/>\n"
   ]
  },
  {
   "cell_type": "markdown",
   "metadata": {
    "slideshow": {
     "slide_type": "slide"
    }
   },
   "source": [
    "# Fontastic\n",
    "\n",
    "## Model Building"
   ]
  },
  {
   "cell_type": "markdown",
   "metadata": {
    "slideshow": {
     "slide_type": "subslide"
    }
   },
   "source": [
    "## Model Building\n",
    "### Phase I | Feasibility Check - FastAI"
   ]
  },
  {
   "cell_type": "code",
   "execution_count": 30,
   "metadata": {
    "slideshow": {
     "slide_type": "fragment"
    }
   },
   "outputs": [
    {
     "data": {
      "application/vnd.jupyter.widget-view+json": {
       "model_id": "160cc4dc28c9479dba6d59e14065d736",
       "version_major": 2,
       "version_minor": 0
      },
      "text/plain": [
       "HBox(children=(IntProgress(value=0, description='Epoch', max=6), HTML(value='')))"
      ]
     },
     "metadata": {},
     "output_type": "display_data"
    },
    {
     "name": "stdout",
     "output_type": "stream",
     "text": [
      "[0.      1.05857 0.88758 0.6628 ]                           \n",
      "[1.      0.69731 0.59468 0.77709]                            \n",
      "[2.      0.51771 0.45974 0.84326]                            \n",
      "[3.      0.4064  0.35457 0.86119]                            \n",
      "[4.      0.34457 0.32807 0.87547]                            \n",
      "[5.      0.26355 0.24554 0.91429]                            \n",
      "\n"
     ]
    }
   ],
   "source": [
    "PATH = \"data/\"\n",
    "sz=225\n",
    "arch=resnet50\n",
    "bs=28\n",
    "\n",
    "tfms = tfms_from_model(arch, sz, aug_tfms=transforms_side_on, max_zoom=1.1)\n",
    "data = ImageClassifierData.from_paths(PATH, tfms=tfms, bs=bs, num_workers=4)\n",
    "learn = ConvLearner.pretrained(arch, data, precompute=True, ps=0.5)\n",
    "\n",
    "learn.unfreeze()\n",
    "lr=np.array([1e-4,1e-3,1e-2])\n",
    "\n",
    "learn.fit(lr, 6, cycle_len=1)"
   ]
  },
  {
   "cell_type": "markdown",
   "metadata": {
    "slideshow": {
     "slide_type": "subslide"
    }
   },
   "source": [
    "## Model Building - Feasibility Check - FastAI"
   ]
  },
  {
   "cell_type": "code",
   "execution_count": 42,
   "metadata": {
    "slideshow": {
     "slide_type": "fragment"
    }
   },
   "outputs": [
    {
     "name": "stdout",
     "output_type": "stream",
     "text": [
      "[[200   0   3   3   0   3   7]\n",
      " [  0  94   0   0   0   0   2]\n",
      " [  3   0 423   1   0   5   0]\n",
      " [  4   0   0 105   0   0  11]\n",
      " [  0   0   0   0 179   0   1]\n",
      " [  3   0  18   0   0 195   0]\n",
      " [  3   0   0   3   2   2 206]]\n"
     ]
    },
    {
     "data": {
      "image/png": "[encoded data removed]",
      "text/plain": [
       "<Figure size 432x288 with 2 Axes>"
      ]
     },
     "metadata": {},
     "output_type": "display_data"
    }
   ],
   "source": [
    "cm = confusion_matrix(y, preds)\n",
    "\n",
    "plot_confusion_matrix(cm, data.classes)"
   ]
  },
  {
   "cell_type": "markdown",
   "metadata": {
    "slideshow": {
     "slide_type": "subslide"
    }
   },
   "source": [
    "## Model Building - 70 Fonts - PyTorch\n",
    "\n"
   ]
  },
  {
   "cell_type": "markdown",
   "metadata": {
    "slideshow": {
     "slide_type": "fragment"
    }
   },
   "source": [
    "### Why PyTorch?"
   ]
  },
  {
   "cell_type": "markdown",
   "metadata": {
    "slideshow": {
     "slide_type": "fragment"
    }
   },
   "source": [
    "* Easy to customize\n",
    "* Flexible to integrate with other visualization projects"
   ]
  },
  {
   "cell_type": "markdown",
   "metadata": {
    "slideshow": {
     "slide_type": "subslide"
    }
   },
   "source": [
    "## Model Building - 70 Fonts - PyTorch\n",
    "\n"
   ]
  },
  {
   "cell_type": "markdown",
   "metadata": {
    "slideshow": {
     "slide_type": "fragment"
    }
   },
   "source": [
    "### Pretrained Model ResNet50"
   ]
  },
  {
   "cell_type": "markdown",
   "metadata": {
    "slideshow": {
     "slide_type": "fragment"
    }
   },
   "source": [
    "What is pretrained model? What is transfer learning?"
   ]
  },
  {
   "cell_type": "markdown",
   "metadata": {
    "slideshow": {
     "slide_type": "fragment"
    }
   },
   "source": [
    "<img src=\"imgs/transfer-learning.png\" alt=\"drawing\" width=\"800\" style=\"alig:center\"/>\n",
    "<sub>Image Courtsey - https://medium.com/kansas-city-machine-learning-artificial-intelligen/an-introduction-to-transfer-learning-in-machine-learning-7efd104b6026</sub>"
   ]
  },
  {
   "cell_type": "markdown",
   "metadata": {
    "slideshow": {
     "slide_type": "subslide"
    }
   },
   "source": [
    "## Model Building - 70 Fonts - PyTorch\n",
    "\n",
    "\n",
    "\n",
    "### Hyper Parameter Tuning\n"
   ]
  },
  {
   "cell_type": "markdown",
   "metadata": {
    "slideshow": {
     "slide_type": "fragment"
    }
   },
   "source": [
    "\n",
    "1. Learning Rate"
   ]
  },
  {
   "cell_type": "code",
   "execution_count": 23,
   "metadata": {
    "slideshow": {
     "slide_type": "fragment"
    }
   },
   "outputs": [
    {
     "data": {
      "image/png": "[encoded data removed]",
      "text/plain": [
       "<Figure size 432x288 with 1 Axes>"
      ]
     },
     "metadata": {
      "needs_background": "light"
     },
     "output_type": "display_data"
    }
   ],
   "source": [
    "lrf.plot()"
   ]
  },
  {
   "cell_type": "markdown",
   "metadata": {
    "slideshow": {
     "slide_type": "subslide"
    }
   },
   "source": [
    "## Model Building - 70 Fonts - PyTorch\n",
    "\n",
    "\n",
    "\n",
    "### Hyper Parameter Tuning"
   ]
  },
  {
   "cell_type": "markdown",
   "metadata": {
    "slideshow": {
     "slide_type": "fragment"
    }
   },
   "source": [
    "\n",
    "2. Learning Rate Scheduler"
   ]
  },
  {
   "cell_type": "code",
   "execution_count": null,
   "metadata": {
    "slideshow": {
     "slide_type": "fragment"
    }
   },
   "outputs": [],
   "source": [
    "# Get Pretrained Model\n",
    "model_ft = models.resnet50(pretrained=True)\n",
    "\n",
    "# Customize FC Layer\n",
    "num_frts = model_ft.fc.in_features\n",
    "model_ft.fc = nn.Linear(num_frts, len(class_names))\n",
    "\n",
    "model_ft = model_ft.to(device)\n",
    "criterion = nn.CrossEntropyLoss()\n",
    "\n",
    "# Define optimizer & LR Scheduler\n",
    "optimizer_ft = optim.SGD(model_ft.parameters(), lr=0.01, momentum=0.9)\n",
    "exp_lr_scheduler = lr_scheduler.StepLR(optimizer_ft, step_size=7, gamma=0.1)"
   ]
  },
  {
   "cell_type": "markdown",
   "metadata": {
    "slideshow": {
     "slide_type": "subslide"
    }
   },
   "source": [
    "## Model Building - 70 Fonts - PyTorch\n",
    "\n",
    "\n",
    "\n",
    "### Result - without LR finder & scheduler"
   ]
  },
  {
   "cell_type": "markdown",
   "metadata": {
    "slideshow": {
     "slide_type": "fragment"
    }
   },
   "source": [
    "**0.74 f1-score after 40 epochs**"
   ]
  },
  {
   "cell_type": "markdown",
   "metadata": {
    "slideshow": {
     "slide_type": "subslide"
    }
   },
   "source": [
    "## Model Building - 70 Fonts - PyTorch\n",
    "\n",
    "\n",
    "\n",
    "### Result - with LR finder & scheduler"
   ]
  },
  {
   "cell_type": "markdown",
   "metadata": {
    "slideshow": {
     "slide_type": "fragment"
    }
   },
   "source": [
    "**0.96 f1-score after 40 epochs**"
   ]
  },
  {
   "cell_type": "markdown",
   "metadata": {
    "slideshow": {
     "slide_type": "slide"
    }
   },
   "source": [
    "# Fontastic\n",
    "\n",
    "## Feature Visualization \n",
    "\n",
    " Mechanism to *See through the eyes of network*"
   ]
  },
  {
   "cell_type": "markdown",
   "metadata": {
    "slideshow": {
     "slide_type": "subslide"
    }
   },
   "source": [
    "## Feature Visualization \n",
    "\n",
    "### Gradcam Analysis"
   ]
  },
  {
   "cell_type": "code",
   "execution_count": 23,
   "metadata": {
    "slideshow": {
     "slide_type": "fragment"
    }
   },
   "outputs": [],
   "source": [
    "import pickle\n",
    "from ipywidgets import interact, interactive, fixed, interact_manual\n",
    "import ipywidgets as widgets\n",
    "import matplotlib.pyplot as plt\n",
    "\n",
    "\n",
    "with open('./fd727d3f-73f4-4ec6-8e89-3e15fd3801b0resnet50_grad_cam', 'rb') as f:\n",
    "    data = pickle.load(f)\n",
    "\n",
    "def show_cam(epoch_slider, image_slider, layer_slider):\n",
    "    plt.imshow(data[epoch_slider][image_slider][layer_slider])\n",
    "\n"
   ]
  },
  {
   "cell_type": "markdown",
   "metadata": {
    "slideshow": {
     "slide_type": "subslide"
    }
   },
   "source": [
    "## Feature Visualization \n",
    "\n",
    "### Gradcam Analysis"
   ]
  },
  {
   "cell_type": "code",
   "execution_count": 24,
   "metadata": {
    "slideshow": {
     "slide_type": "fragment"
    }
   },
   "outputs": [
    {
     "data": {
      "application/vnd.jupyter.widget-view+json": {
       "model_id": "80b81aa30d494d398788a06ef8735050",
       "version_major": 2,
       "version_minor": 0
      },
      "text/plain": [
       "interactive(children=(IntSlider(value=0, description='epoch_slider', max=19), IntSlider(value=0, description='…"
      ]
     },
     "metadata": {},
     "output_type": "display_data"
    },
    {
     "data": {
      "text/plain": [
       "<function __main__.show_cam(epoch_slider, image_slider, layer_slider)>"
      ]
     },
     "execution_count": 24,
     "metadata": {},
     "output_type": "execute_result"
    }
   ],
   "source": [
    "interact(show_cam, epoch_slider=widgets.IntSlider(min=0, max=len(data)-1, step=1, value=0),\n",
    "                   image_slider=widgets.IntSlider(min=0, max=len(data[0])-1, step=1, value=0),\n",
    "                   layer_slider=widgets.IntSlider(min=0, max=len(data[0][0])-1, step=1, value=0))"
   ]
  },
  {
   "cell_type": "markdown",
   "metadata": {
    "slideshow": {
     "slide_type": "subslide"
    }
   },
   "source": [
    "## Feature Visualization \n",
    "\n",
    "### Activation Atlas\n",
    "\n",
    "Activation Atlases not only reveal visual abstractions within a model, but they can reveal high-level misunderstandings in a model that can be exploited. For example, by looking at an activation atlas we will be able to see why a picture of a baseball can switch the classification of an image from “grey whale” to “great white shark”.\n"
   ]
  },
  {
   "cell_type": "markdown",
   "metadata": {
    "slideshow": {
     "slide_type": "subslide"
    }
   },
   "source": [
    "## Feature Visualization \n",
    "\n",
    "### Activation Atlas - https://distill.pub/2019/activation-atlas/\n",
    "\n",
    "<img src=\"imgs/activation-atlas.png\" alt=\"drawing\" width=\"800\" style=\"alig:center\"/>\n"
   ]
  },
  {
   "cell_type": "markdown",
   "metadata": {
    "slideshow": {
     "slide_type": "slide"
    }
   },
   "source": [
    "# Extra\n",
    "## Remote Work"
   ]
  },
  {
   "cell_type": "markdown",
   "metadata": {
    "slideshow": {
     "slide_type": "subslide"
    }
   },
   "source": [
    "\n",
    "## Open Source\n",
    "\n",
    "### https://github.com/deep-learning-for-humans/fontastic"
   ]
  },
  {
   "cell_type": "markdown",
   "metadata": {
    "slideshow": {
     "slide_type": "slide"
    }
   },
   "source": [
    "# Fin.\n",
    "\n",
    "* @nischalhp \n",
    "* @raghothams\n",
    "\n",
    "https://github.com/deep-learning-for-humans/fontastic\n"
   ]
  }
 ],
 "metadata": {
  "celltoolbar": "Slideshow",
  "kernelspec": {
   "display_name": "Python 3",
   "language": "python",
   "name": "python3"
  },
  "language_info": {
   "codemirror_mode": {
    "name": "ipython",
    "version": 3
   },
   "file_extension": ".py",
   "mimetype": "text/x-python",
   "name": "python",
   "nbconvert_exporter": "python",
   "pygments_lexer": "ipython3",
   "version": "3.6.8"
  },
  "livereveal": {
   "font-family": "Lato",
   "footer": "Strata Data Conference 2019 | @nischalhp | @raghothams ",
   "scroll": true,
   "theme": "sky",
   "transition": "none"
  }
 },
 "nbformat": 4,
 "nbformat_minor": 2
}
