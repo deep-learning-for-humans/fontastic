{
 "cells": [
  {
   "cell_type": "markdown",
   "metadata": {
    "slideshow": {
     "slide_type": "slide"
    }
   },
   "source": [
    "# Deep Learning for Fonts | Fontastic\n",
    "\n",
    "- Nischal HP | @nischalhp | VP, Engineering, omni:us\n",
    "\n",
    "- Raghotham S | @raghothams | Senior Data Scientist, Ericsson Research\n",
    "\n",
    "#### Strata Data Conference 2019, London"
   ]
  },
  {
   "cell_type": "markdown",
   "metadata": {
    "slideshow": {
     "slide_type": "slide"
    }
   },
   "source": [
    "# Fontastic\n",
    "\n",
    "## Motivation\n",
    "\n",
    "<img src=\"imgs/london-bus.jpeg\" alt=\"drawing\" width=\"600\"/>\n",
    "\n"
   ]
  },
  {
   "cell_type": "markdown",
   "metadata": {
    "slideshow": {
     "slide_type": "subslide"
    }
   },
   "source": [
    "# Fontastic\n",
    "\n",
    "### Existing Tools | What The Font\n",
    "\n",
    "<img src=\"imgs/whatthefont.png\" alt=\"drawing\" width=\"600\"/>\n"
   ]
  },
  {
   "cell_type": "markdown",
   "metadata": {
    "slideshow": {
     "slide_type": "subslide"
    }
   },
   "source": [
    "# Fontastic\n",
    "\n",
    "### Existing Tools | What Font is?\n",
    "\n",
    "<img src=\"imgs/whatfontis-1.png\" alt=\"drawing\" width=\"800\" style=\"alig:center\"/>"
   ]
  },
  {
   "cell_type": "markdown",
   "metadata": {
    "slideshow": {
     "slide_type": "subslide"
    }
   },
   "source": [
    "# Fontastic\n",
    "\n",
    "### Existing Tools | What Font is?\n",
    "\n",
    "<img src=\"imgs/whatfontis-2.png\" alt=\"drawing\" width=\"800\" style=\"alig:center\"/>"
   ]
  },
  {
   "cell_type": "markdown",
   "metadata": {
    "slideshow": {
     "slide_type": "subslide"
    }
   },
   "source": [
    "# Fontastic\n",
    "\n",
    "### Existing Tools | Matcherator\n",
    "\n",
    "<img src=\"imgs/matcherator.png\" alt=\"drawing\" width=\"800\" style=\"alig:center\"/>"
   ]
  },
  {
   "cell_type": "markdown",
   "metadata": {
    "slideshow": {
     "slide_type": "subslide"
    }
   },
   "source": [
    "\n",
    "# Fontastic\n",
    "\n",
    "## What do we aim to do?"
   ]
  },
  {
   "cell_type": "markdown",
   "metadata": {
    "slideshow": {
     "slide_type": "subslide"
    }
   },
   "source": [
    "# Deep Learning for Humans\n",
    "\n",
    "* Fontastic"
   ]
  },
  {
   "cell_type": "markdown",
   "metadata": {
    "slideshow": {
     "slide_type": "fragment"
    }
   },
   "source": [
    "\n",
    "\n",
    "* Upcoming Projects"
   ]
  },
  {
   "cell_type": "markdown",
   "metadata": {
    "slideshow": {
     "slide_type": "slide"
    }
   },
   "source": [
    "# Fontastic\n",
    "\n",
    "## Agenda\n",
    "\n",
    "* Why did we start?\n",
    "* Data acquisition\n",
    "* Model building\n",
    "* Feature visualization"
   ]
  },
  {
   "cell_type": "markdown",
   "metadata": {
    "slideshow": {
     "slide_type": "slide"
    }
   },
   "source": [
    "# Fontastic\n",
    "\n",
    "## Data Acquisition"
   ]
  },
  {
   "cell_type": "markdown",
   "metadata": {
    "slideshow": {
     "slide_type": "subslide"
    }
   },
   "source": [
    "## Data Acquisition\n",
    "\n",
    "### Pass 1: Scrape Font Squirel - https://www.fontsquirrel.com/\n",
    "\n",
    "<img src=\"imgs/fontsquirrel.png\" alt=\"drawing\" width=\"800\" style=\"alig:center\"/>"
   ]
  },
  {
   "cell_type": "markdown",
   "metadata": {
    "slideshow": {
     "slide_type": "subslide"
    }
   },
   "source": [
    "\n",
    "**Problems**\n",
    "\n",
    "1. We have images of different dimensions\n",
    "2. Even with normalizing the size, we will end up with 5-10 images per style\n"
   ]
  },
  {
   "cell_type": "markdown",
   "metadata": {
    "slideshow": {
     "slide_type": "subslide"
    }
   },
   "source": [
    "## Data Acquisition\n",
    "\n",
    "### Pass 2: Scrape DaFont - https://www.dafont.com/\n",
    "\n",
    "<img src=\"imgs/dafont.png\" alt=\"drawing\" width=\"800\" style=\"alig:center\"/>\n"
   ]
  },
  {
   "cell_type": "markdown",
   "metadata": {
    "slideshow": {
     "slide_type": "subslide"
    }
   },
   "source": [
    "\n",
    "**Problems**\n",
    "\n",
    "1. Old school fonts only, not updated frequently\n",
    "2. Supports only wide dimension, might not work well with inteded end use\n",
    "\n"
   ]
  },
  {
   "cell_type": "markdown",
   "metadata": {
    "slideshow": {
     "slide_type": "subslide"
    }
   },
   "source": [
    "## Data Acquisition\n",
    "\n",
    "### Pass 3: Generate Image using PIL\n",
    "\n",
    "#### Steps\n",
    "\n",
    "1. Create 4 set of random texts\n",
    "2. Generate 4k resolution image of text using the TTF for every random text\n",
    "3. Take 10 random crop of size 256x256 px from the 4k image\n",
    "\n",
    "With this we have the ability to generate large number of training images \n"
   ]
  },
  {
   "cell_type": "markdown",
   "metadata": {
    "slideshow": {
     "slide_type": "subslide"
    }
   },
   "source": [
    "## Data Acquisition\n",
    "\n",
    "### Pass 3: Generate Image using PIL\n",
    "\n",
    "#### Advantages\n",
    "\n",
    "1. We control the input text\n",
    "2. We control the font style and size\n",
    "3. We control the output image dinemsion\n"
   ]
  },
  {
   "cell_type": "raw",
   "metadata": {},
   "source": [
    "<img src=\"imgs/dafont.png\" alt=\"drawing\" width=\"800\" style=\"alig:center\"/>\n"
   ]
  },
  {
   "cell_type": "markdown",
   "metadata": {
    "slideshow": {
     "slide_type": "subslide"
    }
   },
   "source": [
    "## Data Acquisition\n",
    "\n",
    "### Pass 3: Generate Image using PIL\n",
    "\n",
    "\n",
    "<img src=\"imgs/pil-generated.jpg\" alt=\"drawing\" width=\"800\" style=\"alig:center\"/>\n"
   ]
  },
  {
   "cell_type": "markdown",
   "metadata": {
    "slideshow": {
     "slide_type": "subslide"
    }
   },
   "source": [
    "## Data Acquisition\n",
    "\n",
    "### Pass 3: Generate Image using PIL + Random Crop\n",
    "\n",
    "\n",
    "<img src=\"imgs/pil-rand-crop.png\" alt=\"drawing\" width=\"800\" style=\"alig:center\"/>\n"
   ]
  },
  {
   "cell_type": "markdown",
   "metadata": {
    "slideshow": {
     "slide_type": "subslide"
    }
   },
   "source": [
    "## Data Acquisition\n",
    "\n",
    "### Pass 3: Generate Image using PIL + Random Crop\n",
    "\n",
    "\n",
    "<img src=\"imgs/pil-rand-crop.png\" alt=\"drawing\" width=\"800\" style=\"alig:center\"/>\n"
   ]
  },
  {
   "cell_type": "markdown",
   "metadata": {
    "slideshow": {
     "slide_type": "slide"
    }
   },
   "source": [
    "# Fontastic\n",
    "\n",
    "## Model Building"
   ]
  },
  {
   "cell_type": "markdown",
   "metadata": {
    "slideshow": {
     "slide_type": "fragment"
    }
   },
   "source": [
    "## Feasibility Check - FastAI"
   ]
  },
  {
   "cell_type": "markdown",
   "metadata": {
    "slideshow": {
     "slide_type": "subslide"
    }
   },
   "source": [
    "## Model Building\n",
    "\n",
    "### Pretrained ResNet50\n",
    "\n"
   ]
  },
  {
   "cell_type": "code",
   "execution_count": 23,
   "metadata": {
    "slideshow": {
     "slide_type": "fragment"
    }
   },
   "outputs": [
    {
     "data": {
      "image/png": "[encoded data removed]",
      "text/plain": [
       "<Figure size 432x288 with 1 Axes>"
      ]
     },
     "metadata": {
      "needs_background": "light"
     },
     "output_type": "display_data"
    }
   ],
   "source": [
    "lrf.plot()"
   ]
  },
  {
   "cell_type": "code",
   "execution_count": 27,
   "metadata": {
    "scrolled": false,
    "slideshow": {
     "slide_type": "fragment"
    }
   },
   "outputs": [
    {
     "name": "stdout",
     "output_type": "stream",
     "text": [
      "Epoch 0/39\n",
      "----------\n",
      "train Loss: 1.4014 Acc:0.4685\n",
      "\n",
      "test Loss: 1.1405 Acc:0.5600\n",
      "\n",
      "Epoch 1/39\n",
      "----------\n",
      "train Loss: 0.9521 Acc:0.6126\n",
      "\n",
      "test Loss: 433.0719 Acc:0.3960\n",
      "\n",
      "Epoch 2/39\n",
      "----------\n",
      "train Loss: 0.9702 Acc:0.6076\n",
      "\n",
      "test Loss: 0.9965 Acc:0.6120\n",
      "\n",
      "Epoch 3/39\n",
      "----------\n",
      "train Loss: 0.6786 Acc:0.7287\n",
      "\n",
      "test Loss: 2.2418 Acc:0.3600\n",
      "\n",
      "Epoch 4/39\n",
      "----------\n",
      "train Loss: 0.6702 Acc:0.7377\n",
      "\n",
      "test Loss: 1.0157 Acc:0.5920\n",
      "\n",
      "Epoch 5/39\n",
      "----------\n",
      "train Loss: 0.4778 Acc:0.8228\n",
      "\n",
      "test Loss: 3.1915 Acc:0.1920\n",
      "\n",
      "Epoch 6/39\n",
      "----------\n",
      "train Loss: 0.4408 Acc:0.8338\n",
      "\n",
      "test Loss: 1.0038 Acc:0.4880\n",
      "\n",
      "Epoch 7/39\n",
      "----------\n",
      "train Loss: 0.3621 Acc:0.8709\n",
      "\n",
      "test Loss: 1.0677 Acc:0.5240\n",
      "\n",
      "Epoch 8/39\n",
      "----------\n",
      "train Loss: 0.4261 Acc:0.8619\n",
      "\n",
      "test Loss: 0.8439 Acc:0.7800\n",
      "\n",
      "Epoch 9/39\n",
      "----------\n",
      "train Loss: 0.3863 Acc:0.8659\n",
      "\n",
      "test Loss: 0.9458 Acc:0.5920\n",
      "\n",
      "Epoch 10/39\n",
      "----------\n",
      "train Loss: 0.3277 Acc:0.8809\n",
      "\n",
      "test Loss: 1.5174 Acc:0.4440\n",
      "\n",
      "Epoch 11/39\n",
      "----------\n",
      "train Loss: 0.4954 Acc:0.8148\n",
      "\n",
      "test Loss: 1.3809 Acc:0.4280\n",
      "\n",
      "Epoch 12/39\n",
      "----------\n",
      "train Loss: 0.3506 Acc:0.8939\n",
      "\n",
      "test Loss: 2.2849 Acc:0.4160\n",
      "\n",
      "Epoch 13/39\n",
      "----------\n",
      "train Loss: 0.3960 Acc:0.8629\n",
      "\n",
      "test Loss: 1.7379 Acc:0.4560\n",
      "\n",
      "Epoch 14/39\n",
      "----------\n",
      "train Loss: 0.3552 Acc:0.8679\n",
      "\n",
      "test Loss: 0.8217 Acc:0.7120\n",
      "\n",
      "Epoch 15/39\n",
      "----------\n",
      "train Loss: 0.3041 Acc:0.8869\n",
      "\n",
      "test Loss: 1.3474 Acc:0.4600\n",
      "\n",
      "Epoch 16/39\n",
      "----------\n",
      "train Loss: 0.4684 Acc:0.8308\n",
      "\n",
      "test Loss: 1.9084 Acc:0.3760\n",
      "\n",
      "Epoch 17/39\n",
      "----------\n",
      "train Loss: 0.3080 Acc:0.8909\n",
      "\n",
      "test Loss: 0.6143 Acc:0.7760\n",
      "\n",
      "Epoch 18/39\n",
      "----------\n",
      "train Loss: 0.2125 Acc:0.9279\n",
      "\n",
      "test Loss: 0.9606 Acc:0.6200\n",
      "\n",
      "Epoch 19/39\n",
      "----------\n",
      "train Loss: 0.2412 Acc:0.9189\n",
      "\n",
      "test Loss: 1.3464 Acc:0.7400\n",
      "\n",
      "Epoch 20/39\n",
      "----------\n",
      "train Loss: 0.2607 Acc:0.9109\n",
      "\n",
      "test Loss: 0.7916 Acc:0.7040\n",
      "\n",
      "Epoch 21/39\n",
      "----------\n"
     ]
    },
    {
     "ename": "KeyboardInterrupt",
     "evalue": "",
     "output_type": "error",
     "traceback": [
      "\u001b[0;31m---------------------------------------------------------------------------\u001b[0m",
      "\u001b[0;31mKeyboardInterrupt\u001b[0m                         Traceback (most recent call last)",
      "\u001b[0;32m<ipython-input-27-503f2484deed>\u001b[0m in \u001b[0;36m<module>\u001b[0;34m\u001b[0m\n\u001b[0;32m----> 1\u001b[0;31m \u001b[0mmodel_ft\u001b[0m \u001b[0;34m=\u001b[0m \u001b[0mtrain_model\u001b[0m\u001b[0;34m(\u001b[0m\u001b[0mmodel_ft\u001b[0m\u001b[0;34m,\u001b[0m \u001b[0mcriterion\u001b[0m\u001b[0;34m,\u001b[0m \u001b[0moptimizer_ft\u001b[0m\u001b[0;34m,\u001b[0m \u001b[0mnum_epochs\u001b[0m\u001b[0;34m=\u001b[0m\u001b[0;36m40\u001b[0m\u001b[0;34m)\u001b[0m\u001b[0;34m\u001b[0m\u001b[0;34m\u001b[0m\u001b[0m\n\u001b[0m",
      "\u001b[0;32m<ipython-input-18-c6a12a092e07>\u001b[0m in \u001b[0;36mtrain_model\u001b[0;34m(model, criterion, optimizer, num_epochs)\u001b[0m\n\u001b[1;32m     34\u001b[0m                     \u001b[0;32mif\u001b[0m \u001b[0mphase\u001b[0m \u001b[0;34m==\u001b[0m \u001b[0;34m'train'\u001b[0m\u001b[0;34m:\u001b[0m\u001b[0;34m\u001b[0m\u001b[0;34m\u001b[0m\u001b[0m\n\u001b[1;32m     35\u001b[0m                         \u001b[0mloss\u001b[0m\u001b[0;34m.\u001b[0m\u001b[0mbackward\u001b[0m\u001b[0;34m(\u001b[0m\u001b[0;34m)\u001b[0m\u001b[0;34m\u001b[0m\u001b[0;34m\u001b[0m\u001b[0m\n\u001b[0;32m---> 36\u001b[0;31m                         \u001b[0moptimizer\u001b[0m\u001b[0;34m.\u001b[0m\u001b[0mstep\u001b[0m\u001b[0;34m(\u001b[0m\u001b[0;34m)\u001b[0m\u001b[0;34m\u001b[0m\u001b[0;34m\u001b[0m\u001b[0m\n\u001b[0m\u001b[1;32m     37\u001b[0m \u001b[0;34m\u001b[0m\u001b[0m\n\u001b[1;32m     38\u001b[0m                 \u001b[0mrunning_loss\u001b[0m \u001b[0;34m+=\u001b[0m \u001b[0mloss\u001b[0m\u001b[0;34m.\u001b[0m\u001b[0mitem\u001b[0m\u001b[0;34m(\u001b[0m\u001b[0;34m)\u001b[0m \u001b[0;34m*\u001b[0m \u001b[0minputs\u001b[0m\u001b[0;34m.\u001b[0m\u001b[0msize\u001b[0m\u001b[0;34m(\u001b[0m\u001b[0;36m0\u001b[0m\u001b[0;34m)\u001b[0m\u001b[0;34m\u001b[0m\u001b[0;34m\u001b[0m\u001b[0m\n",
      "\u001b[0;32m~/anaconda3/envs/fontastic/lib/python3.7/site-packages/torch/optim/adam.py\u001b[0m in \u001b[0;36mstep\u001b[0;34m(self, closure)\u001b[0m\n\u001b[1;32m    105\u001b[0m                 \u001b[0mstep_size\u001b[0m \u001b[0;34m=\u001b[0m \u001b[0mgroup\u001b[0m\u001b[0;34m[\u001b[0m\u001b[0;34m'lr'\u001b[0m\u001b[0;34m]\u001b[0m \u001b[0;34m*\u001b[0m \u001b[0mmath\u001b[0m\u001b[0;34m.\u001b[0m\u001b[0msqrt\u001b[0m\u001b[0;34m(\u001b[0m\u001b[0mbias_correction2\u001b[0m\u001b[0;34m)\u001b[0m \u001b[0;34m/\u001b[0m \u001b[0mbias_correction1\u001b[0m\u001b[0;34m\u001b[0m\u001b[0;34m\u001b[0m\u001b[0m\n\u001b[1;32m    106\u001b[0m \u001b[0;34m\u001b[0m\u001b[0m\n\u001b[0;32m--> 107\u001b[0;31m                 \u001b[0mp\u001b[0m\u001b[0;34m.\u001b[0m\u001b[0mdata\u001b[0m\u001b[0;34m.\u001b[0m\u001b[0maddcdiv_\u001b[0m\u001b[0;34m(\u001b[0m\u001b[0;34m-\u001b[0m\u001b[0mstep_size\u001b[0m\u001b[0;34m,\u001b[0m \u001b[0mexp_avg\u001b[0m\u001b[0;34m,\u001b[0m \u001b[0mdenom\u001b[0m\u001b[0;34m)\u001b[0m\u001b[0;34m\u001b[0m\u001b[0;34m\u001b[0m\u001b[0m\n\u001b[0m\u001b[1;32m    108\u001b[0m \u001b[0;34m\u001b[0m\u001b[0m\n\u001b[1;32m    109\u001b[0m         \u001b[0;32mreturn\u001b[0m \u001b[0mloss\u001b[0m\u001b[0;34m\u001b[0m\u001b[0;34m\u001b[0m\u001b[0m\n",
      "\u001b[0;31mKeyboardInterrupt\u001b[0m: "
     ]
    }
   ],
   "source": [
    "model_ft = train_model(model_ft, criterion, optimizer_ft, num_epochs=40)"
   ]
  },
  {
   "cell_type": "raw",
   "metadata": {
    "slideshow": {
     "slide_type": "notes"
    }
   },
   "source": [
    "# Add cells from notebook here\n",
    "\n",
    "1. explain freeze & unfreeze layers\n",
    "2. LR finder"
   ]
  },
  {
   "cell_type": "markdown",
   "metadata": {
    "slideshow": {
     "slide_type": "slide"
    }
   },
   "source": [
    "# Fontastic\n",
    "\n",
    "## Feature Visualization "
   ]
  },
  {
   "cell_type": "markdown",
   "metadata": {
    "slideshow": {
     "slide_type": "subslide"
    }
   },
   "source": [
    "## Feature Visualization \n",
    "\n",
    "### Gradcam Analysis"
   ]
  },
  {
   "cell_type": "raw",
   "metadata": {
    "slideshow": {
     "slide_type": "notes"
    }
   },
   "source": [
    "# Add cells from notebook here\n",
    "\n",
    "1. block of gradcam code\n",
    "2. output of few layers for few images"
   ]
  },
  {
   "cell_type": "markdown",
   "metadata": {
    "slideshow": {
     "slide_type": "subslide"
    }
   },
   "source": [
    "## Feature Visualization \n",
    "\n",
    "### Activation Atlas"
   ]
  },
  {
   "cell_type": "markdown",
   "metadata": {
    "slideshow": {
     "slide_type": "slide"
    }
   },
   "source": [
    "# Extra\n",
    "## Remote Work"
   ]
  },
  {
   "cell_type": "markdown",
   "metadata": {
    "slideshow": {
     "slide_type": "fragment"
    }
   },
   "source": [
    "\n",
    "## Open Source"
   ]
  },
  {
   "cell_type": "markdown",
   "metadata": {
    "slideshow": {
     "slide_type": "slide"
    }
   },
   "source": [
    "# Fin."
   ]
  }
 ],
 "metadata": {
  "celltoolbar": "Slideshow",
  "kernelspec": {
   "display_name": "Python 3",
   "language": "python",
   "name": "python3"
  },
  "language_info": {
   "codemirror_mode": {
    "name": "ipython",
    "version": 3
   },
   "file_extension": ".py",
   "mimetype": "text/x-python",
   "name": "python",
   "nbconvert_exporter": "python",
   "pygments_lexer": "ipython3",
   "version": "3.6.8"
  },
  "livereveal": {
   "font-family": "Lato",
   "footer": "Strata Data Conference 2019 | @nischalhp | @raghothams ",
   "scroll": true,
   "theme": "sky",
   "transition": "none"
  }
 },
 "nbformat": 4,
 "nbformat_minor": 2
}
